{
 "cells": [
  {
   "attachments": {},
   "cell_type": "markdown",
   "metadata": {},
   "source": [
    "# State of Data 2021\n",
    "\n",
    "### Diferenças de gênero na área de Ciência de Dados\n",
    "\n",
    "- Notebook para filtrar/tratar o dataset"
   ]
  },
  {
   "cell_type": "code",
   "execution_count": 203,
   "metadata": {},
   "outputs": [],
   "source": [
    "import pandas as pd"
   ]
  },
  {
   "cell_type": "code",
   "execution_count": 204,
   "metadata": {},
   "outputs": [],
   "source": [
    "# Sugestão de colunas para manter no dataset e posteriormente\n",
    "# limpar dados faltantes, e quem sabe até dropar outras colunas\n",
    "lista_colunas = [\n",
    " \"('P0', 'id')\",\n",
    " \"('P1_a ', 'Idade')\",\n",
    " \"('P1_a_a ', 'Faixa idade')\",\n",
    " \"('P1_b ', 'Genero')\",\n",
    " \"('P1_e ', 'Estado onde mora')\",\n",
    " \"('P1_e_a ', 'uf onde mora')\",\n",
    " \"('P1_e_b ', 'Regiao onde mora')\",\n",
    " \"('P1_g_b ', 'Regiao de origem')\",\n",
    " \"('P1_g_c ', 'Mudou de Estado?')\",\n",
    " \"('P1_h ', 'Nivel de Ensino')\",\n",
    " \"('P1_i ', 'Área de Formação')\",\n",
    " \"('P2_a ', 'Qual sua situação atual de trabalho?')\",\n",
    " \"('P2_b ', 'Setor')\",\n",
    " \"('P2_c ', 'Numero de Funcionarios')\",\n",
    " \"('P2_d ', 'Gestor?')\",\n",
    " \"('P2_e ', 'Cargo como Gestor')\",\n",
    " \"('P2_f ', 'Cargo Atual')\",\n",
    " \"('P2_g ', 'Nivel')\",\n",
    " \"('P2_h ', 'Faixa salarial')\",\n",
    " \"('P2_i ', 'Quanto tempo de experiência na área de dados você tem?')\",\n",
    " \"('P2_j ', 'Quanto tempo de experiência na área de TI/Engenharia de Software você teve antes de começar a trabalhar na área de dados?')\",\n",
    " \"('P2_k ', 'Você está satisfeito na sua empresa atual?')\",\n",
    " \"('P2_l ', 'Qual o principal motivo da sua insatisfação com a empresa atual?')\",\n",
    " \"('P2_l_a ', 'Falta de oportunidade de crescimento no emprego atual')\",\n",
    " \"('P2_l_b ', 'Salário atual não corresponde ao mercado')\",\n",
    " \"('P2_l_c ', 'Não tenho uma boa relação com meu líder/gestor')\",\n",
    " \"('P2_l_d ', 'Gostaria de trabalhar em em outra área de atuação')\",\n",
    " \"('P2_l_e ', 'Gostaria de receber mais benefícios')\",\n",
    " \"('P2_l_f ', 'O clima de trabalho/ambiente não é bom')\",\n",
    " \"('P2_l_g ', 'Falta de maturidade analítica na empresa')\",\n",
    " \"('P2_m ', 'Você participou de entrevistas de emprego nos últimos 6 meses?')\",\n",
    " \"('P2_n ', 'Você pretende mudar de emprego nos próximos 6 meses?')\",\n",
    " \"('P2_o ', 'Quais os principais critérios que você leva em consideração no momento de decidir onde trabalhar?')\",\n",
    " \"('P2_o_a ', 'Remuneração/Salário')\",\n",
    " \"('P2_o_b ', 'Benefícios')\",\n",
    " \"('P2_o_c ', 'Propósito do trabalho e da empresa')\",\n",
    " \"('P2_o_d ', 'Flexibilidade de trabalho remoto')\",\n",
    " \"('P2_o_e ', 'Ambiente e clima de trabalho')\",\n",
    " \"('P2_o_f ', 'Oportunidade de aprendizado e trabalhar com referências na área')\",\n",
    " \"('P2_o_g ', 'Plano de carreira e oportunidades de crescimento profissional')\",\n",
    " \"('P2_o_h ', 'Maturidade da empresa em termos de tecnologia e dados')\",\n",
    " \"('P2_o_i ', 'Qualidade dos gestores e líderes')\",\n",
    " \"('P2_o_j ', 'Reputação que a empresa tem no mercado')\",\n",
    " \"('P2_q ', 'Atualmente qual a sua forma de trabalho?')\",\n",
    " \"('P2_r ', 'Qual a forma de trabalho ideal para você?')\",\n",
    " \"('P2_s ', 'Caso sua empresa decida pelo modelo 100% presencial qual será sua atitude?')\",\n",
    " \"('P5_b ', 'Qual oportunidade você está buscando?')\",\n",
    " \"('P5_c ', 'Há quanto tempo você busca uma oportunidade na área de dados?')\",\n",
    " \"('P5_d ', 'Como tem sido a busca por um emprego na área de dados?')\"]"
   ]
  },
  {
   "cell_type": "code",
   "execution_count": 205,
   "metadata": {},
   "outputs": [
    {
     "name": "stdout",
     "output_type": "stream",
     "text": [
      "(2645, 49)\n"
     ]
    },
    {
     "data": {
      "text/html": [
       "<div>\n",
       "<style scoped>\n",
       "    .dataframe tbody tr th:only-of-type {\n",
       "        vertical-align: middle;\n",
       "    }\n",
       "\n",
       "    .dataframe tbody tr th {\n",
       "        vertical-align: top;\n",
       "    }\n",
       "\n",
       "    .dataframe thead th {\n",
       "        text-align: right;\n",
       "    }\n",
       "</style>\n",
       "<table border=\"1\" class=\"dataframe\">\n",
       "  <thead>\n",
       "    <tr style=\"text-align: right;\">\n",
       "      <th></th>\n",
       "      <th>('P0', 'id')</th>\n",
       "      <th>('P1_a ', 'Idade')</th>\n",
       "      <th>('P1_a_a ', 'Faixa idade')</th>\n",
       "      <th>('P1_b ', 'Genero')</th>\n",
       "      <th>('P1_e ', 'Estado onde mora')</th>\n",
       "      <th>('P1_e_a ', 'uf onde mora')</th>\n",
       "      <th>('P1_e_b ', 'Regiao onde mora')</th>\n",
       "      <th>('P1_g_b ', 'Regiao de origem')</th>\n",
       "      <th>('P1_g_c ', 'Mudou de Estado?')</th>\n",
       "      <th>('P1_h ', 'Nivel de Ensino')</th>\n",
       "      <th>...</th>\n",
       "      <th>('P2_o_g ', 'Plano de carreira e oportunidades de crescimento profissional')</th>\n",
       "      <th>('P2_o_h ', 'Maturidade da empresa em termos de tecnologia e dados')</th>\n",
       "      <th>('P2_o_i ', 'Qualidade dos gestores e líderes')</th>\n",
       "      <th>('P2_o_j ', 'Reputação que a empresa tem no mercado')</th>\n",
       "      <th>('P2_q ', 'Atualmente qual a sua forma de trabalho?')</th>\n",
       "      <th>('P2_r ', 'Qual a forma de trabalho ideal para você?')</th>\n",
       "      <th>('P2_s ', 'Caso sua empresa decida pelo modelo 100% presencial qual será sua atitude?')</th>\n",
       "      <th>('P5_b ', 'Qual oportunidade você está buscando?')</th>\n",
       "      <th>('P5_c ', 'Há quanto tempo você busca uma oportunidade na área de dados?')</th>\n",
       "      <th>('P5_d ', 'Como tem sido a busca por um emprego na área de dados?')</th>\n",
       "    </tr>\n",
       "  </thead>\n",
       "  <tbody>\n",
       "    <tr>\n",
       "      <th>0</th>\n",
       "      <td>qkx4q0ei90wcjxnqkx4q0j3xgf0zn13s</td>\n",
       "      <td>38.0</td>\n",
       "      <td>35-39</td>\n",
       "      <td>Masculino</td>\n",
       "      <td>Ceará (CE)</td>\n",
       "      <td>CE</td>\n",
       "      <td>Nordeste</td>\n",
       "      <td>NaN</td>\n",
       "      <td>0</td>\n",
       "      <td>Pós-graduação</td>\n",
       "      <td>...</td>\n",
       "      <td>0.0</td>\n",
       "      <td>0.0</td>\n",
       "      <td>0.0</td>\n",
       "      <td>0.0</td>\n",
       "      <td>Modelo 100% presencial</td>\n",
       "      <td>Modelo híbrido com dias fixos de trabalho pres...</td>\n",
       "      <td>Vou aceitar e retornar ao modelo 100% presencial.</td>\n",
       "      <td>NaN</td>\n",
       "      <td>NaN</td>\n",
       "      <td>NaN</td>\n",
       "    </tr>\n",
       "    <tr>\n",
       "      <th>1</th>\n",
       "      <td>zdl2n19yhgpnoaco6kkczdl2nwv9zwrt</td>\n",
       "      <td>39.0</td>\n",
       "      <td>35-39</td>\n",
       "      <td>Masculino</td>\n",
       "      <td>Bahia (BA)</td>\n",
       "      <td>BA</td>\n",
       "      <td>Nordeste</td>\n",
       "      <td>Sudeste</td>\n",
       "      <td>1</td>\n",
       "      <td>Pós-graduação</td>\n",
       "      <td>...</td>\n",
       "      <td>0.0</td>\n",
       "      <td>0.0</td>\n",
       "      <td>0.0</td>\n",
       "      <td>0.0</td>\n",
       "      <td>Modelo híbrido flexível (o funcionário tem lib...</td>\n",
       "      <td>Modelo 100% remoto</td>\n",
       "      <td>Vou procurar outra oportunidade no modelo 100%...</td>\n",
       "      <td>NaN</td>\n",
       "      <td>NaN</td>\n",
       "      <td>NaN</td>\n",
       "    </tr>\n",
       "    <tr>\n",
       "      <th>2</th>\n",
       "      <td>vsamqp2un3q7us84mgvsams5fulsmcoh</td>\n",
       "      <td>30.0</td>\n",
       "      <td>30-34</td>\n",
       "      <td>Masculino</td>\n",
       "      <td>Santa Catarina (SC)</td>\n",
       "      <td>SC</td>\n",
       "      <td>Sul</td>\n",
       "      <td>NaN</td>\n",
       "      <td>0</td>\n",
       "      <td>Pós-graduação</td>\n",
       "      <td>...</td>\n",
       "      <td>0.0</td>\n",
       "      <td>0.0</td>\n",
       "      <td>0.0</td>\n",
       "      <td>0.0</td>\n",
       "      <td>Modelo 100% presencial</td>\n",
       "      <td>Modelo 100% remoto</td>\n",
       "      <td>Vou procurar outra oportunidade no modelo híbr...</td>\n",
       "      <td>NaN</td>\n",
       "      <td>NaN</td>\n",
       "      <td>NaN</td>\n",
       "    </tr>\n",
       "    <tr>\n",
       "      <th>3</th>\n",
       "      <td>v31ab41botodnsv31zgg4k34zzojy81l</td>\n",
       "      <td>38.0</td>\n",
       "      <td>35-39</td>\n",
       "      <td>Feminino</td>\n",
       "      <td>São Paulo (SP)</td>\n",
       "      <td>SP</td>\n",
       "      <td>Sudeste</td>\n",
       "      <td>NaN</td>\n",
       "      <td>0</td>\n",
       "      <td>Pós-graduação</td>\n",
       "      <td>...</td>\n",
       "      <td>0.0</td>\n",
       "      <td>0.0</td>\n",
       "      <td>0.0</td>\n",
       "      <td>0.0</td>\n",
       "      <td>Modelo 100% presencial</td>\n",
       "      <td>Modelo híbrido com dias fixos de trabalho pres...</td>\n",
       "      <td>Vou procurar outra oportunidade no modelo híbr...</td>\n",
       "      <td>NaN</td>\n",
       "      <td>NaN</td>\n",
       "      <td>NaN</td>\n",
       "    </tr>\n",
       "    <tr>\n",
       "      <th>4</th>\n",
       "      <td>ubhu8ntvm4xc0sfkdubhu80e973eek0k</td>\n",
       "      <td>36.0</td>\n",
       "      <td>35-39</td>\n",
       "      <td>Masculino</td>\n",
       "      <td>Santa Catarina (SC)</td>\n",
       "      <td>SC</td>\n",
       "      <td>Sul</td>\n",
       "      <td>NaN</td>\n",
       "      <td>0</td>\n",
       "      <td>Pós-graduação</td>\n",
       "      <td>...</td>\n",
       "      <td>0.0</td>\n",
       "      <td>1.0</td>\n",
       "      <td>0.0</td>\n",
       "      <td>0.0</td>\n",
       "      <td>Modelo 100% presencial</td>\n",
       "      <td>Modelo 100% remoto</td>\n",
       "      <td>Vou procurar outra oportunidade no modelo 100%...</td>\n",
       "      <td>NaN</td>\n",
       "      <td>NaN</td>\n",
       "      <td>NaN</td>\n",
       "    </tr>\n",
       "  </tbody>\n",
       "</table>\n",
       "<p>5 rows × 49 columns</p>\n",
       "</div>"
      ],
      "text/plain": [
       "                       ('P0', 'id')  ('P1_a ', 'Idade')  \\\n",
       "0  qkx4q0ei90wcjxnqkx4q0j3xgf0zn13s                38.0   \n",
       "1  zdl2n19yhgpnoaco6kkczdl2nwv9zwrt                39.0   \n",
       "2  vsamqp2un3q7us84mgvsams5fulsmcoh                30.0   \n",
       "3  v31ab41botodnsv31zgg4k34zzojy81l                38.0   \n",
       "4  ubhu8ntvm4xc0sfkdubhu80e973eek0k                36.0   \n",
       "\n",
       "  ('P1_a_a ', 'Faixa idade') ('P1_b ', 'Genero')  \\\n",
       "0                      35-39           Masculino   \n",
       "1                      35-39           Masculino   \n",
       "2                      30-34           Masculino   \n",
       "3                      35-39            Feminino   \n",
       "4                      35-39           Masculino   \n",
       "\n",
       "  ('P1_e ', 'Estado onde mora') ('P1_e_a ', 'uf onde mora')  \\\n",
       "0                    Ceará (CE)                          CE   \n",
       "1                    Bahia (BA)                          BA   \n",
       "2           Santa Catarina (SC)                          SC   \n",
       "3                São Paulo (SP)                          SP   \n",
       "4           Santa Catarina (SC)                          SC   \n",
       "\n",
       "  ('P1_e_b ', 'Regiao onde mora') ('P1_g_b ', 'Regiao de origem')  \\\n",
       "0                        Nordeste                             NaN   \n",
       "1                        Nordeste                         Sudeste   \n",
       "2                             Sul                             NaN   \n",
       "3                         Sudeste                             NaN   \n",
       "4                             Sul                             NaN   \n",
       "\n",
       "   ('P1_g_c ', 'Mudou de Estado?') ('P1_h ', 'Nivel de Ensino')  ...  \\\n",
       "0                                0                Pós-graduação  ...   \n",
       "1                                1                Pós-graduação  ...   \n",
       "2                                0                Pós-graduação  ...   \n",
       "3                                0                Pós-graduação  ...   \n",
       "4                                0                Pós-graduação  ...   \n",
       "\n",
       "  ('P2_o_g ', 'Plano de carreira e oportunidades de crescimento profissional')  \\\n",
       "0                                                0.0                             \n",
       "1                                                0.0                             \n",
       "2                                                0.0                             \n",
       "3                                                0.0                             \n",
       "4                                                0.0                             \n",
       "\n",
       "  ('P2_o_h ', 'Maturidade da empresa em termos de tecnologia e dados')  \\\n",
       "0                                                0.0                     \n",
       "1                                                0.0                     \n",
       "2                                                0.0                     \n",
       "3                                                0.0                     \n",
       "4                                                1.0                     \n",
       "\n",
       "  ('P2_o_i ', 'Qualidade dos gestores e líderes')  \\\n",
       "0                                             0.0   \n",
       "1                                             0.0   \n",
       "2                                             0.0   \n",
       "3                                             0.0   \n",
       "4                                             0.0   \n",
       "\n",
       "  ('P2_o_j ', 'Reputação que a empresa tem no mercado')  \\\n",
       "0                                                0.0      \n",
       "1                                                0.0      \n",
       "2                                                0.0      \n",
       "3                                                0.0      \n",
       "4                                                0.0      \n",
       "\n",
       "   ('P2_q ', 'Atualmente qual a sua forma de trabalho?')  \\\n",
       "0                             Modelo 100% presencial       \n",
       "1  Modelo híbrido flexível (o funcionário tem lib...       \n",
       "2                             Modelo 100% presencial       \n",
       "3                             Modelo 100% presencial       \n",
       "4                             Modelo 100% presencial       \n",
       "\n",
       "  ('P2_r ', 'Qual a forma de trabalho ideal para você?')  \\\n",
       "0  Modelo híbrido com dias fixos de trabalho pres...       \n",
       "1                                 Modelo 100% remoto       \n",
       "2                                 Modelo 100% remoto       \n",
       "3  Modelo híbrido com dias fixos de trabalho pres...       \n",
       "4                                 Modelo 100% remoto       \n",
       "\n",
       "  ('P2_s ', 'Caso sua empresa decida pelo modelo 100% presencial qual será sua atitude?')  \\\n",
       "0  Vou aceitar e retornar ao modelo 100% presencial.                                        \n",
       "1  Vou procurar outra oportunidade no modelo 100%...                                        \n",
       "2  Vou procurar outra oportunidade no modelo híbr...                                        \n",
       "3  Vou procurar outra oportunidade no modelo híbr...                                        \n",
       "4  Vou procurar outra oportunidade no modelo 100%...                                        \n",
       "\n",
       "  ('P5_b ', 'Qual oportunidade você está buscando?')  \\\n",
       "0                                                NaN   \n",
       "1                                                NaN   \n",
       "2                                                NaN   \n",
       "3                                                NaN   \n",
       "4                                                NaN   \n",
       "\n",
       "  ('P5_c ', 'Há quanto tempo você busca uma oportunidade na área de dados?')  \\\n",
       "0                                                NaN                           \n",
       "1                                                NaN                           \n",
       "2                                                NaN                           \n",
       "3                                                NaN                           \n",
       "4                                                NaN                           \n",
       "\n",
       "  ('P5_d ', 'Como tem sido a busca por um emprego na área de dados?')  \n",
       "0                                                NaN                   \n",
       "1                                                NaN                   \n",
       "2                                                NaN                   \n",
       "3                                                NaN                   \n",
       "4                                                NaN                   \n",
       "\n",
       "[5 rows x 49 columns]"
      ]
     },
     "execution_count": 205,
     "metadata": {},
     "output_type": "execute_result"
    }
   ],
   "source": [
    "df = pd.read_csv('State_of_Data_2021-Dataset.csv', usecols=lista_colunas)\n",
    "\n",
    "print(df.shape)\n",
    "df.head()"
   ]
  },
  {
   "cell_type": "code",
   "execution_count": 206,
   "metadata": {},
   "outputs": [
    {
     "name": "stdout",
     "output_type": "stream",
     "text": [
      "<class 'pandas.core.frame.DataFrame'>\n",
      "RangeIndex: 2645 entries, 0 to 2644\n",
      "Data columns (total 49 columns):\n",
      " #   Column                                                                                                                                  Non-Null Count  Dtype  \n",
      "---  ------                                                                                                                                  --------------  -----  \n",
      " 0   ('P0', 'id')                                                                                                                            2645 non-null   object \n",
      " 1   ('P1_a ', 'Idade')                                                                                                                      2617 non-null   float64\n",
      " 2   ('P1_a_a ', 'Faixa idade')                                                                                                              2645 non-null   object \n",
      " 3   ('P1_b ', 'Genero')                                                                                                                     2645 non-null   object \n",
      " 4   ('P1_e ', 'Estado onde mora')                                                                                                           2609 non-null   object \n",
      " 5   ('P1_e_a ', 'uf onde mora')                                                                                                             2609 non-null   object \n",
      " 6   ('P1_e_b ', 'Regiao onde mora')                                                                                                         2645 non-null   object \n",
      " 7   ('P1_g_b ', 'Regiao de origem')                                                                                                         484 non-null    object \n",
      " 8   ('P1_g_c ', 'Mudou de Estado?')                                                                                                         2645 non-null   int64  \n",
      " 9   ('P1_h ', 'Nivel de Ensino')                                                                                                            2645 non-null   object \n",
      " 10  ('P1_i ', 'Área de Formação')                                                                                                           2581 non-null   object \n",
      " 11  ('P2_a ', 'Qual sua situação atual de trabalho?')                                                                                       2645 non-null   object \n",
      " 12  ('P2_b ', 'Setor')                                                                                                                      2365 non-null   object \n",
      " 13  ('P2_c ', 'Numero de Funcionarios')                                                                                                     2365 non-null   object \n",
      " 14  ('P2_d ', 'Gestor?')                                                                                                                    2365 non-null   float64\n",
      " 15  ('P2_e ', 'Cargo como Gestor')                                                                                                          508 non-null    object \n",
      " 16  ('P2_f ', 'Cargo Atual')                                                                                                                1857 non-null   object \n",
      " 17  ('P2_g ', 'Nivel')                                                                                                                      1857 non-null   object \n",
      " 18  ('P2_h ', 'Faixa salarial')                                                                                                             2365 non-null   object \n",
      " 19  ('P2_i ', 'Quanto tempo de experiência na área de dados você tem?')                                                                     2365 non-null   object \n",
      " 20  ('P2_j ', 'Quanto tempo de experiência na área de TI/Engenharia de Software você teve antes de começar a trabalhar na área de dados?')  2365 non-null   object \n",
      " 21  ('P2_k ', 'Você está satisfeito na sua empresa atual?')                                                                                 2362 non-null   float64\n",
      " 22  ('P2_l ', 'Qual o principal motivo da sua insatisfação com a empresa atual?')                                                           612 non-null    object \n",
      " 23  ('P2_l_a ', 'Falta de oportunidade de crescimento no emprego atual')                                                                    612 non-null    float64\n",
      " 24  ('P2_l_b ', 'Salário atual não corresponde ao mercado')                                                                                 612 non-null    float64\n",
      " 25  ('P2_l_c ', 'Não tenho uma boa relação com meu líder/gestor')                                                                           612 non-null    float64\n",
      " 26  ('P2_l_d ', 'Gostaria de trabalhar em em outra área de atuação')                                                                        612 non-null    float64\n",
      " 27  ('P2_l_e ', 'Gostaria de receber mais benefícios')                                                                                      612 non-null    float64\n",
      " 28  ('P2_l_f ', 'O clima de trabalho/ambiente não é bom')                                                                                   612 non-null    float64\n",
      " 29  ('P2_l_g ', 'Falta de maturidade analítica na empresa')                                                                                 612 non-null    float64\n",
      " 30  ('P2_m ', 'Você participou de entrevistas de emprego nos últimos 6 meses?')                                                             2362 non-null   object \n",
      " 31  ('P2_n ', 'Você pretende mudar de emprego nos próximos 6 meses?')                                                                       2365 non-null   object \n",
      " 32  ('P2_o ', 'Quais os principais critérios que você leva em consideração no momento de decidir onde trabalhar?')                          2351 non-null   object \n",
      " 33  ('P2_o_a ', 'Remuneração/Salário')                                                                                                      2360 non-null   float64\n",
      " 34  ('P2_o_b ', 'Benefícios')                                                                                                               2360 non-null   float64\n",
      " 35  ('P2_o_c ', 'Propósito do trabalho e da empresa')                                                                                       2360 non-null   float64\n",
      " 36  ('P2_o_d ', 'Flexibilidade de trabalho remoto')                                                                                         2360 non-null   float64\n",
      " 37  ('P2_o_e ', 'Ambiente e clima de trabalho')                                                                                             2360 non-null   float64\n",
      " 38  ('P2_o_f ', 'Oportunidade de aprendizado e trabalhar com referências na área')                                                          2360 non-null   float64\n",
      " 39  ('P2_o_g ', 'Plano de carreira e oportunidades de crescimento profissional')                                                            2360 non-null   float64\n",
      " 40  ('P2_o_h ', 'Maturidade da empresa em termos de tecnologia e dados')                                                                    2360 non-null   float64\n",
      " 41  ('P2_o_i ', 'Qualidade dos gestores e líderes')                                                                                         2360 non-null   float64\n",
      " 42  ('P2_o_j ', 'Reputação que a empresa tem no mercado')                                                                                   2360 non-null   float64\n",
      " 43  ('P2_q ', 'Atualmente qual a sua forma de trabalho?')                                                                                   2365 non-null   object \n",
      " 44  ('P2_r ', 'Qual a forma de trabalho ideal para você?')                                                                                  2365 non-null   object \n",
      " 45  ('P2_s ', 'Caso sua empresa decida pelo modelo 100% presencial qual será sua atitude?')                                                 2365 non-null   object \n",
      " 46  ('P5_b ', 'Qual oportunidade você está buscando?')                                                                                      157 non-null    object \n",
      " 47  ('P5_c ', 'Há quanto tempo você busca uma oportunidade na área de dados?')                                                              161 non-null    object \n",
      " 48  ('P5_d ', 'Como tem sido a busca por um emprego na área de dados?')                                                                     159 non-null    object \n",
      "dtypes: float64(20), int64(1), object(28)\n",
      "memory usage: 1012.7+ KB\n"
     ]
    }
   ],
   "source": [
    "df.info()"
   ]
  },
  {
   "cell_type": "code",
   "execution_count": 207,
   "metadata": {},
   "outputs": [],
   "source": [
    "# Reformatação dos nomes das colunas para melhor visualização e utilização\n",
    "colunas_nome = [\n",
    " 'id',\n",
    " 'Idade',\n",
    " 'Faixa idade',\n",
    " 'Genero',\n",
    " 'Estado onde mora',\n",
    " 'Uf onde mora',\n",
    " 'Regiao onde mora',\n",
    " 'Regiao de origem',\n",
    " 'Mudou de Estado?',\n",
    " 'Nivel de Ensino',\n",
    " 'Área de Formação',\n",
    " 'Qual sua situação atual de trabalho?',\n",
    " 'Setor',\n",
    " 'Numero de Funcionarios',\n",
    " 'Gestor?',\n",
    " 'Cargo como Gestor',\n",
    " 'Cargo Atual',\n",
    " 'Nivel',\n",
    " 'Faixa salarial',\n",
    " 'Quanto tempo de experiência na área de dados você tem?',\n",
    " 'Quanto tempo de experiência na área de TI/Engenharia de Software você teve antes de começar a trabalhar na área de dados?',\n",
    " 'Você está satisfeito na sua empresa atual?',\n",
    " 'Qual o principal motivo da sua insatisfação com a empresa atual?',\n",
    " 'Falta de oportunidade de crescimento no emprego atual',\n",
    " 'Salário atual não corresponde ao mercado',\n",
    " 'Não tenho uma boa relação com meu líder/gestor',\n",
    " 'Gostaria de trabalhar em em outra área de atuação',\n",
    " 'Gostaria de receber mais benefícios',\n",
    " 'O clima de trabalho/ambiente não é bom',\n",
    " 'Falta de maturidade analítica na empresa',\n",
    " 'Você participou de entrevistas de emprego nos últimos 6 meses?',\n",
    " 'Você pretende mudar de emprego nos próximos 6 meses?',\n",
    " 'Quais os principais critérios que você leva em consideração no momento de decidir onde trabalhar?',\n",
    " 'Remuneração/Salário',\n",
    " 'Benefícios',\n",
    " 'Propósito do trabalho e da empresa',\n",
    " 'Flexibilidade de trabalho remoto',\n",
    " 'Ambiente e clima de trabalho',\n",
    " 'Oportunidade de aprendizado e trabalhar com referências na área',\n",
    " 'Plano de carreira e oportunidades de crescimento profissional',\n",
    " 'Maturidade da empresa em termos de tecnologia e dados',\n",
    " 'Qualidade dos gestores e líderes',\n",
    " 'Reputação que a empresa tem no mercado',\n",
    " 'Atualmente qual a sua forma de trabalho?',\n",
    " 'Qual a forma de trabalho ideal para você?',\n",
    " 'Caso sua empresa decida pelo modelo 100% presencial qual será sua atitude?',\n",
    " 'Qual oportunidade você está buscando?',\n",
    " 'Há quanto tempo você busca uma oportunidade na área de dados?',\n",
    " 'Como tem sido a busca por um emprego na área de dados?']"
   ]
  },
  {
   "cell_type": "code",
   "execution_count": 208,
   "metadata": {},
   "outputs": [
    {
     "data": {
      "text/plain": [
       "['id',\n",
       " 'Idade',\n",
       " 'Faixa idade',\n",
       " 'Genero',\n",
       " 'Estado onde mora',\n",
       " 'Uf onde mora',\n",
       " 'Regiao onde mora',\n",
       " 'Regiao de origem',\n",
       " 'Mudou de Estado?',\n",
       " 'Nivel de Ensino',\n",
       " 'Área de Formação',\n",
       " 'Qual sua situação atual de trabalho?',\n",
       " 'Setor',\n",
       " 'Numero de Funcionarios',\n",
       " 'Gestor?',\n",
       " 'Cargo como Gestor',\n",
       " 'Cargo Atual',\n",
       " 'Nivel',\n",
       " 'Faixa salarial',\n",
       " 'Quanto tempo de experiência na área de dados você tem?',\n",
       " 'Quanto tempo de experiência na área de TI/Engenharia de Software você teve antes de começar a trabalhar na área de dados?',\n",
       " 'Você está satisfeito na sua empresa atual?',\n",
       " 'Qual o principal motivo da sua insatisfação com a empresa atual?',\n",
       " 'Falta de oportunidade de crescimento no emprego atual',\n",
       " 'Salário atual não corresponde ao mercado',\n",
       " 'Não tenho uma boa relação com meu líder/gestor',\n",
       " 'Gostaria de trabalhar em em outra área de atuação',\n",
       " 'Gostaria de receber mais benefícios',\n",
       " 'O clima de trabalho/ambiente não é bom',\n",
       " 'Falta de maturidade analítica na empresa',\n",
       " 'Você participou de entrevistas de emprego nos últimos 6 meses?',\n",
       " 'Você pretende mudar de emprego nos próximos 6 meses?',\n",
       " 'Quais os principais critérios que você leva em consideração no momento de decidir onde trabalhar?',\n",
       " 'Remuneração/Salário',\n",
       " 'Benefícios',\n",
       " 'Propósito do trabalho e da empresa',\n",
       " 'Flexibilidade de trabalho remoto',\n",
       " 'Ambiente e clima de trabalho',\n",
       " 'Oportunidade de aprendizado e trabalhar com referências na área',\n",
       " 'Plano de carreira e oportunidades de crescimento profissional',\n",
       " 'Maturidade da empresa em termos de tecnologia e dados',\n",
       " 'Qualidade dos gestores e líderes',\n",
       " 'Reputação que a empresa tem no mercado',\n",
       " 'Atualmente qual a sua forma de trabalho?',\n",
       " 'Qual a forma de trabalho ideal para você?',\n",
       " 'Caso sua empresa decida pelo modelo 100% presencial qual será sua atitude?',\n",
       " 'Qual oportunidade você está buscando?',\n",
       " 'Há quanto tempo você busca uma oportunidade na área de dados?',\n",
       " 'Como tem sido a busca por um emprego na área de dados?']"
      ]
     },
     "execution_count": 208,
     "metadata": {},
     "output_type": "execute_result"
    }
   ],
   "source": [
    "df.columns = colunas_nome\n",
    "df.columns.to_list()"
   ]
  },
  {
   "attachments": {},
   "cell_type": "markdown",
   "metadata": {},
   "source": [
    "### Limpando o dataset"
   ]
  },
  {
   "attachments": {},
   "cell_type": "markdown",
   "metadata": {},
   "source": [
    "##### Verificando colunas com maior quantidade de valores nulos"
   ]
  },
  {
   "cell_type": "code",
   "execution_count": 209,
   "metadata": {},
   "outputs": [
    {
     "data": {
      "text/plain": [
       "{'Qual oportunidade você está buscando?': 2488,\n",
       " 'Como tem sido a busca por um emprego na área de dados?': 2486,\n",
       " 'Há quanto tempo você busca uma oportunidade na área de dados?': 2484,\n",
       " 'Regiao de origem': 2161,\n",
       " 'Cargo como Gestor': 2137,\n",
       " 'Falta de maturidade analítica na empresa': 2033,\n",
       " 'O clima de trabalho/ambiente não é bom': 2033,\n",
       " 'Gostaria de receber mais benefícios': 2033,\n",
       " 'Gostaria de trabalhar em em outra área de atuação': 2033,\n",
       " 'Não tenho uma boa relação com meu líder/gestor': 2033,\n",
       " 'Falta de oportunidade de crescimento no emprego atual': 2033,\n",
       " 'Qual o principal motivo da sua insatisfação com a empresa atual?': 2033,\n",
       " 'Salário atual não corresponde ao mercado': 2033,\n",
       " 'Cargo Atual': 788,\n",
       " 'Nivel': 788,\n",
       " 'Quais os principais critérios que você leva em consideração no momento de decidir onde trabalhar?': 294,\n",
       " 'Qualidade dos gestores e líderes': 285,\n",
       " 'Plano de carreira e oportunidades de crescimento profissional': 285,\n",
       " 'Benefícios': 285,\n",
       " 'Propósito do trabalho e da empresa': 285,\n",
       " 'Flexibilidade de trabalho remoto': 285,\n",
       " 'Ambiente e clima de trabalho': 285,\n",
       " 'Oportunidade de aprendizado e trabalhar com referências na área': 285,\n",
       " 'Remuneração/Salário': 285,\n",
       " 'Maturidade da empresa em termos de tecnologia e dados': 285,\n",
       " 'Reputação que a empresa tem no mercado': 285,\n",
       " 'Você está satisfeito na sua empresa atual?': 283,\n",
       " 'Você participou de entrevistas de emprego nos últimos 6 meses?': 283,\n",
       " 'Atualmente qual a sua forma de trabalho?': 280,\n",
       " 'Qual a forma de trabalho ideal para você?': 280,\n",
       " 'Caso sua empresa decida pelo modelo 100% presencial qual será sua atitude?': 280,\n",
       " 'Numero de Funcionarios': 280,\n",
       " 'Você pretende mudar de emprego nos próximos 6 meses?': 280,\n",
       " 'Gestor?': 280,\n",
       " 'Quanto tempo de experiência na área de TI/Engenharia de Software você teve antes de começar a trabalhar na área de dados?': 280,\n",
       " 'Quanto tempo de experiência na área de dados você tem?': 280,\n",
       " 'Faixa salarial': 280,\n",
       " 'Setor': 280,\n",
       " 'Área de Formação': 64,\n",
       " 'Estado onde mora': 36,\n",
       " 'Uf onde mora': 36,\n",
       " 'Idade': 28,\n",
       " 'Regiao onde mora': 0,\n",
       " 'Mudou de Estado?': 0,\n",
       " 'Nivel de Ensino': 0,\n",
       " 'Qual sua situação atual de trabalho?': 0,\n",
       " 'Genero': 0,\n",
       " 'Faixa idade': 0,\n",
       " 'id': 0}"
      ]
     },
     "execution_count": 209,
     "metadata": {},
     "output_type": "execute_result"
    }
   ],
   "source": [
    "df.isnull().sum().sort_values(ascending=False).to_dict()"
   ]
  },
  {
   "attachments": {},
   "cell_type": "markdown",
   "metadata": {},
   "source": [
    "##### Removendo colunas com mais de 90% de valores nulos"
   ]
  },
  {
   "cell_type": "code",
   "execution_count": 210,
   "metadata": {},
   "outputs": [
    {
     "data": {
      "text/plain": [
       "(2645, 46)"
      ]
     },
     "execution_count": 210,
     "metadata": {},
     "output_type": "execute_result"
    }
   ],
   "source": [
    "df_limpo = df.drop(columns=['Qual oportunidade você está buscando?',\n",
    "                            'Como tem sido a busca por um emprego na área de dados?',\n",
    "                            'Há quanto tempo você busca uma oportunidade na área de dados?'])\n",
    "\n",
    "df_limpo.shape"
   ]
  },
  {
   "cell_type": "code",
   "execution_count": 211,
   "metadata": {},
   "outputs": [
    {
     "data": {
      "text/plain": [
       "Regiao de origem                                                    2161\n",
       "Cargo como Gestor                                                   2137\n",
       "Falta de oportunidade de crescimento no emprego atual               2033\n",
       "O clima de trabalho/ambiente não é bom                              2033\n",
       "Gostaria de trabalhar em em outra área de atuação                   2033\n",
       "Não tenho uma boa relação com meu líder/gestor                      2033\n",
       "Salário atual não corresponde ao mercado                            2033\n",
       "Falta de maturidade analítica na empresa                            2033\n",
       "Qual o principal motivo da sua insatisfação com a empresa atual?    2033\n",
       "Gostaria de receber mais benefícios                                 2033\n",
       "dtype: int64"
      ]
     },
     "execution_count": 211,
     "metadata": {},
     "output_type": "execute_result"
    }
   ],
   "source": [
    "df_limpo.isnull().sum().sort_values(ascending=False).head(10)"
   ]
  },
  {
   "attachments": {},
   "cell_type": "markdown",
   "metadata": {},
   "source": [
    "##### Tratando: Região de Origem"
   ]
  },
  {
   "cell_type": "code",
   "execution_count": 212,
   "metadata": {},
   "outputs": [
    {
     "name": "stdout",
     "output_type": "stream",
     "text": [
      "0    2161\n",
      "1     484\n",
      "Name: Mudou de Estado?, dtype: int64\n"
     ]
    },
    {
     "data": {
      "text/plain": [
       "2161"
      ]
     },
     "execution_count": 212,
     "metadata": {},
     "output_type": "execute_result"
    }
   ],
   "source": [
    "print(df_limpo['Mudou de Estado?'].value_counts())\n",
    "df_limpo['Regiao de origem'].isnull().sum()"
   ]
  },
  {
   "attachments": {},
   "cell_type": "markdown",
   "metadata": {},
   "source": [
    "Na coluna 'Regiao de origem', a quantidade de dados nulos é a mesma da quantidade de pessoas que não mudaram de estado. Por isso, assumimos que a região de origem nesse caso é a mesma onde mora."
   ]
  },
  {
   "cell_type": "code",
   "execution_count": 213,
   "metadata": {},
   "outputs": [
    {
     "data": {
      "text/plain": [
       "array(['Nordeste', 'Sul', 'Sudeste', 'Centro-oeste', 'Norte', 'Exterior'],\n",
       "      dtype=object)"
      ]
     },
     "execution_count": 213,
     "metadata": {},
     "output_type": "execute_result"
    }
   ],
   "source": [
    "df_limpo['Regiao onde mora'].unique()"
   ]
  },
  {
   "attachments": {},
   "cell_type": "markdown",
   "metadata": {},
   "source": [
    "Preenchendo os dados faltantes com as informações da coluna anterior, 'Regiao onde mora'."
   ]
  },
  {
   "cell_type": "code",
   "execution_count": 214,
   "metadata": {},
   "outputs": [
    {
     "name": "stdout",
     "output_type": "stream",
     "text": [
      "['Sudeste' 'Sul' 'Norte' 'Nordeste' 'Centro-oeste' nan]\n"
     ]
    },
    {
     "data": {
      "text/plain": [
       "3"
      ]
     },
     "execution_count": 214,
     "metadata": {},
     "output_type": "execute_result"
    }
   ],
   "source": [
    "df_limpo['Regiao de origem'].fillna(method='bfill', inplace=True)\n",
    "print(df_limpo['Regiao de origem'].unique())\n",
    "df_limpo['Regiao de origem'].isnull().sum()"
   ]
  },
  {
   "attachments": {},
   "cell_type": "markdown",
   "metadata": {},
   "source": [
    "- 3 valores não foram preenchidos"
   ]
  },
  {
   "cell_type": "code",
   "execution_count": 215,
   "metadata": {},
   "outputs": [
    {
     "data": {
      "text/html": [
       "<div>\n",
       "<style scoped>\n",
       "    .dataframe tbody tr th:only-of-type {\n",
       "        vertical-align: middle;\n",
       "    }\n",
       "\n",
       "    .dataframe tbody tr th {\n",
       "        vertical-align: top;\n",
       "    }\n",
       "\n",
       "    .dataframe thead th {\n",
       "        text-align: right;\n",
       "    }\n",
       "</style>\n",
       "<table border=\"1\" class=\"dataframe\">\n",
       "  <thead>\n",
       "    <tr style=\"text-align: right;\">\n",
       "      <th></th>\n",
       "      <th>id</th>\n",
       "      <th>Idade</th>\n",
       "      <th>Faixa idade</th>\n",
       "      <th>Genero</th>\n",
       "      <th>Estado onde mora</th>\n",
       "      <th>Uf onde mora</th>\n",
       "      <th>Regiao onde mora</th>\n",
       "      <th>Regiao de origem</th>\n",
       "      <th>Mudou de Estado?</th>\n",
       "      <th>Nivel de Ensino</th>\n",
       "      <th>...</th>\n",
       "      <th>Flexibilidade de trabalho remoto</th>\n",
       "      <th>Ambiente e clima de trabalho</th>\n",
       "      <th>Oportunidade de aprendizado e trabalhar com referências na área</th>\n",
       "      <th>Plano de carreira e oportunidades de crescimento profissional</th>\n",
       "      <th>Maturidade da empresa em termos de tecnologia e dados</th>\n",
       "      <th>Qualidade dos gestores e líderes</th>\n",
       "      <th>Reputação que a empresa tem no mercado</th>\n",
       "      <th>Atualmente qual a sua forma de trabalho?</th>\n",
       "      <th>Qual a forma de trabalho ideal para você?</th>\n",
       "      <th>Caso sua empresa decida pelo modelo 100% presencial qual será sua atitude?</th>\n",
       "    </tr>\n",
       "  </thead>\n",
       "  <tbody>\n",
       "    <tr>\n",
       "      <th>2642</th>\n",
       "      <td>01fncs8qbhl9zx01fncs8rqib2zl3d18</td>\n",
       "      <td>24.0</td>\n",
       "      <td>22-24</td>\n",
       "      <td>Masculino</td>\n",
       "      <td>Santa Catarina (SC)</td>\n",
       "      <td>SC</td>\n",
       "      <td>Sul</td>\n",
       "      <td>NaN</td>\n",
       "      <td>0</td>\n",
       "      <td>Graduação/Bacharelado</td>\n",
       "      <td>...</td>\n",
       "      <td>0.0</td>\n",
       "      <td>0.0</td>\n",
       "      <td>0.0</td>\n",
       "      <td>0.0</td>\n",
       "      <td>0.0</td>\n",
       "      <td>0.0</td>\n",
       "      <td>0.0</td>\n",
       "      <td>Modelo 100% remoto</td>\n",
       "      <td>Modelo 100% remoto</td>\n",
       "      <td>Vou procurar outra oportunidade no modelo 100%...</td>\n",
       "    </tr>\n",
       "    <tr>\n",
       "      <th>2643</th>\n",
       "      <td>075h3v2z19if04yn7o075h3vhifl38rw</td>\n",
       "      <td>38.0</td>\n",
       "      <td>35-39</td>\n",
       "      <td>Masculino</td>\n",
       "      <td>Rio de Janeiro (RJ)</td>\n",
       "      <td>RJ</td>\n",
       "      <td>Sudeste</td>\n",
       "      <td>NaN</td>\n",
       "      <td>0</td>\n",
       "      <td>Graduação/Bacharelado</td>\n",
       "      <td>...</td>\n",
       "      <td>NaN</td>\n",
       "      <td>NaN</td>\n",
       "      <td>NaN</td>\n",
       "      <td>NaN</td>\n",
       "      <td>NaN</td>\n",
       "      <td>NaN</td>\n",
       "      <td>NaN</td>\n",
       "      <td>NaN</td>\n",
       "      <td>NaN</td>\n",
       "      <td>NaN</td>\n",
       "    </tr>\n",
       "    <tr>\n",
       "      <th>2644</th>\n",
       "      <td>037usz1h2yip96dgil4mhj037uszw1gk</td>\n",
       "      <td>27.0</td>\n",
       "      <td>25-29</td>\n",
       "      <td>Feminino</td>\n",
       "      <td>Minas Gerais (MG)</td>\n",
       "      <td>MG</td>\n",
       "      <td>Sudeste</td>\n",
       "      <td>NaN</td>\n",
       "      <td>0</td>\n",
       "      <td>Pós-graduação</td>\n",
       "      <td>...</td>\n",
       "      <td>NaN</td>\n",
       "      <td>NaN</td>\n",
       "      <td>NaN</td>\n",
       "      <td>NaN</td>\n",
       "      <td>NaN</td>\n",
       "      <td>NaN</td>\n",
       "      <td>NaN</td>\n",
       "      <td>NaN</td>\n",
       "      <td>NaN</td>\n",
       "      <td>NaN</td>\n",
       "    </tr>\n",
       "  </tbody>\n",
       "</table>\n",
       "<p>3 rows × 46 columns</p>\n",
       "</div>"
      ],
      "text/plain": [
       "                                    id  Idade Faixa idade     Genero  \\\n",
       "2642  01fncs8qbhl9zx01fncs8rqib2zl3d18   24.0       22-24  Masculino   \n",
       "2643  075h3v2z19if04yn7o075h3vhifl38rw   38.0       35-39  Masculino   \n",
       "2644  037usz1h2yip96dgil4mhj037uszw1gk   27.0       25-29   Feminino   \n",
       "\n",
       "         Estado onde mora Uf onde mora Regiao onde mora Regiao de origem  \\\n",
       "2642  Santa Catarina (SC)           SC              Sul              NaN   \n",
       "2643  Rio de Janeiro (RJ)           RJ          Sudeste              NaN   \n",
       "2644    Minas Gerais (MG)           MG          Sudeste              NaN   \n",
       "\n",
       "      Mudou de Estado?        Nivel de Ensino  ...  \\\n",
       "2642                 0  Graduação/Bacharelado  ...   \n",
       "2643                 0  Graduação/Bacharelado  ...   \n",
       "2644                 0          Pós-graduação  ...   \n",
       "\n",
       "     Flexibilidade de trabalho remoto Ambiente e clima de trabalho  \\\n",
       "2642                              0.0                          0.0   \n",
       "2643                              NaN                          NaN   \n",
       "2644                              NaN                          NaN   \n",
       "\n",
       "     Oportunidade de aprendizado e trabalhar com referências na área  \\\n",
       "2642                                                0.0                \n",
       "2643                                                NaN                \n",
       "2644                                                NaN                \n",
       "\n",
       "     Plano de carreira e oportunidades de crescimento profissional  \\\n",
       "2642                                                0.0              \n",
       "2643                                                NaN              \n",
       "2644                                                NaN              \n",
       "\n",
       "      Maturidade da empresa em termos de tecnologia e dados  \\\n",
       "2642                                                0.0       \n",
       "2643                                                NaN       \n",
       "2644                                                NaN       \n",
       "\n",
       "     Qualidade dos gestores e líderes Reputação que a empresa tem no mercado  \\\n",
       "2642                              0.0                                    0.0   \n",
       "2643                              NaN                                    NaN   \n",
       "2644                              NaN                                    NaN   \n",
       "\n",
       "     Atualmente qual a sua forma de trabalho?  \\\n",
       "2642                       Modelo 100% remoto   \n",
       "2643                                      NaN   \n",
       "2644                                      NaN   \n",
       "\n",
       "     Qual a forma de trabalho ideal para você?  \\\n",
       "2642                        Modelo 100% remoto   \n",
       "2643                                       NaN   \n",
       "2644                                       NaN   \n",
       "\n",
       "     Caso sua empresa decida pelo modelo 100% presencial qual será sua atitude?  \n",
       "2642  Vou procurar outra oportunidade no modelo 100%...                          \n",
       "2643                                                NaN                          \n",
       "2644                                                NaN                          \n",
       "\n",
       "[3 rows x 46 columns]"
      ]
     },
     "execution_count": 215,
     "metadata": {},
     "output_type": "execute_result"
    }
   ],
   "source": [
    "df_limpo[df_limpo['Regiao de origem'].isnull()]"
   ]
  },
  {
   "cell_type": "code",
   "execution_count": 250,
   "metadata": {},
   "outputs": [
    {
     "data": {
      "text/html": [
       "<div>\n",
       "<style scoped>\n",
       "    .dataframe tbody tr th:only-of-type {\n",
       "        vertical-align: middle;\n",
       "    }\n",
       "\n",
       "    .dataframe tbody tr th {\n",
       "        vertical-align: top;\n",
       "    }\n",
       "\n",
       "    .dataframe thead th {\n",
       "        text-align: right;\n",
       "    }\n",
       "</style>\n",
       "<table border=\"1\" class=\"dataframe\">\n",
       "  <thead>\n",
       "    <tr style=\"text-align: right;\">\n",
       "      <th></th>\n",
       "      <th>Regiao de origem</th>\n",
       "    </tr>\n",
       "  </thead>\n",
       "  <tbody>\n",
       "    <tr>\n",
       "      <th>2642</th>\n",
       "      <td>Sul</td>\n",
       "    </tr>\n",
       "    <tr>\n",
       "      <th>2643</th>\n",
       "      <td>Sudeste</td>\n",
       "    </tr>\n",
       "    <tr>\n",
       "      <th>2644</th>\n",
       "      <td>Sudeste</td>\n",
       "    </tr>\n",
       "  </tbody>\n",
       "</table>\n",
       "</div>"
      ],
      "text/plain": [
       "     Regiao de origem\n",
       "2642              Sul\n",
       "2643          Sudeste\n",
       "2644          Sudeste"
      ]
     },
     "execution_count": 250,
     "metadata": {},
     "output_type": "execute_result"
    }
   ],
   "source": [
    "# Tratamento manual dos 'nan' não corrigidos pelo método .fillna(), de acordo com 'Região onde mora'\n",
    "df_limpo.loc[2642,['Regiao de origem']] = 'Sul'\n",
    "df_limpo.loc[2643,['Regiao de origem']] = 'Sudeste'\n",
    "df_limpo.loc[2644,['Regiao de origem']] = 'Sudeste'\n",
    "df_limpo.loc[2642:2644,['Regiao de origem']]"
   ]
  },
  {
   "cell_type": "code",
   "execution_count": 217,
   "metadata": {},
   "outputs": [
    {
     "data": {
      "text/plain": [
       "Cargo como Gestor                                        2137\n",
       "Falta de oportunidade de crescimento no emprego atual    2033\n",
       "Gostaria de receber mais benefícios                      2033\n",
       "Não tenho uma boa relação com meu líder/gestor           2033\n",
       "Salário atual não corresponde ao mercado                 2033\n",
       "dtype: int64"
      ]
     },
     "execution_count": 217,
     "metadata": {},
     "output_type": "execute_result"
    }
   ],
   "source": [
    "df_limpo.isnull().sum().sort_values(ascending=False).head()"
   ]
  },
  {
   "attachments": {},
   "cell_type": "markdown",
   "metadata": {},
   "source": [
    "##### Cargo como gestor."
   ]
  },
  {
   "cell_type": "code",
   "execution_count": 218,
   "metadata": {},
   "outputs": [
    {
     "name": "stdout",
     "output_type": "stream",
     "text": [
      "0.0    1857\n",
      "1.0     508\n",
      "Name: Gestor?, dtype: int64\n"
     ]
    },
    {
     "data": {
      "text/plain": [
       "508"
      ]
     },
     "execution_count": 218,
     "metadata": {},
     "output_type": "execute_result"
    }
   ],
   "source": [
    "print(df_limpo['Gestor?'].value_counts())\n",
    "df_limpo['Cargo como Gestor'].value_counts().sum()"
   ]
  },
  {
   "attachments": {},
   "cell_type": "markdown",
   "metadata": {},
   "source": [
    "Nessa coluna, percebemos que os valores preenchidos são iguais aos valores de pessoas que se identificaram como gestoras.\n",
    "\n",
    "A escolha do grupo foi aplicar 'NdA' como padrão para os nulos, já que os valores são strings."
   ]
  },
  {
   "attachments": {},
   "cell_type": "markdown",
   "metadata": {},
   "source": []
  },
  {
   "cell_type": "code",
   "execution_count": 219,
   "metadata": {},
   "outputs": [
    {
     "data": {
      "text/plain": [
       "array(['Supervisor/Coordenador',\n",
       "       'Sócio ou C-level (CEO, CDO, CIO, CTO etc)',\n",
       "       'Gerente/Head/Diretor/VP', 'Team Leader/Tech Leader', nan],\n",
       "      dtype=object)"
      ]
     },
     "execution_count": 219,
     "metadata": {},
     "output_type": "execute_result"
    }
   ],
   "source": [
    "df_limpo['Cargo como Gestor'].unique()"
   ]
  },
  {
   "cell_type": "code",
   "execution_count": 220,
   "metadata": {},
   "outputs": [
    {
     "name": "stdout",
     "output_type": "stream",
     "text": [
      "['Supervisor/Coordenador' 'Sócio ou C-level (CEO, CDO, CIO, CTO etc)'\n",
      " 'Gerente/Head/Diretor/VP' 'Team Leader/Tech Leader' 'NdA']\n"
     ]
    },
    {
     "data": {
      "text/plain": [
       "0"
      ]
     },
     "execution_count": 220,
     "metadata": {},
     "output_type": "execute_result"
    }
   ],
   "source": [
    "df_limpo['Cargo como Gestor'] = df_limpo['Cargo como Gestor'].fillna('NdA')\n",
    "print(df_limpo['Cargo como Gestor'].unique())\n",
    "df_limpo['Cargo como Gestor'].isnull().sum()"
   ]
  },
  {
   "cell_type": "code",
   "execution_count": 222,
   "metadata": {},
   "outputs": [
    {
     "data": {
      "text/plain": [
       "Falta de oportunidade de crescimento no emprego atual               2033\n",
       "Gostaria de trabalhar em em outra área de atuação                   2033\n",
       "Salário atual não corresponde ao mercado                            2033\n",
       "Gostaria de receber mais benefícios                                 2033\n",
       "Qual o principal motivo da sua insatisfação com a empresa atual?    2033\n",
       "O clima de trabalho/ambiente não é bom                              2033\n",
       "Falta de maturidade analítica na empresa                            2033\n",
       "Não tenho uma boa relação com meu líder/gestor                      2033\n",
       "Nivel                                                                788\n",
       "Cargo Atual                                                          788\n",
       "dtype: int64"
      ]
     },
     "execution_count": 222,
     "metadata": {},
     "output_type": "execute_result"
    }
   ],
   "source": [
    "df_limpo.isnull().sum().sort_values(ascending=False).head(10)"
   ]
  },
  {
   "attachments": {},
   "cell_type": "markdown",
   "metadata": {},
   "source": [
    "##### Tratando a coluna 'Qual o principal motivo da sua insatisfação com a empresa atual?'\n"
   ]
  },
  {
   "cell_type": "code",
   "execution_count": 223,
   "metadata": {},
   "outputs": [
    {
     "name": "stdout",
     "output_type": "stream",
     "text": [
      "1.0    1750\n",
      "0.0     612\n",
      "Name: Você está satisfeito na sua empresa atual?, dtype: int64\n"
     ]
    },
    {
     "data": {
      "text/plain": [
       "612"
      ]
     },
     "execution_count": 223,
     "metadata": {},
     "output_type": "execute_result"
    }
   ],
   "source": [
    "print(df_limpo['Você está satisfeito na sua empresa atual?'].value_counts())\n",
    "df_limpo['Qual o principal motivo da sua insatisfação com a empresa atual?'].value_counts().sum()"
   ]
  },
  {
   "attachments": {},
   "cell_type": "markdown",
   "metadata": {},
   "source": [
    "A quantidade de respostas preenchidas é a mesma de pessoas que afirmaram estarem insatisfeitas.\n",
    "Por se tratar de uma coluna de valores do tipo string, substituímos por 'NdA'"
   ]
  },
  {
   "cell_type": "code",
   "execution_count": 224,
   "metadata": {},
   "outputs": [
    {
     "data": {
      "text/plain": [
       "0"
      ]
     },
     "execution_count": 224,
     "metadata": {},
     "output_type": "execute_result"
    }
   ],
   "source": [
    "df_limpo['Qual o principal motivo da sua insatisfação com a empresa atual?'].fillna('NdA', inplace=True)\n",
    "df_limpo['Qual o principal motivo da sua insatisfação com a empresa atual?'].isnull().sum()"
   ]
  },
  {
   "cell_type": "code",
   "execution_count": 226,
   "metadata": {},
   "outputs": [
    {
     "data": {
      "text/plain": [
       "Falta de oportunidade de crescimento no emprego atual                                                2033\n",
       "Não tenho uma boa relação com meu líder/gestor                                                       2033\n",
       "Gostaria de trabalhar em em outra área de atuação                                                    2033\n",
       "Gostaria de receber mais benefícios                                                                  2033\n",
       "O clima de trabalho/ambiente não é bom                                                               2033\n",
       "Falta de maturidade analítica na empresa                                                             2033\n",
       "Salário atual não corresponde ao mercado                                                             2033\n",
       "Cargo Atual                                                                                           788\n",
       "Nivel                                                                                                 788\n",
       "Quais os principais critérios que você leva em consideração no momento de decidir onde trabalhar?     294\n",
       "dtype: int64"
      ]
     },
     "execution_count": 226,
     "metadata": {},
     "output_type": "execute_result"
    }
   ],
   "source": [
    "df_limpo.isnull().sum().sort_values(ascending=False).head(10)"
   ]
  },
  {
   "attachments": {},
   "cell_type": "markdown",
   "metadata": {},
   "source": [
    "##### Tratando valores nulos em questões de múltipla escolha\n",
    "Para as questões do motivo de insatisfação com o trabalho/empresa só se aplicam aos que afirmaram estar insatisfeitos com o mesmo. Portanto, escolhemos assumir os valores faltantes como -1.0, os quais seriam os satisfeitos onde a pergunta não se aplicaria.\n",
    "\n",
    "Para as questões de motivos de consideração para escolher um emprego, decidimos por preencher os valores faltantes com 0.0, onde aquele motivo não se aplicaria para aquele respondente."
   ]
  },
  {
   "cell_type": "code",
   "execution_count": 227,
   "metadata": {},
   "outputs": [
    {
     "data": {
      "text/plain": [
       "array([nan,  0.,  1.])"
      ]
     },
     "execution_count": 227,
     "metadata": {},
     "output_type": "execute_result"
    }
   ],
   "source": [
    "df_limpo['Falta de oportunidade de crescimento no emprego atual'].unique()"
   ]
  },
  {
   "cell_type": "code",
   "execution_count": 228,
   "metadata": {},
   "outputs": [],
   "source": [
    "\n",
    "questao1 = ['Qual o principal motivo da sua insatisfação com a empresa atual?',\n",
    " 'Falta de oportunidade de crescimento no emprego atual',\n",
    " 'Salário atual não corresponde ao mercado',\n",
    " 'Não tenho uma boa relação com meu líder/gestor',\n",
    " 'Gostaria de trabalhar em em outra área de atuação',\n",
    " 'Gostaria de receber mais benefícios',\n",
    " 'O clima de trabalho/ambiente não é bom',\n",
    " 'Falta de maturidade analítica na empresa']\n",
    "\n",
    "questao2 = ['Quais os principais critérios que você leva em consideração no momento de decidir onde trabalhar?',\n",
    " 'Remuneração/Salário',\n",
    " 'Benefícios',\n",
    " 'Propósito do trabalho e da empresa',\n",
    " 'Flexibilidade de trabalho remoto',\n",
    " 'Ambiente e clima de trabalho',\n",
    " 'Oportunidade de aprendizado e trabalhar com referências na área',\n",
    " 'Plano de carreira e oportunidades de crescimento profissional',\n",
    " 'Maturidade da empresa em termos de tecnologia e dados',\n",
    " 'Qualidade dos gestores e líderes',\n",
    " 'Reputação que a empresa tem no mercado']\n",
    "\n",
    "df_limpo[questao1[1:]] = df_limpo[questao1[1:]].fillna(-1.0)\n",
    "df_limpo[questao2[1:]] = df_limpo[questao2[1:]].fillna(0.0)"
   ]
  },
  {
   "cell_type": "code",
   "execution_count": 229,
   "metadata": {},
   "outputs": [
    {
     "data": {
      "text/plain": [
       "array([-1.,  0.,  1.])"
      ]
     },
     "execution_count": 229,
     "metadata": {},
     "output_type": "execute_result"
    }
   ],
   "source": [
    "df_limpo['Falta de oportunidade de crescimento no emprego atual'].unique()"
   ]
  },
  {
   "cell_type": "code",
   "execution_count": 232,
   "metadata": {},
   "outputs": [
    {
     "data": {
      "text/plain": [
       "{'Nivel': 788,\n",
       " 'Cargo Atual': 788,\n",
       " 'Quais os principais critérios que você leva em consideração no momento de decidir onde trabalhar?': 294,\n",
       " 'Você está satisfeito na sua empresa atual?': 283,\n",
       " 'Você participou de entrevistas de emprego nos últimos 6 meses?': 283,\n",
       " 'Caso sua empresa decida pelo modelo 100% presencial qual será sua atitude?': 280,\n",
       " 'Setor': 280,\n",
       " 'Quanto tempo de experiência na área de TI/Engenharia de Software você teve antes de começar a trabalhar na área de dados?': 280,\n",
       " 'Quanto tempo de experiência na área de dados você tem?': 280,\n",
       " 'Faixa salarial': 280,\n",
       " 'Gestor?': 280,\n",
       " 'Numero de Funcionarios': 280,\n",
       " 'Você pretende mudar de emprego nos próximos 6 meses?': 280,\n",
       " 'Atualmente qual a sua forma de trabalho?': 280,\n",
       " 'Qual a forma de trabalho ideal para você?': 280,\n",
       " 'Área de Formação': 64,\n",
       " 'Uf onde mora': 36,\n",
       " 'Estado onde mora': 36,\n",
       " 'Idade': 28,\n",
       " 'Regiao de origem': 3,\n",
       " 'Flexibilidade de trabalho remoto': 0,\n",
       " 'Remuneração/Salário': 0,\n",
       " 'Benefícios': 0,\n",
       " 'Propósito do trabalho e da empresa': 0,\n",
       " 'Plano de carreira e oportunidades de crescimento profissional': 0}"
      ]
     },
     "execution_count": 232,
     "metadata": {},
     "output_type": "execute_result"
    }
   ],
   "source": [
    "df_limpo.isnull().sum().sort_values(ascending=False).head(25).to_dict()"
   ]
  },
  {
   "attachments": {},
   "cell_type": "markdown",
   "metadata": {},
   "source": [
    "#### Colunas relacionadas ao emprego atual."
   ]
  },
  {
   "attachments": {},
   "cell_type": "markdown",
   "metadata": {},
   "source": [
    "Nível e Cargo Atual são strings, portanto substituímos por 'NdA'."
   ]
  },
  {
   "cell_type": "code",
   "execution_count": 233,
   "metadata": {},
   "outputs": [
    {
     "name": "stdout",
     "output_type": "stream",
     "text": [
      "[nan 'Sênior' 'Pleno' 'Júnior']\n"
     ]
    },
    {
     "data": {
      "text/plain": [
       "array([nan, 'Engenheiro de Dados/Data Engineer',\n",
       "       'Cientista de Dados/Data Scientist', 'Técnico',\n",
       "       'Analista de BI/BI Analyst/Analytics Engineer',\n",
       "       'Analista de Negócios/Business Analyst', 'Analista de Marketing',\n",
       "       'Analista de Dados/Data Analyst',\n",
       "       'Desenvolvedor ou Engenheiro de Software',\n",
       "       'Analista Administrativo',\n",
       "       'Engenheiro de Machine Learning/ML Engineer',\n",
       "       'Outras Engenharias (não inclui dev)',\n",
       "       'DBA/Administrador de Banco de Dados', 'Outro', 'Professor',\n",
       "       'Estatístico', 'Analista de Sistemas/Analista de TI',\n",
       "       'Analista de Inteligência de Mercado/Market Intelligence',\n",
       "       'Arquiteto de Dados', 'Suporte Técnico', 'Arquiteto de dados',\n",
       "       'Product Manager'], dtype=object)"
      ]
     },
     "execution_count": 233,
     "metadata": {},
     "output_type": "execute_result"
    }
   ],
   "source": [
    "print(df_limpo['Nivel'].unique())\n",
    "df_limpo['Cargo Atual'].unique()\n"
   ]
  },
  {
   "cell_type": "code",
   "execution_count": 234,
   "metadata": {},
   "outputs": [
    {
     "name": "stdout",
     "output_type": "stream",
     "text": [
      "['NdA' 'Sênior' 'Pleno' 'Júnior']\n"
     ]
    },
    {
     "data": {
      "text/plain": [
       "0"
      ]
     },
     "execution_count": 234,
     "metadata": {},
     "output_type": "execute_result"
    }
   ],
   "source": [
    "df_limpo['Nivel'] = df_limpo['Nivel'].fillna('NdA')\n",
    "df_limpo['Cargo Atual'] = df_limpo['Cargo Atual'].fillna('NdA')\n",
    "print(df_limpo['Nivel'].unique())\n",
    "df_limpo['Cargo Atual'].isnull().sum()"
   ]
  },
  {
   "cell_type": "code",
   "execution_count": 235,
   "metadata": {},
   "outputs": [
    {
     "data": {
      "text/plain": [
       "{'Quais os principais critérios que você leva em consideração no momento de decidir onde trabalhar?': 294,\n",
       " 'Você participou de entrevistas de emprego nos últimos 6 meses?': 283,\n",
       " 'Você está satisfeito na sua empresa atual?': 283,\n",
       " 'Setor': 280,\n",
       " 'Você pretende mudar de emprego nos próximos 6 meses?': 280,\n",
       " 'Quanto tempo de experiência na área de TI/Engenharia de Software você teve antes de começar a trabalhar na área de dados?': 280,\n",
       " 'Quanto tempo de experiência na área de dados você tem?': 280,\n",
       " 'Faixa salarial': 280,\n",
       " 'Numero de Funcionarios': 280,\n",
       " 'Caso sua empresa decida pelo modelo 100% presencial qual será sua atitude?': 280,\n",
       " 'Gestor?': 280,\n",
       " 'Atualmente qual a sua forma de trabalho?': 280,\n",
       " 'Qual a forma de trabalho ideal para você?': 280,\n",
       " 'Área de Formação': 64,\n",
       " 'Uf onde mora': 36,\n",
       " 'Estado onde mora': 36,\n",
       " 'Idade': 28,\n",
       " 'Regiao de origem': 3,\n",
       " 'Falta de maturidade analítica na empresa': 0,\n",
       " 'Oportunidade de aprendizado e trabalhar com referências na área': 0}"
      ]
     },
     "execution_count": 235,
     "metadata": {},
     "output_type": "execute_result"
    }
   ],
   "source": [
    "df_limpo.isnull().sum().sort_values(ascending=False).head(20).to_dict()"
   ]
  },
  {
   "attachments": {},
   "cell_type": "markdown",
   "metadata": {},
   "source": [
    "- Tratamento da coluna 'Área de formação' utilizando informação da coluna 'Nível de Ensino'"
   ]
  },
  {
   "cell_type": "code",
   "execution_count": 239,
   "metadata": {},
   "outputs": [
    {
     "name": "stdout",
     "output_type": "stream",
     "text": [
      "64\n"
     ]
    },
    {
     "data": {
      "text/plain": [
       "Graduação/Bacharelado         909\n",
       "Pós-graduação                 823\n",
       "Estudante de Graduação        389\n",
       "Mestrado                      344\n",
       "Doutorado ou Phd              116\n",
       "Não tenho graduação formal     61\n",
       "Prefiro não informar            3\n",
       "Name: Nivel de Ensino, dtype: int64"
      ]
     },
     "execution_count": 239,
     "metadata": {},
     "output_type": "execute_result"
    }
   ],
   "source": [
    "print(df_limpo['Área de Formação'].isnull().sum())\n",
    "df_limpo['Nivel de Ensino'].value_counts()"
   ]
  },
  {
   "attachments": {},
   "cell_type": "markdown",
   "metadata": {},
   "source": [
    "- Dados faltantes em área de formação relacionados as categorias de 'Não tenho graduação formal' e 'Prefiro não informar'. Optamos por preencher os 'nan' com 'NdA'"
   ]
  },
  {
   "cell_type": "code",
   "execution_count": 242,
   "metadata": {},
   "outputs": [
    {
     "data": {
      "text/plain": [
       "0"
      ]
     },
     "execution_count": 242,
     "metadata": {},
     "output_type": "execute_result"
    }
   ],
   "source": [
    "df_limpo['Área de Formação'] = df_limpo['Área de Formação'].fillna('NdA')\n",
    "df_limpo['Área de Formação'].isnull().sum()"
   ]
  },
  {
   "cell_type": "code",
   "execution_count": 243,
   "metadata": {},
   "outputs": [
    {
     "name": "stdout",
     "output_type": "stream",
     "text": [
      "Sudeste         1671\n",
      "Sul              400\n",
      "Nordeste         301\n",
      "Centro-oeste     184\n",
      "Exterior          53\n",
      "Norte             36\n",
      "Name: Regiao onde mora, dtype: int64\n"
     ]
    },
    {
     "data": {
      "text/html": [
       "<div>\n",
       "<style scoped>\n",
       "    .dataframe tbody tr th:only-of-type {\n",
       "        vertical-align: middle;\n",
       "    }\n",
       "\n",
       "    .dataframe tbody tr th {\n",
       "        vertical-align: top;\n",
       "    }\n",
       "\n",
       "    .dataframe thead th {\n",
       "        text-align: right;\n",
       "    }\n",
       "</style>\n",
       "<table border=\"1\" class=\"dataframe\">\n",
       "  <thead>\n",
       "    <tr style=\"text-align: right;\">\n",
       "      <th></th>\n",
       "      <th>Estado onde mora</th>\n",
       "      <th>Regiao onde mora</th>\n",
       "    </tr>\n",
       "  </thead>\n",
       "  <tbody>\n",
       "    <tr>\n",
       "      <th>32</th>\n",
       "      <td>NaN</td>\n",
       "      <td>Norte</td>\n",
       "    </tr>\n",
       "    <tr>\n",
       "      <th>67</th>\n",
       "      <td>NaN</td>\n",
       "      <td>Norte</td>\n",
       "    </tr>\n",
       "    <tr>\n",
       "      <th>144</th>\n",
       "      <td>NaN</td>\n",
       "      <td>Norte</td>\n",
       "    </tr>\n",
       "    <tr>\n",
       "      <th>284</th>\n",
       "      <td>NaN</td>\n",
       "      <td>Norte</td>\n",
       "    </tr>\n",
       "    <tr>\n",
       "      <th>314</th>\n",
       "      <td>NaN</td>\n",
       "      <td>Norte</td>\n",
       "    </tr>\n",
       "    <tr>\n",
       "      <th>374</th>\n",
       "      <td>NaN</td>\n",
       "      <td>Norte</td>\n",
       "    </tr>\n",
       "    <tr>\n",
       "      <th>606</th>\n",
       "      <td>NaN</td>\n",
       "      <td>Norte</td>\n",
       "    </tr>\n",
       "    <tr>\n",
       "      <th>728</th>\n",
       "      <td>NaN</td>\n",
       "      <td>Norte</td>\n",
       "    </tr>\n",
       "    <tr>\n",
       "      <th>910</th>\n",
       "      <td>NaN</td>\n",
       "      <td>Norte</td>\n",
       "    </tr>\n",
       "    <tr>\n",
       "      <th>1030</th>\n",
       "      <td>NaN</td>\n",
       "      <td>Norte</td>\n",
       "    </tr>\n",
       "    <tr>\n",
       "      <th>1032</th>\n",
       "      <td>NaN</td>\n",
       "      <td>Norte</td>\n",
       "    </tr>\n",
       "    <tr>\n",
       "      <th>1098</th>\n",
       "      <td>NaN</td>\n",
       "      <td>Norte</td>\n",
       "    </tr>\n",
       "    <tr>\n",
       "      <th>1170</th>\n",
       "      <td>NaN</td>\n",
       "      <td>Norte</td>\n",
       "    </tr>\n",
       "    <tr>\n",
       "      <th>1173</th>\n",
       "      <td>NaN</td>\n",
       "      <td>Norte</td>\n",
       "    </tr>\n",
       "    <tr>\n",
       "      <th>1188</th>\n",
       "      <td>NaN</td>\n",
       "      <td>Norte</td>\n",
       "    </tr>\n",
       "    <tr>\n",
       "      <th>1362</th>\n",
       "      <td>NaN</td>\n",
       "      <td>Norte</td>\n",
       "    </tr>\n",
       "    <tr>\n",
       "      <th>1402</th>\n",
       "      <td>NaN</td>\n",
       "      <td>Norte</td>\n",
       "    </tr>\n",
       "    <tr>\n",
       "      <th>1534</th>\n",
       "      <td>NaN</td>\n",
       "      <td>Norte</td>\n",
       "    </tr>\n",
       "    <tr>\n",
       "      <th>1579</th>\n",
       "      <td>NaN</td>\n",
       "      <td>Norte</td>\n",
       "    </tr>\n",
       "    <tr>\n",
       "      <th>1676</th>\n",
       "      <td>NaN</td>\n",
       "      <td>Norte</td>\n",
       "    </tr>\n",
       "    <tr>\n",
       "      <th>1725</th>\n",
       "      <td>NaN</td>\n",
       "      <td>Norte</td>\n",
       "    </tr>\n",
       "    <tr>\n",
       "      <th>1743</th>\n",
       "      <td>NaN</td>\n",
       "      <td>Norte</td>\n",
       "    </tr>\n",
       "    <tr>\n",
       "      <th>1845</th>\n",
       "      <td>NaN</td>\n",
       "      <td>Norte</td>\n",
       "    </tr>\n",
       "    <tr>\n",
       "      <th>1847</th>\n",
       "      <td>NaN</td>\n",
       "      <td>Norte</td>\n",
       "    </tr>\n",
       "    <tr>\n",
       "      <th>1862</th>\n",
       "      <td>NaN</td>\n",
       "      <td>Norte</td>\n",
       "    </tr>\n",
       "    <tr>\n",
       "      <th>1883</th>\n",
       "      <td>NaN</td>\n",
       "      <td>Norte</td>\n",
       "    </tr>\n",
       "    <tr>\n",
       "      <th>1907</th>\n",
       "      <td>NaN</td>\n",
       "      <td>Norte</td>\n",
       "    </tr>\n",
       "    <tr>\n",
       "      <th>2105</th>\n",
       "      <td>NaN</td>\n",
       "      <td>Norte</td>\n",
       "    </tr>\n",
       "    <tr>\n",
       "      <th>2122</th>\n",
       "      <td>NaN</td>\n",
       "      <td>Norte</td>\n",
       "    </tr>\n",
       "    <tr>\n",
       "      <th>2305</th>\n",
       "      <td>NaN</td>\n",
       "      <td>Norte</td>\n",
       "    </tr>\n",
       "    <tr>\n",
       "      <th>2494</th>\n",
       "      <td>NaN</td>\n",
       "      <td>Norte</td>\n",
       "    </tr>\n",
       "    <tr>\n",
       "      <th>2508</th>\n",
       "      <td>NaN</td>\n",
       "      <td>Norte</td>\n",
       "    </tr>\n",
       "    <tr>\n",
       "      <th>2510</th>\n",
       "      <td>NaN</td>\n",
       "      <td>Norte</td>\n",
       "    </tr>\n",
       "    <tr>\n",
       "      <th>2522</th>\n",
       "      <td>NaN</td>\n",
       "      <td>Norte</td>\n",
       "    </tr>\n",
       "    <tr>\n",
       "      <th>2546</th>\n",
       "      <td>NaN</td>\n",
       "      <td>Norte</td>\n",
       "    </tr>\n",
       "    <tr>\n",
       "      <th>2638</th>\n",
       "      <td>NaN</td>\n",
       "      <td>Norte</td>\n",
       "    </tr>\n",
       "  </tbody>\n",
       "</table>\n",
       "</div>"
      ],
      "text/plain": [
       "     Estado onde mora Regiao onde mora\n",
       "32                NaN            Norte\n",
       "67                NaN            Norte\n",
       "144               NaN            Norte\n",
       "284               NaN            Norte\n",
       "314               NaN            Norte\n",
       "374               NaN            Norte\n",
       "606               NaN            Norte\n",
       "728               NaN            Norte\n",
       "910               NaN            Norte\n",
       "1030              NaN            Norte\n",
       "1032              NaN            Norte\n",
       "1098              NaN            Norte\n",
       "1170              NaN            Norte\n",
       "1173              NaN            Norte\n",
       "1188              NaN            Norte\n",
       "1362              NaN            Norte\n",
       "1402              NaN            Norte\n",
       "1534              NaN            Norte\n",
       "1579              NaN            Norte\n",
       "1676              NaN            Norte\n",
       "1725              NaN            Norte\n",
       "1743              NaN            Norte\n",
       "1845              NaN            Norte\n",
       "1847              NaN            Norte\n",
       "1862              NaN            Norte\n",
       "1883              NaN            Norte\n",
       "1907              NaN            Norte\n",
       "2105              NaN            Norte\n",
       "2122              NaN            Norte\n",
       "2305              NaN            Norte\n",
       "2494              NaN            Norte\n",
       "2508              NaN            Norte\n",
       "2510              NaN            Norte\n",
       "2522              NaN            Norte\n",
       "2546              NaN            Norte\n",
       "2638              NaN            Norte"
      ]
     },
     "execution_count": 243,
     "metadata": {},
     "output_type": "execute_result"
    }
   ],
   "source": [
    "print(df_limpo['Regiao onde mora'].value_counts())\n",
    "df_limpo.loc[pd.isna(df_limpo['Estado onde mora']), ['Estado onde mora', 'Regiao onde mora']]\n"
   ]
  },
  {
   "attachments": {},
   "cell_type": "markdown",
   "metadata": {},
   "source": [
    "- Como todos os estados da região Norte se encontram como 'nan', resolvemos excluir as colunas de estados do dataset e trabalhar somente com as regiões"
   ]
  },
  {
   "cell_type": "code",
   "execution_count": 244,
   "metadata": {},
   "outputs": [
    {
     "data": {
      "text/plain": [
       "(2645, 44)"
      ]
     },
     "execution_count": 244,
     "metadata": {},
     "output_type": "execute_result"
    }
   ],
   "source": [
    "df_limpo.drop(columns=['Uf onde mora',\n",
    "                       'Estado onde mora'],\n",
    "              inplace=True)\n",
    "df_limpo.shape"
   ]
  },
  {
   "cell_type": "code",
   "execution_count": 245,
   "metadata": {},
   "outputs": [
    {
     "name": "stdout",
     "output_type": "stream",
     "text": [
      "31.15705005731754 30.0\n",
      "0    26.0\n",
      "1    28.0\n",
      "Name: Idade, dtype: float64\n"
     ]
    }
   ],
   "source": [
    "media = df_limpo['Idade'].mean()\n",
    "mediana = df_limpo['Idade'].median()\n",
    "moda = df_limpo['Idade'].mode()\n",
    "\n",
    "print(media, mediana)\n",
    "print(moda)"
   ]
  },
  {
   "attachments": {},
   "cell_type": "markdown",
   "metadata": {},
   "source": [
    "- Para treinar o preenchimento dos valores faltantes com métodos/valores diferentes, optamos por preencher os poucos valores de idade faltante com a mediana, supondo que estatisticamente esta mudança teria menos impacto nas possíveis análises futuras que a utilização da moda."
   ]
  },
  {
   "cell_type": "code",
   "execution_count": 246,
   "metadata": {},
   "outputs": [
    {
     "data": {
      "text/plain": [
       "0"
      ]
     },
     "execution_count": 246,
     "metadata": {},
     "output_type": "execute_result"
    }
   ],
   "source": [
    "df_limpo['Idade'] = df_limpo['Idade'].fillna(df_limpo['Idade'].median())\n",
    "df_limpo['Idade'].isnull().sum()"
   ]
  },
  {
   "cell_type": "code",
   "execution_count": 251,
   "metadata": {},
   "outputs": [
    {
     "data": {
      "text/plain": [
       "{'Quais os principais critérios que você leva em consideração no momento de decidir onde trabalhar?': 294,\n",
       " 'Você participou de entrevistas de emprego nos últimos 6 meses?': 283,\n",
       " 'Você está satisfeito na sua empresa atual?': 283,\n",
       " 'Caso sua empresa decida pelo modelo 100% presencial qual será sua atitude?': 280,\n",
       " 'Setor': 280,\n",
       " 'Você pretende mudar de emprego nos próximos 6 meses?': 280,\n",
       " 'Quanto tempo de experiência na área de TI/Engenharia de Software você teve antes de começar a trabalhar na área de dados?': 280,\n",
       " 'Quanto tempo de experiência na área de dados você tem?': 280,\n",
       " 'Faixa salarial': 280,\n",
       " 'Numero de Funcionarios': 280,\n",
       " 'Gestor?': 280,\n",
       " 'Atualmente qual a sua forma de trabalho?': 280,\n",
       " 'Qual a forma de trabalho ideal para você?': 280,\n",
       " 'Ambiente e clima de trabalho': 0,\n",
       " 'O clima de trabalho/ambiente não é bom': 0}"
      ]
     },
     "execution_count": 251,
     "metadata": {},
     "output_type": "execute_result"
    }
   ],
   "source": [
    "df_limpo.isnull().sum().sort_values(ascending=False).head(15).to_dict()"
   ]
  },
  {
   "attachments": {},
   "cell_type": "markdown",
   "metadata": {},
   "source": [
    "- Relacionando valores faltantes de informações de cargo e situação atual de emprego."
   ]
  },
  {
   "cell_type": "code",
   "execution_count": 252,
   "metadata": {},
   "outputs": [
    {
     "data": {
      "text/html": [
       "<div>\n",
       "<style scoped>\n",
       "    .dataframe tbody tr th:only-of-type {\n",
       "        vertical-align: middle;\n",
       "    }\n",
       "\n",
       "    .dataframe tbody tr th {\n",
       "        vertical-align: top;\n",
       "    }\n",
       "\n",
       "    .dataframe thead th {\n",
       "        text-align: right;\n",
       "    }\n",
       "</style>\n",
       "<table border=\"1\" class=\"dataframe\">\n",
       "  <thead>\n",
       "    <tr style=\"text-align: right;\">\n",
       "      <th></th>\n",
       "      <th>Numero de Funcionarios</th>\n",
       "      <th>Quanto tempo de experiência na área de TI/Engenharia de Software você teve antes de começar a trabalhar na área de dados?</th>\n",
       "      <th>Quanto tempo de experiência na área de dados você tem?</th>\n",
       "      <th>Faixa salarial</th>\n",
       "      <th>Gestor?</th>\n",
       "      <th>Atualmente qual a sua forma de trabalho?</th>\n",
       "      <th>Qual sua situação atual de trabalho?</th>\n",
       "    </tr>\n",
       "  </thead>\n",
       "  <tbody>\n",
       "    <tr>\n",
       "      <th>1396</th>\n",
       "      <td>NaN</td>\n",
       "      <td>NaN</td>\n",
       "      <td>NaN</td>\n",
       "      <td>NaN</td>\n",
       "      <td>NaN</td>\n",
       "      <td>NaN</td>\n",
       "      <td>Trabalho na área Acadêmica/Pesquisador</td>\n",
       "    </tr>\n",
       "    <tr>\n",
       "      <th>1399</th>\n",
       "      <td>NaN</td>\n",
       "      <td>NaN</td>\n",
       "      <td>NaN</td>\n",
       "      <td>NaN</td>\n",
       "      <td>NaN</td>\n",
       "      <td>NaN</td>\n",
       "      <td>Somente Estudante (graduação)</td>\n",
       "    </tr>\n",
       "    <tr>\n",
       "      <th>1400</th>\n",
       "      <td>NaN</td>\n",
       "      <td>NaN</td>\n",
       "      <td>NaN</td>\n",
       "      <td>NaN</td>\n",
       "      <td>NaN</td>\n",
       "      <td>NaN</td>\n",
       "      <td>Desempregado, buscando recolocação</td>\n",
       "    </tr>\n",
       "    <tr>\n",
       "      <th>1403</th>\n",
       "      <td>NaN</td>\n",
       "      <td>NaN</td>\n",
       "      <td>NaN</td>\n",
       "      <td>NaN</td>\n",
       "      <td>NaN</td>\n",
       "      <td>NaN</td>\n",
       "      <td>Desempregado, buscando recolocação</td>\n",
       "    </tr>\n",
       "    <tr>\n",
       "      <th>1408</th>\n",
       "      <td>NaN</td>\n",
       "      <td>NaN</td>\n",
       "      <td>NaN</td>\n",
       "      <td>NaN</td>\n",
       "      <td>NaN</td>\n",
       "      <td>NaN</td>\n",
       "      <td>Trabalho na área Acadêmica/Pesquisador</td>\n",
       "    </tr>\n",
       "    <tr>\n",
       "      <th>...</th>\n",
       "      <td>...</td>\n",
       "      <td>...</td>\n",
       "      <td>...</td>\n",
       "      <td>...</td>\n",
       "      <td>...</td>\n",
       "      <td>...</td>\n",
       "      <td>...</td>\n",
       "    </tr>\n",
       "    <tr>\n",
       "      <th>2630</th>\n",
       "      <td>NaN</td>\n",
       "      <td>NaN</td>\n",
       "      <td>NaN</td>\n",
       "      <td>NaN</td>\n",
       "      <td>NaN</td>\n",
       "      <td>NaN</td>\n",
       "      <td>Trabalho na área Acadêmica/Pesquisador</td>\n",
       "    </tr>\n",
       "    <tr>\n",
       "      <th>2631</th>\n",
       "      <td>NaN</td>\n",
       "      <td>NaN</td>\n",
       "      <td>NaN</td>\n",
       "      <td>NaN</td>\n",
       "      <td>NaN</td>\n",
       "      <td>NaN</td>\n",
       "      <td>Somente Estudante (graduação)</td>\n",
       "    </tr>\n",
       "    <tr>\n",
       "      <th>2640</th>\n",
       "      <td>NaN</td>\n",
       "      <td>NaN</td>\n",
       "      <td>NaN</td>\n",
       "      <td>NaN</td>\n",
       "      <td>NaN</td>\n",
       "      <td>NaN</td>\n",
       "      <td>Trabalho na área Acadêmica/Pesquisador</td>\n",
       "    </tr>\n",
       "    <tr>\n",
       "      <th>2643</th>\n",
       "      <td>NaN</td>\n",
       "      <td>NaN</td>\n",
       "      <td>NaN</td>\n",
       "      <td>NaN</td>\n",
       "      <td>NaN</td>\n",
       "      <td>NaN</td>\n",
       "      <td>Desempregado, buscando recolocação</td>\n",
       "    </tr>\n",
       "    <tr>\n",
       "      <th>2644</th>\n",
       "      <td>NaN</td>\n",
       "      <td>NaN</td>\n",
       "      <td>NaN</td>\n",
       "      <td>NaN</td>\n",
       "      <td>NaN</td>\n",
       "      <td>NaN</td>\n",
       "      <td>Desempregado, buscando recolocação</td>\n",
       "    </tr>\n",
       "  </tbody>\n",
       "</table>\n",
       "<p>280 rows × 7 columns</p>\n",
       "</div>"
      ],
      "text/plain": [
       "     Numero de Funcionarios  \\\n",
       "1396                    NaN   \n",
       "1399                    NaN   \n",
       "1400                    NaN   \n",
       "1403                    NaN   \n",
       "1408                    NaN   \n",
       "...                     ...   \n",
       "2630                    NaN   \n",
       "2631                    NaN   \n",
       "2640                    NaN   \n",
       "2643                    NaN   \n",
       "2644                    NaN   \n",
       "\n",
       "     Quanto tempo de experiência na área de TI/Engenharia de Software você teve antes de começar a trabalhar na área de dados?  \\\n",
       "1396                                                NaN                                                                          \n",
       "1399                                                NaN                                                                          \n",
       "1400                                                NaN                                                                          \n",
       "1403                                                NaN                                                                          \n",
       "1408                                                NaN                                                                          \n",
       "...                                                 ...                                                                          \n",
       "2630                                                NaN                                                                          \n",
       "2631                                                NaN                                                                          \n",
       "2640                                                NaN                                                                          \n",
       "2643                                                NaN                                                                          \n",
       "2644                                                NaN                                                                          \n",
       "\n",
       "     Quanto tempo de experiência na área de dados você tem? Faixa salarial  \\\n",
       "1396                                                NaN                NaN   \n",
       "1399                                                NaN                NaN   \n",
       "1400                                                NaN                NaN   \n",
       "1403                                                NaN                NaN   \n",
       "1408                                                NaN                NaN   \n",
       "...                                                 ...                ...   \n",
       "2630                                                NaN                NaN   \n",
       "2631                                                NaN                NaN   \n",
       "2640                                                NaN                NaN   \n",
       "2643                                                NaN                NaN   \n",
       "2644                                                NaN                NaN   \n",
       "\n",
       "      Gestor? Atualmente qual a sua forma de trabalho?  \\\n",
       "1396      NaN                                      NaN   \n",
       "1399      NaN                                      NaN   \n",
       "1400      NaN                                      NaN   \n",
       "1403      NaN                                      NaN   \n",
       "1408      NaN                                      NaN   \n",
       "...       ...                                      ...   \n",
       "2630      NaN                                      NaN   \n",
       "2631      NaN                                      NaN   \n",
       "2640      NaN                                      NaN   \n",
       "2643      NaN                                      NaN   \n",
       "2644      NaN                                      NaN   \n",
       "\n",
       "        Qual sua situação atual de trabalho?  \n",
       "1396  Trabalho na área Acadêmica/Pesquisador  \n",
       "1399           Somente Estudante (graduação)  \n",
       "1400      Desempregado, buscando recolocação  \n",
       "1403      Desempregado, buscando recolocação  \n",
       "1408  Trabalho na área Acadêmica/Pesquisador  \n",
       "...                                      ...  \n",
       "2630  Trabalho na área Acadêmica/Pesquisador  \n",
       "2631           Somente Estudante (graduação)  \n",
       "2640  Trabalho na área Acadêmica/Pesquisador  \n",
       "2643      Desempregado, buscando recolocação  \n",
       "2644      Desempregado, buscando recolocação  \n",
       "\n",
       "[280 rows x 7 columns]"
      ]
     },
     "execution_count": 252,
     "metadata": {},
     "output_type": "execute_result"
    }
   ],
   "source": [
    "colunas_teste = ['Numero de Funcionarios', 'Quanto tempo de experiência na área de TI/Engenharia de Software você teve antes de começar a trabalhar na área de dados?', 'Quanto tempo de experiência na área de dados você tem?', 'Faixa salarial', 'Gestor?', 'Atualmente qual a sua forma de trabalho?', 'Qual sua situação atual de trabalho?']\n",
    "df_teste = df_limpo.loc[pd.isna(df_limpo['Atualmente qual a sua forma de trabalho?']), colunas_teste]\n",
    "df_teste"
   ]
  },
  {
   "cell_type": "code",
   "execution_count": 253,
   "metadata": {},
   "outputs": [
    {
     "data": {
      "text/plain": [
       "array(['Trabalho na área Acadêmica/Pesquisador',\n",
       "       'Somente Estudante (graduação)',\n",
       "       'Desempregado, buscando recolocação',\n",
       "       'Somente Estudante (pós-graduação)',\n",
       "       'Desempregado e não estou buscando recolocação'], dtype=object)"
      ]
     },
     "execution_count": 253,
     "metadata": {},
     "output_type": "execute_result"
    }
   ],
   "source": [
    "df_teste['Qual sua situação atual de trabalho?'].unique()"
   ]
  },
  {
   "attachments": {},
   "cell_type": "markdown",
   "metadata": {},
   "source": [
    "- Podemos constatar que os dados faltantes com relação às colunas relacionadas a emprego se devem ao fato destes respondentes pertencerem a categorias de estudante, trabalha em área acadêmica ou desempregado. Para não excluirmos muitos desses dados do dataset e possivelmente enviesar alguma análise futura, decidimos por manter os 'nan', que automaticamente serão excluídos das análises quando e se tais colunas sejam utilizadas."
   ]
  },
  {
   "cell_type": "code",
   "execution_count": 254,
   "metadata": {},
   "outputs": [],
   "source": [
    "#Precisa ser última célula do notebook\n",
    "# Rodar de novo se fizer qualquer alteração nesse notebook\n",
    "\n",
    "df_limpo.to_csv('state_of_data_tradado.csv', index=False)"
   ]
  }
 ],
 "metadata": {
  "kernelspec": {
   "display_name": "Python 3",
   "language": "python",
   "name": "python3"
  },
  "language_info": {
   "codemirror_mode": {
    "name": "ipython",
    "version": 3
   },
   "file_extension": ".py",
   "mimetype": "text/x-python",
   "name": "python",
   "nbconvert_exporter": "python",
   "pygments_lexer": "ipython3",
   "version": "3.11.0"
  },
  "orig_nbformat": 4
 },
 "nbformat": 4,
 "nbformat_minor": 2
}
