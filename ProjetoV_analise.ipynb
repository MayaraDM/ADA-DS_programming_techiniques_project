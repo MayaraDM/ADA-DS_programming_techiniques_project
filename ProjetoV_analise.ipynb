{
 "cells": [
  {
   "attachments": {},
   "cell_type": "markdown",
   "metadata": {},
   "source": [
    "# State of Data 2021\n",
    "\n",
    "### Diferenças de gênero na área de Ciência de Dados"
   ]
  },
  {
   "attachments": {},
   "cell_type": "markdown",
   "metadata": {},
   "source": [
    "#### Sugestões de análises:\n",
    "- Diferenças gerais entre homens x mulheres de diferentes regiões do país.\n",
    "    - idade\n",
    "    - escolaridade / área de formação\n",
    "    - experiência\n",
    "    - empregados/desempregados\n",
    "    - nível de cargo que ocupam\n",
    "    - remuneração\n",
    "    \n",
    "- Diferenças na satisfação do emprego\n",
    "- Forma de trabalho / ideal para entrevistado"
   ]
  },
  {
   "cell_type": "code",
   "execution_count": null,
   "metadata": {},
   "outputs": [],
   "source": [
    "import pandas as pd\n",
    "from matplotlib import pyplot as plt\n",
    "import plotly.graph_objects as go\n",
    "import seaborn as sns"
   ]
  }
 ],
 "metadata": {
  "language_info": {
   "name": "python"
  },
  "orig_nbformat": 4
 },
 "nbformat": 4,
 "nbformat_minor": 2
}
