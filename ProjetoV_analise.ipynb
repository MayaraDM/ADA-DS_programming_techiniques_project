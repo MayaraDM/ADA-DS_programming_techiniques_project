{
 "cells": [
  {
   "attachments": {},
   "cell_type": "markdown",
   "metadata": {},
   "source": [
    "# State of Data 2021\n",
    "\n",
    "## Diferenças de gênero na área de Ciência de Dados"
   ]
  },
  {
   "attachments": {},
   "cell_type": "markdown",
   "metadata": {},
   "source": [
    "#### Diversidade na área de TI\n",
    "\n",
    "A diversidade e inclusão no setor de TI, apesar do destaque crescente em estudos e políticas empresariais, ainda tem muito a desenvoler. Um ambiente de trabalho diverso é composto por pessoas de diferentes gêneros, etnias, formações, idades e vivências, capazes de compor uma visão mais complexa de determinada questão, por somarem diferentes pontos de vista. \n",
    "\n",
    "A TI por sua vez, é um póli inovador para o negócio e trazer esta diversidade representante da sociedade para dentro da TI torna o setor mais bem preparado para lidar com todo tipo de desafio ou demanda. Uma equipe mais diversa ainda estará melhor preparada para lidar com os anseios e desejos dos clientes que, por sua vez, também são plurais. Equipes mais diversas também auxiliam no desenvolvimento de soft skills como colaboração e comunicação não-violenta.\n",
    "\n",
    "Equipes mais diversas são reflexo do que vivemos em sociedade, desse modo, ter vivências diferentes em um único espaço contribui para o desenvolvimento da equipe. Em times menos tradicionais, surgem:\n",
    "\n",
    "- ideias mais coesas;\n",
    "- profissionais mais conectados com as dores dos seus clientes\n",
    "- comunicação com um público mais diverso;\n",
    "- maiores aprendizados devido a pluralidade.\n",
    "\n",
    "Devido ao contexto histórico no setor de TI, temos o desenvolvimento de ideias inconscientes que excluem grupos minoritários. Mulheres ainda não são tão representadas, principalmente em cargos de liderança. O problema também se estende para outros grupos minoritários como negros e pessoas LGBTQIA+. Pessoas negras ainda são mais impactadas pelo contexto sócio-econômico, onde muitos não tem acesso à educação de qualidade e empregos melhores.\n",
    "\n",
    "Uma pesquisa realizada pela KPMG, em 2019, indicou que, no Brasil, apenas uma a cada cinco profissionais de TI é mulher. Já quando consideramos etnia, apesar da falta de pesquisas nacionais sobre profissionais negros na área, uma pesquisa da Atlassian indicou que apenas 5% dos postos de emprego na indústria da tecnologia eram ocupados por pessoas negras.\n",
    "\n",
    "Ou seja, o investimento em diversidade e inclusão na TI é necessário, primeiramente, para criar equipes plurais, que refletem a população, compreendem suas dores e, assim, são capazes de criar melhores soluções. Em segundo lugar, a diversidade na TI é o reflexo de valores corporativos voltados para a redução de preconceitos e desigualdades sociais, raciais, de gênero e outras tão presentes em nossa sociedade.\n",
    "\n",
    "\n",
    "- Referências:\n",
    "    - https://www.microcity.com.br/diversidade-na-ti/\n",
    "    - https://www.tqi.com.br/diversidade-e-inclusao-no-setor-de-ti/"
   ]
  },
  {
   "cell_type": "code",
   "execution_count": 1,
   "metadata": {},
   "outputs": [],
   "source": [
    "import pandas as pd\n",
    "from matplotlib import pyplot as plt\n",
    "import plotly.express as px\n",
    "\n",
    "import plotly.graph_objects as go\n",
    "from plotly.subplots import make_subplots\n",
    "import seaborn as sns"
   ]
  },
  {
   "cell_type": "code",
   "execution_count": 2,
   "metadata": {},
   "outputs": [
    {
     "name": "stdout",
     "output_type": "stream",
     "text": [
      "(2645, 44)\n"
     ]
    },
    {
     "data": {
      "text/html": [
       "<div>\n",
       "<style scoped>\n",
       "    .dataframe tbody tr th:only-of-type {\n",
       "        vertical-align: middle;\n",
       "    }\n",
       "\n",
       "    .dataframe tbody tr th {\n",
       "        vertical-align: top;\n",
       "    }\n",
       "\n",
       "    .dataframe thead th {\n",
       "        text-align: right;\n",
       "    }\n",
       "</style>\n",
       "<table border=\"1\" class=\"dataframe\">\n",
       "  <thead>\n",
       "    <tr style=\"text-align: right;\">\n",
       "      <th></th>\n",
       "      <th>id</th>\n",
       "      <th>Idade</th>\n",
       "      <th>Faixa idade</th>\n",
       "      <th>Genero</th>\n",
       "      <th>Regiao onde mora</th>\n",
       "      <th>Regiao de origem</th>\n",
       "      <th>Mudou de Estado?</th>\n",
       "      <th>Nivel de Ensino</th>\n",
       "      <th>Área de Formação</th>\n",
       "      <th>Qual sua situação atual de trabalho?</th>\n",
       "      <th>...</th>\n",
       "      <th>Flexibilidade de trabalho remoto</th>\n",
       "      <th>Ambiente e clima de trabalho</th>\n",
       "      <th>Oportunidade de aprendizado e trabalhar com referências na área</th>\n",
       "      <th>Plano de carreira e oportunidades de crescimento profissional</th>\n",
       "      <th>Maturidade da empresa em termos de tecnologia e dados</th>\n",
       "      <th>Qualidade dos gestores e líderes</th>\n",
       "      <th>Reputação que a empresa tem no mercado</th>\n",
       "      <th>Atualmente qual a sua forma de trabalho?</th>\n",
       "      <th>Qual a forma de trabalho ideal para você?</th>\n",
       "      <th>Caso sua empresa decida pelo modelo 100% presencial qual será sua atitude?</th>\n",
       "    </tr>\n",
       "  </thead>\n",
       "  <tbody>\n",
       "    <tr>\n",
       "      <th>0</th>\n",
       "      <td>qkx4q0ei90wcjxnqkx4q0j3xgf0zn13s</td>\n",
       "      <td>38.0</td>\n",
       "      <td>35-39</td>\n",
       "      <td>Masculino</td>\n",
       "      <td>Nordeste</td>\n",
       "      <td>Sudeste</td>\n",
       "      <td>0</td>\n",
       "      <td>Pós-graduação</td>\n",
       "      <td>Química / Física</td>\n",
       "      <td>Empregado (CLT)</td>\n",
       "      <td>...</td>\n",
       "      <td>0.0</td>\n",
       "      <td>0.0</td>\n",
       "      <td>0.0</td>\n",
       "      <td>0.0</td>\n",
       "      <td>0.0</td>\n",
       "      <td>0.0</td>\n",
       "      <td>0.0</td>\n",
       "      <td>Modelo 100% presencial</td>\n",
       "      <td>Modelo híbrido com dias fixos de trabalho pres...</td>\n",
       "      <td>Vou aceitar e retornar ao modelo 100% presencial.</td>\n",
       "    </tr>\n",
       "    <tr>\n",
       "      <th>1</th>\n",
       "      <td>zdl2n19yhgpnoaco6kkczdl2nwv9zwrt</td>\n",
       "      <td>39.0</td>\n",
       "      <td>35-39</td>\n",
       "      <td>Masculino</td>\n",
       "      <td>Nordeste</td>\n",
       "      <td>Sudeste</td>\n",
       "      <td>1</td>\n",
       "      <td>Pós-graduação</td>\n",
       "      <td>Economia/ Administração / Contabilidade / Fina...</td>\n",
       "      <td>Empreendedor ou Empregado (CNPJ)</td>\n",
       "      <td>...</td>\n",
       "      <td>1.0</td>\n",
       "      <td>0.0</td>\n",
       "      <td>0.0</td>\n",
       "      <td>0.0</td>\n",
       "      <td>0.0</td>\n",
       "      <td>0.0</td>\n",
       "      <td>0.0</td>\n",
       "      <td>Modelo híbrido flexível (o funcionário tem lib...</td>\n",
       "      <td>Modelo 100% remoto</td>\n",
       "      <td>Vou procurar outra oportunidade no modelo 100%...</td>\n",
       "    </tr>\n",
       "    <tr>\n",
       "      <th>2</th>\n",
       "      <td>vsamqp2un3q7us84mgvsams5fulsmcoh</td>\n",
       "      <td>30.0</td>\n",
       "      <td>30-34</td>\n",
       "      <td>Masculino</td>\n",
       "      <td>Sul</td>\n",
       "      <td>Sul</td>\n",
       "      <td>0</td>\n",
       "      <td>Pós-graduação</td>\n",
       "      <td>Computação / Engenharia de Software / Sistemas...</td>\n",
       "      <td>Empregado (CLT)</td>\n",
       "      <td>...</td>\n",
       "      <td>0.0</td>\n",
       "      <td>0.0</td>\n",
       "      <td>1.0</td>\n",
       "      <td>0.0</td>\n",
       "      <td>0.0</td>\n",
       "      <td>0.0</td>\n",
       "      <td>0.0</td>\n",
       "      <td>Modelo 100% presencial</td>\n",
       "      <td>Modelo 100% remoto</td>\n",
       "      <td>Vou procurar outra oportunidade no modelo híbr...</td>\n",
       "    </tr>\n",
       "    <tr>\n",
       "      <th>3</th>\n",
       "      <td>v31ab41botodnsv31zgg4k34zzojy81l</td>\n",
       "      <td>38.0</td>\n",
       "      <td>35-39</td>\n",
       "      <td>Feminino</td>\n",
       "      <td>Sudeste</td>\n",
       "      <td>Sul</td>\n",
       "      <td>0</td>\n",
       "      <td>Pós-graduação</td>\n",
       "      <td>Outras</td>\n",
       "      <td>Empreendedor ou Empregado (CNPJ)</td>\n",
       "      <td>...</td>\n",
       "      <td>1.0</td>\n",
       "      <td>0.0</td>\n",
       "      <td>0.0</td>\n",
       "      <td>0.0</td>\n",
       "      <td>0.0</td>\n",
       "      <td>0.0</td>\n",
       "      <td>0.0</td>\n",
       "      <td>Modelo 100% presencial</td>\n",
       "      <td>Modelo híbrido com dias fixos de trabalho pres...</td>\n",
       "      <td>Vou procurar outra oportunidade no modelo híbr...</td>\n",
       "    </tr>\n",
       "    <tr>\n",
       "      <th>4</th>\n",
       "      <td>ubhu8ntvm4xc0sfkdubhu80e973eek0k</td>\n",
       "      <td>36.0</td>\n",
       "      <td>35-39</td>\n",
       "      <td>Masculino</td>\n",
       "      <td>Sul</td>\n",
       "      <td>Sul</td>\n",
       "      <td>0</td>\n",
       "      <td>Pós-graduação</td>\n",
       "      <td>Outras Engenharias</td>\n",
       "      <td>Empreendedor ou Empregado (CNPJ)</td>\n",
       "      <td>...</td>\n",
       "      <td>0.0</td>\n",
       "      <td>0.0</td>\n",
       "      <td>0.0</td>\n",
       "      <td>0.0</td>\n",
       "      <td>1.0</td>\n",
       "      <td>0.0</td>\n",
       "      <td>0.0</td>\n",
       "      <td>Modelo 100% presencial</td>\n",
       "      <td>Modelo 100% remoto</td>\n",
       "      <td>Vou procurar outra oportunidade no modelo 100%...</td>\n",
       "    </tr>\n",
       "  </tbody>\n",
       "</table>\n",
       "<p>5 rows × 44 columns</p>\n",
       "</div>"
      ],
      "text/plain": [
       "                                 id  Idade Faixa idade     Genero  \\\n",
       "0  qkx4q0ei90wcjxnqkx4q0j3xgf0zn13s   38.0       35-39  Masculino   \n",
       "1  zdl2n19yhgpnoaco6kkczdl2nwv9zwrt   39.0       35-39  Masculino   \n",
       "2  vsamqp2un3q7us84mgvsams5fulsmcoh   30.0       30-34  Masculino   \n",
       "3  v31ab41botodnsv31zgg4k34zzojy81l   38.0       35-39   Feminino   \n",
       "4  ubhu8ntvm4xc0sfkdubhu80e973eek0k   36.0       35-39  Masculino   \n",
       "\n",
       "  Regiao onde mora Regiao de origem  Mudou de Estado? Nivel de Ensino  \\\n",
       "0         Nordeste          Sudeste                 0   Pós-graduação   \n",
       "1         Nordeste          Sudeste                 1   Pós-graduação   \n",
       "2              Sul              Sul                 0   Pós-graduação   \n",
       "3          Sudeste              Sul                 0   Pós-graduação   \n",
       "4              Sul              Sul                 0   Pós-graduação   \n",
       "\n",
       "                                    Área de Formação  \\\n",
       "0                                   Química / Física   \n",
       "1  Economia/ Administração / Contabilidade / Fina...   \n",
       "2  Computação / Engenharia de Software / Sistemas...   \n",
       "3                                             Outras   \n",
       "4                                 Outras Engenharias   \n",
       "\n",
       "  Qual sua situação atual de trabalho?  ... Flexibilidade de trabalho remoto  \\\n",
       "0                      Empregado (CLT)  ...                              0.0   \n",
       "1     Empreendedor ou Empregado (CNPJ)  ...                              1.0   \n",
       "2                      Empregado (CLT)  ...                              0.0   \n",
       "3     Empreendedor ou Empregado (CNPJ)  ...                              1.0   \n",
       "4     Empreendedor ou Empregado (CNPJ)  ...                              0.0   \n",
       "\n",
       "  Ambiente e clima de trabalho  \\\n",
       "0                          0.0   \n",
       "1                          0.0   \n",
       "2                          0.0   \n",
       "3                          0.0   \n",
       "4                          0.0   \n",
       "\n",
       "   Oportunidade de aprendizado e trabalhar com referências na área  \\\n",
       "0                                                0.0                 \n",
       "1                                                0.0                 \n",
       "2                                                1.0                 \n",
       "3                                                0.0                 \n",
       "4                                                0.0                 \n",
       "\n",
       "  Plano de carreira e oportunidades de crescimento profissional  \\\n",
       "0                                                0.0              \n",
       "1                                                0.0              \n",
       "2                                                0.0              \n",
       "3                                                0.0              \n",
       "4                                                0.0              \n",
       "\n",
       "  Maturidade da empresa em termos de tecnologia e dados  \\\n",
       "0                                                0.0      \n",
       "1                                                0.0      \n",
       "2                                                0.0      \n",
       "3                                                0.0      \n",
       "4                                                1.0      \n",
       "\n",
       "  Qualidade dos gestores e líderes Reputação que a empresa tem no mercado  \\\n",
       "0                              0.0                                    0.0   \n",
       "1                              0.0                                    0.0   \n",
       "2                              0.0                                    0.0   \n",
       "3                              0.0                                    0.0   \n",
       "4                              0.0                                    0.0   \n",
       "\n",
       "            Atualmente qual a sua forma de trabalho?  \\\n",
       "0                             Modelo 100% presencial   \n",
       "1  Modelo híbrido flexível (o funcionário tem lib...   \n",
       "2                             Modelo 100% presencial   \n",
       "3                             Modelo 100% presencial   \n",
       "4                             Modelo 100% presencial   \n",
       "\n",
       "           Qual a forma de trabalho ideal para você?  \\\n",
       "0  Modelo híbrido com dias fixos de trabalho pres...   \n",
       "1                                 Modelo 100% remoto   \n",
       "2                                 Modelo 100% remoto   \n",
       "3  Modelo híbrido com dias fixos de trabalho pres...   \n",
       "4                                 Modelo 100% remoto   \n",
       "\n",
       "   Caso sua empresa decida pelo modelo 100% presencial qual será sua atitude?  \n",
       "0  Vou aceitar e retornar ao modelo 100% presencial.                           \n",
       "1  Vou procurar outra oportunidade no modelo 100%...                           \n",
       "2  Vou procurar outra oportunidade no modelo híbr...                           \n",
       "3  Vou procurar outra oportunidade no modelo híbr...                           \n",
       "4  Vou procurar outra oportunidade no modelo 100%...                           \n",
       "\n",
       "[5 rows x 44 columns]"
      ]
     },
     "execution_count": 2,
     "metadata": {},
     "output_type": "execute_result"
    }
   ],
   "source": [
    "df = pd.read_csv('state_of_data_tradado.csv')\n",
    "print(df.shape)\n",
    "df.head()"
   ]
  },
  {
   "cell_type": "code",
   "execution_count": 3,
   "metadata": {},
   "outputs": [
    {
     "data": {
      "text/html": [
       "<svg  width=\"440\" height=\"55\"><rect x=\"0\" y=\"0\" width=\"55\" height=\"55\" style=\"fill:#66c2a5;stroke-width:2;stroke:rgb(255,255,255)\"/><rect x=\"55\" y=\"0\" width=\"55\" height=\"55\" style=\"fill:#fc8d62;stroke-width:2;stroke:rgb(255,255,255)\"/><rect x=\"110\" y=\"0\" width=\"55\" height=\"55\" style=\"fill:#8da0cb;stroke-width:2;stroke:rgb(255,255,255)\"/><rect x=\"165\" y=\"0\" width=\"55\" height=\"55\" style=\"fill:#e78ac3;stroke-width:2;stroke:rgb(255,255,255)\"/><rect x=\"220\" y=\"0\" width=\"55\" height=\"55\" style=\"fill:#a6d854;stroke-width:2;stroke:rgb(255,255,255)\"/><rect x=\"275\" y=\"0\" width=\"55\" height=\"55\" style=\"fill:#ffd92f;stroke-width:2;stroke:rgb(255,255,255)\"/><rect x=\"330\" y=\"0\" width=\"55\" height=\"55\" style=\"fill:#e5c494;stroke-width:2;stroke:rgb(255,255,255)\"/><rect x=\"385\" y=\"0\" width=\"55\" height=\"55\" style=\"fill:#b3b3b3;stroke-width:2;stroke:rgb(255,255,255)\"/></svg>"
      ],
      "text/plain": [
       "['#66c2a5',\n",
       " '#fc8d62',\n",
       " '#8da0cb',\n",
       " '#e78ac3',\n",
       " '#a6d854',\n",
       " '#ffd92f',\n",
       " '#e5c494',\n",
       " '#b3b3b3']"
      ]
     },
     "execution_count": 3,
     "metadata": {},
     "output_type": "execute_result"
    }
   ],
   "source": [
    "# Configurações de paleta, próprio para adaptar um modelo do Seaborn a todas as bibliotecas utilizadas.\n",
    "# Use a variável para configurar as cores do gráfico.\n",
    "# Para trocar a paleta, basta escolher um novo conjunto de cores e substituir a string.\n",
    "\n",
    "color_pal = sns.color_palette('Set2')\n",
    "color_pal = color_pal.as_hex()\n",
    "\n",
    "# Feminino: color_pal[1], Masculino: color_pal[0]\n",
    "sns.set_theme(style='white', palette='Set2')\n",
    "color_pal"
   ]
  },
  {
   "cell_type": "markdown",
   "metadata": {},
   "source": [
    "- Proporção de gênero dentre os respondentes"
   ]
  },
  {
   "cell_type": "code",
   "execution_count": 4,
   "metadata": {},
   "outputs": [
    {
     "data": {
      "text/plain": [
       "Masculino    2144\n",
       "Feminino      493\n",
       "Outro           8\n",
       "Name: Genero, dtype: int64"
      ]
     },
     "execution_count": 4,
     "metadata": {},
     "output_type": "execute_result"
    }
   ],
   "source": [
    "df['Genero'].value_counts()"
   ]
  },
  {
   "cell_type": "code",
   "execution_count": 5,
   "metadata": {},
   "outputs": [
    {
     "data": {
      "text/plain": [
       "Masculino    0.813045\n",
       "Feminino     0.186955\n",
       "Name: Genero, dtype: float64"
      ]
     },
     "execution_count": 5,
     "metadata": {},
     "output_type": "execute_result"
    }
   ],
   "source": [
    "df = df[df['Genero']!='Outro']\n",
    "df['Genero'].value_counts(normalize=True)"
   ]
  },
  {
   "cell_type": "code",
   "execution_count": 6,
   "metadata": {},
   "outputs": [
    {
     "data": {
      "image/png": "[encoded data removed]",
      "text/plain": [
       "<Figure size 640x480 with 1 Axes>"
      ]
     },
     "metadata": {},
     "output_type": "display_data"
    }
   ],
   "source": [
    "# Fazer gráfico com valor normalizado ou não?\n",
    "# Ajustar cores das barras pra padronizar mulheres sempre como laranja e homens sempre como azul\n",
    "# (ou definir outras cores)\n",
    "df['Genero'].value_counts().plot(kind='bar',\n",
    "                                 ylabel='Número Respondentes',\n",
    "                                 xlabel='Gênero',\n",
    "                                 title='Proporção entre Homens e Mulheres',\n",
    "                                 rot=0,\n",
    "                                 color=color_pal)\n",
    "plt.show()"
   ]
  },
  {
   "attachments": {},
   "cell_type": "markdown",
   "metadata": {},
   "source": [
    "- 81,06% dos respondentes se identificaram como homens\n",
    "- 18,64% como mulheres\n",
    "- 0,30% como 'outros'\n",
    "\n",
    "A diferença entre homens e mulheres na pesquisa é alta e muito diferente da proporção geral da população, em torno de 50% pra cada gênero. Essa diferença pode se dever a um viés de coleta dos dados, já mencionado anteriormente.\n",
    "Apesar disso, mesmo tendo algum viés de amostragem, é possivelmente representativo da área de Ciência de Dados. Áreas de TI possuem uma disparidade de gêneros, com alta concentração masculina no mercado de trabalho."
   ]
  },
  {
   "cell_type": "markdown",
   "metadata": {},
   "source": [
    "- Genero \"Outros\" foi filtrado dos gráficos de histograma e boxplot devido a baixa amostragem."
   ]
  },
  {
   "cell_type": "code",
   "execution_count": 7,
   "metadata": {},
   "outputs": [
    {
     "data": {
      "image/png": "[encoded data removed]",
      "text/plain": [
       "<Figure size 1000x600 with 2 Axes>"
      ]
     },
     "metadata": {},
     "output_type": "display_data"
    }
   ],
   "source": [
    "fig, ax = plt.subplots(ncols=1, nrows=2, figsize=(10,6))\n",
    "\n",
    "plt.subplot(2,1,1)\n",
    "sns.boxplot(df,\n",
    "            x='Idade', y='Genero',\n",
    "            linewidth = 0.75,\n",
    "            fliersize=2.5)\n",
    "plt.xlabel('')\n",
    "plt.ylabel('Gênero')\n",
    "\n",
    "plt.subplot(2,1,2)\n",
    "sns.histplot(df,\n",
    "             x=\"Idade\",\n",
    "             hue=\"Genero\",\n",
    "             kde=True,\n",
    "             linewidth = 0.5,\n",
    "             )\n",
    "plt.ylabel('Respondentes')\n",
    "\n",
    "plt.suptitle('Distribuição de idade entre Homens e Mulheres')\n",
    "plt.show()\n"
   ]
  },
  {
   "cell_type": "code",
   "execution_count": 8,
   "metadata": {},
   "outputs": [
    {
     "data": {
      "text/plain": [
       "count    2637.000000\n",
       "mean       31.159651\n",
       "std         7.095057\n",
       "min        18.000000\n",
       "25%        26.000000\n",
       "50%        30.000000\n",
       "75%        35.000000\n",
       "max        54.000000\n",
       "Name: Idade, dtype: float64"
      ]
     },
     "execution_count": 8,
     "metadata": {},
     "output_type": "execute_result"
    }
   ],
   "source": [
    "df['Idade'].describe()"
   ]
  },
  {
   "cell_type": "markdown",
   "metadata": {},
   "source": [
    "Variação de idade entre homens e mulheres, apesar da diferença na proporção dos gêneros, mostra uma tendência semelhante, e provavelmente não há diferenças significativas estatisticamente.\n",
    "\n",
    "Os dois gêneros apresentam maior representatividade nas faixas etárias mais novas, tendo o intervalo interquartil entre 26 e 35 anos e média de 31,14 anos."
   ]
  },
  {
   "cell_type": "markdown",
   "metadata": {},
   "source": [
    "- Região onde mora"
   ]
  },
  {
   "cell_type": "code",
   "execution_count": 9,
   "metadata": {},
   "outputs": [
    {
     "data": {
      "text/plain": [
       "Sudeste         0.632537\n",
       "Sul             0.150929\n",
       "Nordeste        0.113766\n",
       "Centro-oeste    0.069397\n",
       "Exterior        0.019719\n",
       "Norte           0.013652\n",
       "Name: Regiao onde mora, dtype: float64"
      ]
     },
     "execution_count": 9,
     "metadata": {},
     "output_type": "execute_result"
    }
   ],
   "source": [
    "df['Regiao onde mora'].value_counts(normalize=True)"
   ]
  },
  {
   "cell_type": "code",
   "execution_count": 10,
   "metadata": {},
   "outputs": [
    {
     "data": {
      "text/plain": [
       "<AxesSubplot: xlabel='Regiao onde mora', ylabel='count'>"
      ]
     },
     "execution_count": 10,
     "metadata": {},
     "output_type": "execute_result"
    },
    {
     "data": {
      "image/png": "[encoded data removed]",
      "text/plain": [
       "<Figure size 640x480 with 1 Axes>"
      ]
     },
     "metadata": {},
     "output_type": "display_data"
    }
   ],
   "source": [
    "sns.countplot(df, x=\"Regiao onde mora\", hue=\"Genero\")"
   ]
  },
  {
   "cell_type": "markdown",
   "metadata": {},
   "source": [
    "A maior concentração de respondentes mora no Sudeste (63,18%), seguida pelas regiões Sul e Nordeste (15,12% e 11,38% respectivamente). A região Centro-Oeste possui 6,96% dos residentes. A região Norte ficou atrás até mesmo dos residentes no exterior (Norte: 1,36%, exterior: 2,00%)\n",
    "Vários fatores podem contribuir pra esse acúmulo de moradores da região Sudeste. Uma maior concentração de empresas e sede de empresas nessa região, bem como uma maior concentração populacional nessa região comparado com as demais.\n",
    "Seria interessante como análise futura, fazer uma comparação com a proporção das populações entre diferentes regiões do Brasil. Isso provavelmente deve evidenciar uma subrepresentação de várias regiões na amostragem e superrepresentação da região Sudeste.\n",
    "\n",
    "Quanto a diferença entre gêneros, não é possível verificar uma diferença clara entre os 2 gêneros, ambos seguindo um padrão semelhante."
   ]
  },
  {
   "cell_type": "markdown",
   "metadata": {},
   "source": [
    "- Salário"
   ]
  },
  {
   "cell_type": "code",
   "execution_count": 89,
   "metadata": {},
   "outputs": [
    {
     "data": {
      "text/html": [
       "<div>\n",
       "<style scoped>\n",
       "    .dataframe tbody tr th:only-of-type {\n",
       "        vertical-align: middle;\n",
       "    }\n",
       "\n",
       "    .dataframe tbody tr th {\n",
       "        vertical-align: top;\n",
       "    }\n",
       "\n",
       "    .dataframe thead th {\n",
       "        text-align: right;\n",
       "    }\n",
       "</style>\n",
       "<table border=\"1\" class=\"dataframe\">\n",
       "  <thead>\n",
       "    <tr style=\"text-align: right;\">\n",
       "      <th></th>\n",
       "      <th>Masculino</th>\n",
       "      <th>Feminino</th>\n",
       "    </tr>\n",
       "  </thead>\n",
       "  <tbody>\n",
       "    <tr>\n",
       "      <th>Acima de R$ 40.001/mês</th>\n",
       "      <td>0.016112</td>\n",
       "      <td>0.006881</td>\n",
       "    </tr>\n",
       "    <tr>\n",
       "      <th>Menos de R$ 1.000/mês</th>\n",
       "      <td>0.014033</td>\n",
       "      <td>0.011468</td>\n",
       "    </tr>\n",
       "    <tr>\n",
       "      <th>de R$ 1.001/mês a R$ 2.000/mês</th>\n",
       "      <td>0.053015</td>\n",
       "      <td>0.052752</td>\n",
       "    </tr>\n",
       "    <tr>\n",
       "      <th>de R$ 12.001/mês a R$ 16.000/mês</th>\n",
       "      <td>0.119023</td>\n",
       "      <td>0.077982</td>\n",
       "    </tr>\n",
       "    <tr>\n",
       "      <th>de R$ 16.001/mês a R$ 20.000/mês</th>\n",
       "      <td>0.058732</td>\n",
       "      <td>0.036697</td>\n",
       "    </tr>\n",
       "    <tr>\n",
       "      <th>de R$ 2.001/mês a R$ 3000/mês</th>\n",
       "      <td>0.072765</td>\n",
       "      <td>0.091743</td>\n",
       "    </tr>\n",
       "    <tr>\n",
       "      <th>de R$ 20.001/mês a R$ 25.000/mês</th>\n",
       "      <td>0.028067</td>\n",
       "      <td>0.018349</td>\n",
       "    </tr>\n",
       "    <tr>\n",
       "      <th>de R$ 25.001/mês a R$ 30.000/mês</th>\n",
       "      <td>0.020270</td>\n",
       "      <td>0.009174</td>\n",
       "    </tr>\n",
       "    <tr>\n",
       "      <th>de R$ 3.001/mês a R$ 4.000/mês</th>\n",
       "      <td>0.074324</td>\n",
       "      <td>0.091743</td>\n",
       "    </tr>\n",
       "    <tr>\n",
       "      <th>de R$ 30.001/mês a R$ 40.000/mês</th>\n",
       "      <td>0.017672</td>\n",
       "      <td>0.006881</td>\n",
       "    </tr>\n",
       "    <tr>\n",
       "      <th>de R$ 4.001/mês a R$ 6.000/mês</th>\n",
       "      <td>0.164761</td>\n",
       "      <td>0.190367</td>\n",
       "    </tr>\n",
       "    <tr>\n",
       "      <th>de R$ 6.001/mês a R$ 8.000/mês</th>\n",
       "      <td>0.162682</td>\n",
       "      <td>0.183486</td>\n",
       "    </tr>\n",
       "    <tr>\n",
       "      <th>de R$ 8.001/mês a R$ 12.000/mês</th>\n",
       "      <td>0.198545</td>\n",
       "      <td>0.222477</td>\n",
       "    </tr>\n",
       "  </tbody>\n",
       "</table>\n",
       "</div>"
      ],
      "text/plain": [
       "                                  Masculino  Feminino\n",
       "Acima de R$ 40.001/mês             0.016112  0.006881\n",
       "Menos de R$ 1.000/mês              0.014033  0.011468\n",
       "de R$ 1.001/mês a R$ 2.000/mês     0.053015  0.052752\n",
       "de R$ 12.001/mês a R$ 16.000/mês   0.119023  0.077982\n",
       "de R$ 16.001/mês a R$ 20.000/mês   0.058732  0.036697\n",
       "de R$ 2.001/mês a R$ 3000/mês      0.072765  0.091743\n",
       "de R$ 20.001/mês a R$ 25.000/mês   0.028067  0.018349\n",
       "de R$ 25.001/mês a R$ 30.000/mês   0.020270  0.009174\n",
       "de R$ 3.001/mês a R$ 4.000/mês     0.074324  0.091743\n",
       "de R$ 30.001/mês a R$ 40.000/mês   0.017672  0.006881\n",
       "de R$ 4.001/mês a R$ 6.000/mês     0.164761  0.190367\n",
       "de R$ 6.001/mês a R$ 8.000/mês     0.162682  0.183486\n",
       "de R$ 8.001/mês a R$ 12.000/mês    0.198545  0.222477"
      ]
     },
     "execution_count": 89,
     "metadata": {},
     "output_type": "execute_result"
    }
   ],
   "source": [
    "data = pd.DataFrame(df.loc[df['Genero']=='Masculino', 'Faixa salarial'].value_counts(normalize=True, sort=True))\n",
    "data_m = pd.DataFrame(df.loc[df['Genero']=='Feminino', 'Faixa salarial'].value_counts(normalize=True, sort=True))\n",
    "data = data.join(data_m, how='outer', lsuffix='_m', rsuffix='_f')\n",
    "data.rename(columns={'Faixa salarial_f':'Feminino', 'Faixa salarial_m': 'Masculino'}, inplace=True)\n",
    "data"
   ]
  },
  {
   "cell_type": "code",
   "execution_count": 97,
   "metadata": {},
   "outputs": [
    {
     "data": {
      "application/vnd.plotly.v1+json": {
       "config": {
        "plotlyServerURL": "https://plot.ly"
       },
       "data": [
        {
         "alignmentgroup": "True",
         "hovertemplate": "variable=Masculino<br>value=%{x}<br>index=%{y}<extra></extra>",
         "legendgroup": "Masculino",
         "marker": {
          "color": "#66c2a5",
          "pattern": {
           "shape": ""
          }
         },
         "name": "Masculino",
         "offsetgroup": "Masculino",
         "orientation": "h",
         "showlegend": true,
         "textposition": "auto",
         "type": "bar",
         "x": [
          0.016112266112266113,
          0.014033264033264034,
          0.05301455301455302,
          0.11902286902286903,
          0.058731808731808735,
          0.07276507276507277,
          0.028066528066528068,
          0.02027027027027027,
          0.07432432432432433,
          0.017671517671517672,
          0.16476091476091476,
          0.16268191268191268,
          0.19854469854469856
         ],
         "xaxis": "x",
         "y": [
          "Acima de R$ 40.001/mês",
          "Menos de R$ 1.000/mês",
          "de R$ 1.001/mês a R$ 2.000/mês",
          "de R$ 12.001/mês a R$ 16.000/mês",
          "de R$ 16.001/mês a R$ 20.000/mês",
          "de R$ 2.001/mês a R$ 3000/mês",
          "de R$ 20.001/mês a R$ 25.000/mês",
          "de R$ 25.001/mês a R$ 30.000/mês",
          "de R$ 3.001/mês a R$ 4.000/mês",
          "de R$ 30.001/mês a R$ 40.000/mês",
          "de R$ 4.001/mês a R$ 6.000/mês",
          "de R$ 6.001/mês a R$ 8.000/mês",
          "de R$ 8.001/mês a R$ 12.000/mês"
         ],
         "yaxis": "y"
        },
        {
         "alignmentgroup": "True",
         "hovertemplate": "variable=Feminino<br>value=%{x}<br>index=%{y}<extra></extra>",
         "legendgroup": "Feminino",
         "marker": {
          "color": "#fc8d62",
          "pattern": {
           "shape": ""
          }
         },
         "name": "Feminino",
         "offsetgroup": "Feminino",
         "orientation": "h",
         "showlegend": true,
         "textposition": "auto",
         "type": "bar",
         "x": [
          0.006880733944954129,
          0.011467889908256881,
          0.052752293577981654,
          0.0779816513761468,
          0.03669724770642202,
          0.09174311926605505,
          0.01834862385321101,
          0.009174311926605505,
          0.09174311926605505,
          0.006880733944954129,
          0.19036697247706422,
          0.1834862385321101,
          0.22247706422018348
         ],
         "xaxis": "x",
         "y": [
          "Acima de R$ 40.001/mês",
          "Menos de R$ 1.000/mês",
          "de R$ 1.001/mês a R$ 2.000/mês",
          "de R$ 12.001/mês a R$ 16.000/mês",
          "de R$ 16.001/mês a R$ 20.000/mês",
          "de R$ 2.001/mês a R$ 3000/mês",
          "de R$ 20.001/mês a R$ 25.000/mês",
          "de R$ 25.001/mês a R$ 30.000/mês",
          "de R$ 3.001/mês a R$ 4.000/mês",
          "de R$ 30.001/mês a R$ 40.000/mês",
          "de R$ 4.001/mês a R$ 6.000/mês",
          "de R$ 6.001/mês a R$ 8.000/mês",
          "de R$ 8.001/mês a R$ 12.000/mês"
         ],
         "yaxis": "y"
        }
       ],
       "layout": {
        "barmode": "relative",
        "height": 500,
        "legend": {
         "title": {
          "text": "variable"
         },
         "tracegroupgap": 0
        },
        "margin": {
         "t": 60
        },
        "template": {
         "data": {
          "bar": [
           {
            "error_x": {
             "color": "#2a3f5f"
            },
            "error_y": {
             "color": "#2a3f5f"
            },
            "marker": {
             "line": {
              "color": "#E5ECF6",
              "width": 0.5
             },
             "pattern": {
              "fillmode": "overlay",
              "size": 10,
              "solidity": 0.2
             }
            },
            "type": "bar"
           }
          ],
          "barpolar": [
           {
            "marker": {
             "line": {
              "color": "#E5ECF6",
              "width": 0.5
             },
             "pattern": {
              "fillmode": "overlay",
              "size": 10,
              "solidity": 0.2
             }
            },
            "type": "barpolar"
           }
          ],
          "carpet": [
           {
            "aaxis": {
             "endlinecolor": "#2a3f5f",
             "gridcolor": "white",
             "linecolor": "white",
             "minorgridcolor": "white",
             "startlinecolor": "#2a3f5f"
            },
            "baxis": {
             "endlinecolor": "#2a3f5f",
             "gridcolor": "white",
             "linecolor": "white",
             "minorgridcolor": "white",
             "startlinecolor": "#2a3f5f"
            },
            "type": "carpet"
           }
          ],
          "choropleth": [
           {
            "colorbar": {
             "outlinewidth": 0,
             "ticks": ""
            },
            "type": "choropleth"
           }
          ],
          "contour": [
           {
            "colorbar": {
             "outlinewidth": 0,
             "ticks": ""
            },
            "colorscale": [
             [
              0,
              "#0d0887"
             ],
             [
              0.1111111111111111,
              "#46039f"
             ],
             [
              0.2222222222222222,
              "#7201a8"
             ],
             [
              0.3333333333333333,
              "#9c179e"
             ],
             [
              0.4444444444444444,
              "#bd3786"
             ],
             [
              0.5555555555555556,
              "#d8576b"
             ],
             [
              0.6666666666666666,
              "#ed7953"
             ],
             [
              0.7777777777777778,
              "#fb9f3a"
             ],
             [
              0.8888888888888888,
              "#fdca26"
             ],
             [
              1,
              "#f0f921"
             ]
            ],
            "type": "contour"
           }
          ],
          "contourcarpet": [
           {
            "colorbar": {
             "outlinewidth": 0,
             "ticks": ""
            },
            "type": "contourcarpet"
           }
          ],
          "heatmap": [
           {
            "colorbar": {
             "outlinewidth": 0,
             "ticks": ""
            },
            "colorscale": [
             [
              0,
              "#0d0887"
             ],
             [
              0.1111111111111111,
              "#46039f"
             ],
             [
              0.2222222222222222,
              "#7201a8"
             ],
             [
              0.3333333333333333,
              "#9c179e"
             ],
             [
              0.4444444444444444,
              "#bd3786"
             ],
             [
              0.5555555555555556,
              "#d8576b"
             ],
             [
              0.6666666666666666,
              "#ed7953"
             ],
             [
              0.7777777777777778,
              "#fb9f3a"
             ],
             [
              0.8888888888888888,
              "#fdca26"
             ],
             [
              1,
              "#f0f921"
             ]
            ],
            "type": "heatmap"
           }
          ],
          "heatmapgl": [
           {
            "colorbar": {
             "outlinewidth": 0,
             "ticks": ""
            },
            "colorscale": [
             [
              0,
              "#0d0887"
             ],
             [
              0.1111111111111111,
              "#46039f"
             ],
             [
              0.2222222222222222,
              "#7201a8"
             ],
             [
              0.3333333333333333,
              "#9c179e"
             ],
             [
              0.4444444444444444,
              "#bd3786"
             ],
             [
              0.5555555555555556,
              "#d8576b"
             ],
             [
              0.6666666666666666,
              "#ed7953"
             ],
             [
              0.7777777777777778,
              "#fb9f3a"
             ],
             [
              0.8888888888888888,
              "#fdca26"
             ],
             [
              1,
              "#f0f921"
             ]
            ],
            "type": "heatmapgl"
           }
          ],
          "histogram": [
           {
            "marker": {
             "pattern": {
              "fillmode": "overlay",
              "size": 10,
              "solidity": 0.2
             }
            },
            "type": "histogram"
           }
          ],
          "histogram2d": [
           {
            "colorbar": {
             "outlinewidth": 0,
             "ticks": ""
            },
            "colorscale": [
             [
              0,
              "#0d0887"
             ],
             [
              0.1111111111111111,
              "#46039f"
             ],
             [
              0.2222222222222222,
              "#7201a8"
             ],
             [
              0.3333333333333333,
              "#9c179e"
             ],
             [
              0.4444444444444444,
              "#bd3786"
             ],
             [
              0.5555555555555556,
              "#d8576b"
             ],
             [
              0.6666666666666666,
              "#ed7953"
             ],
             [
              0.7777777777777778,
              "#fb9f3a"
             ],
             [
              0.8888888888888888,
              "#fdca26"
             ],
             [
              1,
              "#f0f921"
             ]
            ],
            "type": "histogram2d"
           }
          ],
          "histogram2dcontour": [
           {
            "colorbar": {
             "outlinewidth": 0,
             "ticks": ""
            },
            "colorscale": [
             [
              0,
              "#0d0887"
             ],
             [
              0.1111111111111111,
              "#46039f"
             ],
             [
              0.2222222222222222,
              "#7201a8"
             ],
             [
              0.3333333333333333,
              "#9c179e"
             ],
             [
              0.4444444444444444,
              "#bd3786"
             ],
             [
              0.5555555555555556,
              "#d8576b"
             ],
             [
              0.6666666666666666,
              "#ed7953"
             ],
             [
              0.7777777777777778,
              "#fb9f3a"
             ],
             [
              0.8888888888888888,
              "#fdca26"
             ],
             [
              1,
              "#f0f921"
             ]
            ],
            "type": "histogram2dcontour"
           }
          ],
          "mesh3d": [
           {
            "colorbar": {
             "outlinewidth": 0,
             "ticks": ""
            },
            "type": "mesh3d"
           }
          ],
          "parcoords": [
           {
            "line": {
             "colorbar": {
              "outlinewidth": 0,
              "ticks": ""
             }
            },
            "type": "parcoords"
           }
          ],
          "pie": [
           {
            "automargin": true,
            "type": "pie"
           }
          ],
          "scatter": [
           {
            "fillpattern": {
             "fillmode": "overlay",
             "size": 10,
             "solidity": 0.2
            },
            "type": "scatter"
           }
          ],
          "scatter3d": [
           {
            "line": {
             "colorbar": {
              "outlinewidth": 0,
              "ticks": ""
             }
            },
            "marker": {
             "colorbar": {
              "outlinewidth": 0,
              "ticks": ""
             }
            },
            "type": "scatter3d"
           }
          ],
          "scattercarpet": [
           {
            "marker": {
             "colorbar": {
              "outlinewidth": 0,
              "ticks": ""
             }
            },
            "type": "scattercarpet"
           }
          ],
          "scattergeo": [
           {
            "marker": {
             "colorbar": {
              "outlinewidth": 0,
              "ticks": ""
             }
            },
            "type": "scattergeo"
           }
          ],
          "scattergl": [
           {
            "marker": {
             "colorbar": {
              "outlinewidth": 0,
              "ticks": ""
             }
            },
            "type": "scattergl"
           }
          ],
          "scattermapbox": [
           {
            "marker": {
             "colorbar": {
              "outlinewidth": 0,
              "ticks": ""
             }
            },
            "type": "scattermapbox"
           }
          ],
          "scatterpolar": [
           {
            "marker": {
             "colorbar": {
              "outlinewidth": 0,
              "ticks": ""
             }
            },
            "type": "scatterpolar"
           }
          ],
          "scatterpolargl": [
           {
            "marker": {
             "colorbar": {
              "outlinewidth": 0,
              "ticks": ""
             }
            },
            "type": "scatterpolargl"
           }
          ],
          "scatterternary": [
           {
            "marker": {
             "colorbar": {
              "outlinewidth": 0,
              "ticks": ""
             }
            },
            "type": "scatterternary"
           }
          ],
          "surface": [
           {
            "colorbar": {
             "outlinewidth": 0,
             "ticks": ""
            },
            "colorscale": [
             [
              0,
              "#0d0887"
             ],
             [
              0.1111111111111111,
              "#46039f"
             ],
             [
              0.2222222222222222,
              "#7201a8"
             ],
             [
              0.3333333333333333,
              "#9c179e"
             ],
             [
              0.4444444444444444,
              "#bd3786"
             ],
             [
              0.5555555555555556,
              "#d8576b"
             ],
             [
              0.6666666666666666,
              "#ed7953"
             ],
             [
              0.7777777777777778,
              "#fb9f3a"
             ],
             [
              0.8888888888888888,
              "#fdca26"
             ],
             [
              1,
              "#f0f921"
             ]
            ],
            "type": "surface"
           }
          ],
          "table": [
           {
            "cells": {
             "fill": {
              "color": "#EBF0F8"
             },
             "line": {
              "color": "white"
             }
            },
            "header": {
             "fill": {
              "color": "#C8D4E3"
             },
             "line": {
              "color": "white"
             }
            },
            "type": "table"
           }
          ]
         },
         "layout": {
          "annotationdefaults": {
           "arrowcolor": "#2a3f5f",
           "arrowhead": 0,
           "arrowwidth": 1
          },
          "autotypenumbers": "strict",
          "coloraxis": {
           "colorbar": {
            "outlinewidth": 0,
            "ticks": ""
           }
          },
          "colorscale": {
           "diverging": [
            [
             0,
             "#8e0152"
            ],
            [
             0.1,
             "#c51b7d"
            ],
            [
             0.2,
             "#de77ae"
            ],
            [
             0.3,
             "#f1b6da"
            ],
            [
             0.4,
             "#fde0ef"
            ],
            [
             0.5,
             "#f7f7f7"
            ],
            [
             0.6,
             "#e6f5d0"
            ],
            [
             0.7,
             "#b8e186"
            ],
            [
             0.8,
             "#7fbc41"
            ],
            [
             0.9,
             "#4d9221"
            ],
            [
             1,
             "#276419"
            ]
           ],
           "sequential": [
            [
             0,
             "#0d0887"
            ],
            [
             0.1111111111111111,
             "#46039f"
            ],
            [
             0.2222222222222222,
             "#7201a8"
            ],
            [
             0.3333333333333333,
             "#9c179e"
            ],
            [
             0.4444444444444444,
             "#bd3786"
            ],
            [
             0.5555555555555556,
             "#d8576b"
            ],
            [
             0.6666666666666666,
             "#ed7953"
            ],
            [
             0.7777777777777778,
             "#fb9f3a"
            ],
            [
             0.8888888888888888,
             "#fdca26"
            ],
            [
             1,
             "#f0f921"
            ]
           ],
           "sequentialminus": [
            [
             0,
             "#0d0887"
            ],
            [
             0.1111111111111111,
             "#46039f"
            ],
            [
             0.2222222222222222,
             "#7201a8"
            ],
            [
             0.3333333333333333,
             "#9c179e"
            ],
            [
             0.4444444444444444,
             "#bd3786"
            ],
            [
             0.5555555555555556,
             "#d8576b"
            ],
            [
             0.6666666666666666,
             "#ed7953"
            ],
            [
             0.7777777777777778,
             "#fb9f3a"
            ],
            [
             0.8888888888888888,
             "#fdca26"
            ],
            [
             1,
             "#f0f921"
            ]
           ]
          },
          "colorway": [
           "#636efa",
           "#EF553B",
           "#00cc96",
           "#ab63fa",
           "#FFA15A",
           "#19d3f3",
           "#FF6692",
           "#B6E880",
           "#FF97FF",
           "#FECB52"
          ],
          "font": {
           "color": "#2a3f5f"
          },
          "geo": {
           "bgcolor": "white",
           "lakecolor": "white",
           "landcolor": "#E5ECF6",
           "showlakes": true,
           "showland": true,
           "subunitcolor": "white"
          },
          "hoverlabel": {
           "align": "left"
          },
          "hovermode": "closest",
          "mapbox": {
           "style": "light"
          },
          "paper_bgcolor": "white",
          "plot_bgcolor": "#E5ECF6",
          "polar": {
           "angularaxis": {
            "gridcolor": "white",
            "linecolor": "white",
            "ticks": ""
           },
           "bgcolor": "#E5ECF6",
           "radialaxis": {
            "gridcolor": "white",
            "linecolor": "white",
            "ticks": ""
           }
          },
          "scene": {
           "xaxis": {
            "backgroundcolor": "#E5ECF6",
            "gridcolor": "white",
            "gridwidth": 2,
            "linecolor": "white",
            "showbackground": true,
            "ticks": "",
            "zerolinecolor": "white"
           },
           "yaxis": {
            "backgroundcolor": "#E5ECF6",
            "gridcolor": "white",
            "gridwidth": 2,
            "linecolor": "white",
            "showbackground": true,
            "ticks": "",
            "zerolinecolor": "white"
           },
           "zaxis": {
            "backgroundcolor": "#E5ECF6",
            "gridcolor": "white",
            "gridwidth": 2,
            "linecolor": "white",
            "showbackground": true,
            "ticks": "",
            "zerolinecolor": "white"
           }
          },
          "shapedefaults": {
           "line": {
            "color": "#2a3f5f"
           }
          },
          "ternary": {
           "aaxis": {
            "gridcolor": "white",
            "linecolor": "white",
            "ticks": ""
           },
           "baxis": {
            "gridcolor": "white",
            "linecolor": "white",
            "ticks": ""
           },
           "bgcolor": "#E5ECF6",
           "caxis": {
            "gridcolor": "white",
            "linecolor": "white",
            "ticks": ""
           }
          },
          "title": {
           "x": 0.05
          },
          "xaxis": {
           "automargin": true,
           "gridcolor": "white",
           "linecolor": "white",
           "ticks": "",
           "title": {
            "standoff": 15
           },
           "zerolinecolor": "white",
           "zerolinewidth": 2
          },
          "yaxis": {
           "automargin": true,
           "gridcolor": "white",
           "linecolor": "white",
           "ticks": "",
           "title": {
            "standoff": 15
           },
           "zerolinecolor": "white",
           "zerolinewidth": 2
          }
         }
        },
        "title": {
         "text": "Proporção de Faixa Salarial entre Homens e Mulheres",
         "x": 0.5
        },
        "width": 950,
        "xaxis": {
         "anchor": "y",
         "domain": [
          0,
          1
         ],
         "title": {
          "text": "Proporção"
         }
        },
        "yaxis": {
         "anchor": "x",
         "domain": [
          0,
          1
         ],
         "title": {
          "text": "Faixa Salarial"
         }
        }
       }
      }
     },
     "metadata": {},
     "output_type": "display_data"
    }
   ],
   "source": [
    "data = pd.DataFrame(df.loc[df['Genero']=='Masculino', 'Faixa salarial'].value_counts(normalize=True, sort=True))\n",
    "data_m = pd.DataFrame(df.loc[df['Genero']=='Feminino', 'Faixa salarial'].value_counts(normalize=True, sort=True))\n",
    "data = data.join(data_m, how='outer', lsuffix='_m', rsuffix='_f')\n",
    "data.rename(columns={'Faixa salarial_f':'Feminino', 'Faixa salarial_m': 'Masculino'}, inplace=True)\n",
    "fig = px.bar(data, orientation='h', color_discrete_sequence=color_pal)\n",
    "\n",
    "fig.update_layout(width=950, height=500, \n",
    "                  title_text='Proporção de Faixa Salarial entre Homens e Mulheres',\n",
    "                  title_x=0.50,\n",
    "                  yaxis_title='Faixa Salarial', \n",
    "                  xaxis_title='Proporção',\n",
    "                  )\n",
    "\n",
    "\n",
    "fig.show()     "
   ]
  },
  {
   "cell_type": "code",
   "execution_count": 11,
   "metadata": {},
   "outputs": [
    {
     "data": {
      "text/plain": [
       "<AxesSubplot: xlabel='count', ylabel='Faixa salarial'>"
      ]
     },
     "execution_count": 11,
     "metadata": {},
     "output_type": "execute_result"
    },
    {
     "data": {
      "image/png": "[encoded data removed]",
      "text/plain": [
       "<Figure size 640x480 with 1 Axes>"
      ]
     },
     "metadata": {},
     "output_type": "display_data"
    }
   ],
   "source": [
    "sns.countplot(df, y=\"Faixa salarial\", hue=\"Genero\")"
   ]
  },
  {
   "cell_type": "markdown",
   "metadata": {},
   "source": [
    "## Escolaridade entre homens e mulheres"
   ]
  },
  {
   "cell_type": "markdown",
   "metadata": {},
   "source": [
    "### Nível geral de escolaridade"
   ]
  },
  {
   "cell_type": "code",
   "execution_count": 12,
   "metadata": {},
   "outputs": [
    {
     "data": {
      "image/png": "[encoded data removed]",
      "text/plain": [
       "<Figure size 640x480 with 1 Axes>"
      ]
     },
     "metadata": {},
     "output_type": "display_data"
    }
   ],
   "source": [
    "# Histograma Escolaridade\n",
    "g = sns.histplot(df,\n",
    "             y=\"Nivel de Ensino\", hue=\"Genero\",\n",
    "             multiple=\"dodge\",\n",
    "             linewidth = 0.1)\n",
    "sns.move_legend(g, \"lower right\")"
   ]
  },
  {
   "cell_type": "markdown",
   "metadata": {},
   "source": [
    "## Índice de Empregados x Desempregados entre entrevistados"
   ]
  },
  {
   "cell_type": "markdown",
   "metadata": {},
   "source": [
    "### Histograma comparativo de empregados x desempregados com a situação especificada"
   ]
  },
  {
   "cell_type": "code",
   "execution_count": 13,
   "metadata": {},
   "outputs": [
    {
     "data": {
      "text/plain": [
       "<AxesSubplot: xlabel='Count', ylabel='Qual sua situação atual de trabalho?'>"
      ]
     },
     "execution_count": 13,
     "metadata": {},
     "output_type": "execute_result"
    },
    {
     "data": {
      "image/png": "[encoded data removed]",
      "text/plain": [
       "<Figure size 640x480 with 1 Axes>"
      ]
     },
     "metadata": {},
     "output_type": "display_data"
    }
   ],
   "source": [
    "# Histograma comparativo de empregados x desempregados com funções discriminadas \n",
    "sns.histplot(df,\n",
    "             y=\"Qual sua situação atual de trabalho?\", hue=\"Genero\",\n",
    "             multiple=\"dodge\",\n",
    "             linewidth = 0.1)"
   ]
  },
  {
   "cell_type": "markdown",
   "metadata": {},
   "source": [
    "### Histograma comparativo de empregados x desempregados com a situação generalizada"
   ]
  },
  {
   "cell_type": "code",
   "execution_count": 14,
   "metadata": {},
   "outputs": [
    {
     "data": {
      "text/plain": [
       "<AxesSubplot: xlabel='Count', ylabel='Situação'>"
      ]
     },
     "execution_count": 14,
     "metadata": {},
     "output_type": "execute_result"
    },
    {
     "data": {
      "image/png": "[encoded data removed]",
      "text/plain": [
       "<Figure size 640x480 with 1 Axes>"
      ]
     },
     "metadata": {},
     "output_type": "display_data"
    }
   ],
   "source": [
    "# Histograma comparativo de empregados x desempregados com funções geral \n",
    "\n",
    "empregado = ['Empregado (CLT)','Empreendedor ou Empregado (CNPJ)','Servidor Público',\n",
    " 'Vivo no Brasil e trabalho remoto para empresa de fora do Brasil (PJ)',\n",
    " 'Vivo fora do Brasil e trabalho para empresa de fora do Brasil',\n",
    " 'Trabalho na área Acadêmica/Pesquisador']\n",
    "\n",
    "def verifica_valor(valor):\n",
    "    if valor in empregado:\n",
    "        return 'Empregado'\n",
    "    else:\n",
    "        return 'Desempregado'\n",
    "    \n",
    "# Aplicar a função para criar a nova coluna 'Situação'\n",
    "\n",
    "df['Situação'] = df['Qual sua situação atual de trabalho?'].apply(verifica_valor)\n",
    "\n",
    "# Histograma EmpregadosxDesempregados geral\n",
    "sns.histplot(df,\n",
    "             y=\"Situação\", hue=\"Genero\",\n",
    "             multiple=\"dodge\",\n",
    "             linewidth = 0.1)"
   ]
  },
  {
   "cell_type": "markdown",
   "metadata": {},
   "source": [
    "## Ocupação de cargos entre homens e mulheres"
   ]
  },
  {
   "cell_type": "markdown",
   "metadata": {},
   "source": [
    "### Cargos operacionais"
   ]
  },
  {
   "cell_type": "code",
   "execution_count": 15,
   "metadata": {},
   "outputs": [
    {
     "data": {
      "text/plain": [
       "<AxesSubplot: xlabel='Count', ylabel='Cargo Atual'>"
      ]
     },
     "execution_count": 15,
     "metadata": {},
     "output_type": "execute_result"
    },
    {
     "data": {
      "image/png": "[encoded data removed]",
      "text/plain": [
       "<Figure size 640x480 with 1 Axes>"
      ]
     },
     "metadata": {},
     "output_type": "display_data"
    }
   ],
   "source": [
    "# Histograma de ocupação de cargos operacionais\n",
    "df_cargos = df.loc[df['Cargo Atual']!='NdA']\n",
    "sns.histplot(df_cargos,\n",
    "             y=\"Cargo Atual\", hue=\"Genero\",\n",
    "             multiple=\"dodge\",\n",
    "             linewidth = 0.1)"
   ]
  },
  {
   "cell_type": "markdown",
   "metadata": {},
   "source": [
    "### Cargos de gestão "
   ]
  },
  {
   "cell_type": "code",
   "execution_count": 16,
   "metadata": {},
   "outputs": [
    {
     "data": {
      "text/plain": [
       "<AxesSubplot: xlabel='Count', ylabel='Cargo como Gestor'>"
      ]
     },
     "execution_count": 16,
     "metadata": {},
     "output_type": "execute_result"
    },
    {
     "data": {
      "image/png": "[encoded data removed]",
      "text/plain": [
       "<Figure size 640x480 with 1 Axes>"
      ]
     },
     "metadata": {},
     "output_type": "display_data"
    }
   ],
   "source": [
    "# Histograma de ocupação de cargos de gestão\n",
    "df_gestor = df.loc[df['Cargo como Gestor']!='NdA']\n",
    "sns.histplot(df_gestor,\n",
    "             y=\"Cargo como Gestor\", hue=\"Genero\",\n",
    "             multiple=\"dodge\",\n",
    "             linewidth = 0.1)"
   ]
  },
  {
   "cell_type": "markdown",
   "metadata": {},
   "source": [
    "## Insatisfação com a empresa onde trabalha atualmente."
   ]
  },
  {
   "cell_type": "markdown",
   "metadata": {},
   "source": [
    "### Nível geral de insatisfação"
   ]
  },
  {
   "cell_type": "code",
   "execution_count": 17,
   "metadata": {},
   "outputs": [
    {
     "data": {
      "image/png": "[encoded data removed]",
      "text/plain": [
       "<Figure size 1200x500 with 2 Axes>"
      ]
     },
     "metadata": {},
     "output_type": "display_data"
    }
   ],
   "source": [
    "# Visualização utilizando o Pandas\n",
    "\n",
    "data = df[[\n",
    "    'Genero','Você está satisfeito na sua empresa atual?'\n",
    "    ]].value_counts().reset_index().pivot_table(\n",
    "                                                index='Você está satisfeito na sua empresa atual?', \n",
    "                                                values='Você está satisfeito na sua empresa atual?', \n",
    "                                                columns='Genero'\n",
    "                                                )\n",
    "\n",
    "data.plot(kind='pie', \n",
    "          subplots=True, \n",
    "          figsize=(12, 5),\n",
    "          title='Satisfação com a empresa atual', \n",
    "          autopct='%1.1f%%', \n",
    "          labels=['Insatisfeito', 'Satisfeito'],\n",
    "          legend=False,\n",
    "          colors=[color_pal[2], color_pal[4]],\n",
    "          )\n",
    "\n",
    "plt.show()"
   ]
  },
  {
   "cell_type": "markdown",
   "metadata": {},
   "source": [
    "Percebemos que, proporcionalmente, não há grande diferença entre gêneros referente à quantidade de pessoas insatisfeitas com seus trabalhos."
   ]
  },
  {
   "cell_type": "markdown",
   "metadata": {},
   "source": [
    "### Principais motivos de insatisfação.\n",
    "\n",
    "Valores proporcionais para cada alternativa calculados usando a quantidade de insatisfeitos por gênero."
   ]
  },
  {
   "cell_type": "code",
   "execution_count": 18,
   "metadata": {},
   "outputs": [
    {
     "data": {
      "image/png": "[encoded data removed]",
      "text/plain": [
       "<Figure size 800x500 with 1 Axes>"
      ]
     },
     "metadata": {},
     "output_type": "display_data"
    }
   ],
   "source": [
    "# Visualização utilizando o Seaborn\n",
    "columns = ['Genero','Falta de oportunidade de crescimento no emprego atual',\n",
    " 'Salário atual não corresponde ao mercado',\n",
    " 'Não tenho uma boa relação com meu líder/gestor',\n",
    " 'Gostaria de trabalhar em em outra área de atuação',\n",
    " 'Gostaria de receber mais benefícios',\n",
    " 'O clima de trabalho/ambiente não é bom',\n",
    " 'Falta de maturidade analítica na empresa']\n",
    "\n",
    "insatisfeitos = df.loc[df['Você está satisfeito na sua empresa atual?']==0]\n",
    "\n",
    "df_motivos = insatisfeitos[columns].replace(-1.0, 0.0)\n",
    "df_motivos= df_motivos.groupby('Genero').sum().apply(lambda x: (x/x.sum())*100, axis=1)\n",
    "df_melted = df_motivos.reset_index().melt(id_vars='Genero', var_name='Motivo', value_name='Value')\n",
    "\n",
    "fig, ax = plt.subplots(figsize=(8, 5))\n",
    "sns.barplot(df_melted, \n",
    "            y='Motivo', \n",
    "            x='Value', \n",
    "            hue='Genero', \n",
    "            orient='h', \n",
    "            palette=[color_pal[1], color_pal[0]],\n",
    "            width=0.8,\n",
    "            )\n",
    "\n",
    "plt.title('Motivos de insatisfação com o trabalho atual')\n",
    "ax.set_ylabel('')\n",
    "ax.set_xlabel('Pessoas que marcaram a opção correspondente (%)')\n",
    "\n",
    "plt.show()"
   ]
  },
  {
   "cell_type": "markdown",
   "metadata": {},
   "source": [
    "Podemos observar que entre os entrevistados que se identificaram como o gênero masculino, há maior predominância de insatisfação com o salário atual, enquanto que no gênero feminino há maior preocupação com as oportunidades de crescimento e relação com o gestor.\n",
    "Como vimos anteriormente, a quantidade de pessoas do gênero feminino em cargos de gestão é bem menor, o que pode influenciar tanto na perspectiva de crescimento da funcionária quanto na relação com o líder."
   ]
  },
  {
   "cell_type": "markdown",
   "metadata": {},
   "source": [
    "### Insatisfação x idade"
   ]
  },
  {
   "cell_type": "code",
   "execution_count": 19,
   "metadata": {},
   "outputs": [
    {
     "data": {
      "application/vnd.plotly.v1+json": {
       "config": {
        "plotlyServerURL": "https://plot.ly"
       },
       "data": [
        {
         "alignmentgroup": "True",
         "box": {
          "visible": false
         },
         "hovertemplate": "Genero=Masculino<br>Idade=%{y}<extra></extra>",
         "legendgroup": "Masculino",
         "marker": {
          "color": "#66c2a5"
         },
         "name": "Masculino",
         "offsetgroup": "Masculino",
         "orientation": "v",
         "scalegroup": "True",
         "showlegend": true,
         "type": "violin",
         "x0": " ",
         "xaxis": "x",
         "y": [
          30,
          36,
          39,
          27,
          42,
          43,
          38,
          29,
          46,
          34,
          43,
          43,
          38,
          37,
          21,
          47,
          33,
          38,
          42,
          25,
          37,
          27,
          44,
          32,
          35,
          45,
          40,
          29,
          45,
          50,
          29,
          43,
          34,
          38,
          39,
          39,
          37,
          36,
          25,
          31,
          32,
          31,
          33,
          26,
          52,
          46,
          42,
          36,
          46,
          29,
          45,
          33,
          33,
          50,
          32,
          31,
          35,
          31,
          26,
          29,
          30,
          52,
          40,
          29,
          38,
          29,
          40,
          42,
          32,
          49,
          37,
          30,
          31,
          27,
          45,
          48,
          27,
          46,
          35,
          39,
          33,
          30,
          26,
          49,
          24,
          43,
          49,
          29,
          25,
          45,
          31,
          43,
          46,
          31,
          31,
          34,
          23,
          26,
          27,
          30,
          26,
          34,
          45,
          40,
          30,
          27,
          36,
          32,
          24,
          27,
          23,
          43,
          36,
          36,
          31,
          44,
          24,
          28,
          40,
          24,
          22,
          41,
          36,
          22,
          46,
          28,
          22,
          35,
          33,
          32,
          32,
          35,
          43,
          27,
          30,
          32,
          23,
          38,
          31,
          44,
          32,
          29,
          35,
          41,
          26,
          29,
          33,
          31,
          38,
          32,
          26,
          27,
          37,
          22,
          26,
          35,
          44,
          41,
          30,
          36,
          29,
          31,
          33,
          27,
          24,
          27,
          45,
          25,
          37,
          51,
          28,
          25,
          33,
          39,
          36,
          42,
          30,
          30,
          39,
          27,
          40,
          30,
          26,
          30,
          26,
          23,
          37,
          46,
          31,
          27,
          24,
          24,
          21,
          36,
          22,
          47,
          23,
          44,
          31,
          42,
          36,
          51,
          25,
          30,
          49,
          20,
          34,
          34,
          35,
          28,
          31,
          21,
          29,
          37,
          21,
          35,
          26,
          37,
          33,
          32,
          51,
          21,
          25,
          42,
          42,
          31,
          24,
          43,
          33,
          37,
          32,
          23,
          28,
          51,
          34,
          27,
          33,
          41,
          26,
          30,
          34,
          29,
          36,
          26,
          27,
          34,
          28,
          22,
          24,
          38,
          28,
          29,
          38,
          25,
          25,
          30,
          30,
          25,
          26,
          23,
          36,
          41,
          25,
          45,
          26,
          40,
          35,
          30,
          23,
          24,
          27,
          23,
          25,
          31,
          25,
          51,
          34,
          25,
          27,
          30,
          26,
          35,
          41,
          26,
          28,
          42,
          32,
          29,
          37,
          29,
          24,
          34,
          23,
          43,
          21,
          25,
          24,
          33,
          41,
          35,
          37,
          33,
          40,
          30,
          32,
          26,
          26,
          31,
          52,
          25,
          38,
          28,
          26,
          30,
          39,
          33,
          33,
          38,
          28,
          43,
          27,
          32,
          20,
          26,
          31,
          40,
          33,
          51,
          25,
          34,
          33,
          30,
          25,
          33,
          36,
          38,
          31,
          25,
          23,
          36,
          27,
          27,
          34,
          42,
          27,
          34,
          33,
          27,
          28,
          23,
          28,
          34,
          27,
          33,
          28,
          32,
          29,
          29,
          25,
          24,
          35,
          44,
          47,
          30,
          31,
          36,
          30,
          27,
          26,
          26,
          22,
          38,
          35,
          30,
          48,
          38,
          27,
          23,
          20,
          33,
          25,
          38,
          21,
          45,
          26,
          28,
          23,
          21,
          35,
          37,
          26,
          30,
          37,
          34,
          31,
          38,
          31,
          31,
          42,
          35,
          27,
          22,
          27,
          30,
          33,
          33,
          32,
          39,
          33,
          21,
          23,
          20,
          32,
          31,
          35,
          27,
          26,
          21,
          25,
          23,
          26,
          36,
          35,
          40,
          54,
          30,
          45,
          25,
          26,
          33,
          31,
          23,
          28,
          25,
          29,
          44,
          33,
          40,
          35,
          33,
          40,
          40,
          34,
          28,
          38,
          38,
          30,
          25,
          38,
          34,
          32,
          28,
          32,
          31,
          25,
          24,
          28,
          25,
          28,
          40,
          40,
          36,
          30,
          26,
          33,
          24,
          38,
          38,
          36,
          23,
          26,
          27,
          22,
          28,
          36,
          29,
          32,
          33,
          34,
          31,
          49,
          25,
          41,
          33,
          27,
          29,
          28,
          29,
          30,
          30,
          34,
          24
         ],
         "y0": " ",
         "yaxis": "y"
        },
        {
         "alignmentgroup": "True",
         "box": {
          "visible": false
         },
         "hovertemplate": "Genero=Feminino<br>Idade=%{y}<extra></extra>",
         "legendgroup": "Feminino",
         "marker": {
          "color": "#fc8d62"
         },
         "name": "Feminino",
         "offsetgroup": "Feminino",
         "orientation": "v",
         "scalegroup": "True",
         "showlegend": true,
         "type": "violin",
         "x0": " ",
         "xaxis": "x",
         "y": [
          38,
          34,
          33,
          22,
          38,
          30,
          25,
          35,
          39,
          38,
          50,
          41,
          38,
          45,
          46,
          37,
          29,
          35,
          48,
          24,
          37,
          31,
          30,
          41,
          36,
          30,
          31,
          30,
          29,
          38,
          38,
          24,
          44,
          32,
          28,
          42,
          43,
          28,
          27,
          20,
          32,
          39,
          31,
          27,
          30,
          26,
          53,
          23,
          25,
          24,
          35,
          39,
          29,
          34,
          39,
          22,
          28,
          25,
          33,
          32,
          22,
          30,
          31,
          34,
          28,
          36,
          34,
          21,
          37,
          29,
          28,
          41,
          22,
          21,
          26,
          33,
          38,
          31,
          26,
          38,
          29,
          29,
          25,
          24,
          22,
          33,
          41,
          33,
          23,
          29,
          21,
          28,
          22,
          29,
          24,
          24,
          39,
          23,
          34,
          24,
          27,
          25,
          23,
          54,
          22,
          22,
          29,
          30,
          23,
          36,
          26,
          29,
          35,
          30,
          25,
          33,
          28,
          24,
          27
         ],
         "y0": " ",
         "yaxis": "y"
        }
       ],
       "layout": {
        "height": 500,
        "legend": {
         "title": {
          "text": "Genero"
         },
         "tracegroupgap": 0
        },
        "margin": {
         "t": 60
        },
        "template": {
         "data": {
          "bar": [
           {
            "error_x": {
             "color": "#2a3f5f"
            },
            "error_y": {
             "color": "#2a3f5f"
            },
            "marker": {
             "line": {
              "color": "white",
              "width": 0.5
             },
             "pattern": {
              "fillmode": "overlay",
              "size": 10,
              "solidity": 0.2
             }
            },
            "type": "bar"
           }
          ],
          "barpolar": [
           {
            "marker": {
             "line": {
              "color": "white",
              "width": 0.5
             },
             "pattern": {
              "fillmode": "overlay",
              "size": 10,
              "solidity": 0.2
             }
            },
            "type": "barpolar"
           }
          ],
          "carpet": [
           {
            "aaxis": {
             "endlinecolor": "#2a3f5f",
             "gridcolor": "#C8D4E3",
             "linecolor": "#C8D4E3",
             "minorgridcolor": "#C8D4E3",
             "startlinecolor": "#2a3f5f"
            },
            "baxis": {
             "endlinecolor": "#2a3f5f",
             "gridcolor": "#C8D4E3",
             "linecolor": "#C8D4E3",
             "minorgridcolor": "#C8D4E3",
             "startlinecolor": "#2a3f5f"
            },
            "type": "carpet"
           }
          ],
          "choropleth": [
           {
            "colorbar": {
             "outlinewidth": 0,
             "ticks": ""
            },
            "type": "choropleth"
           }
          ],
          "contour": [
           {
            "colorbar": {
             "outlinewidth": 0,
             "ticks": ""
            },
            "colorscale": [
             [
              0,
              "#0d0887"
             ],
             [
              0.1111111111111111,
              "#46039f"
             ],
             [
              0.2222222222222222,
              "#7201a8"
             ],
             [
              0.3333333333333333,
              "#9c179e"
             ],
             [
              0.4444444444444444,
              "#bd3786"
             ],
             [
              0.5555555555555556,
              "#d8576b"
             ],
             [
              0.6666666666666666,
              "#ed7953"
             ],
             [
              0.7777777777777778,
              "#fb9f3a"
             ],
             [
              0.8888888888888888,
              "#fdca26"
             ],
             [
              1,
              "#f0f921"
             ]
            ],
            "type": "contour"
           }
          ],
          "contourcarpet": [
           {
            "colorbar": {
             "outlinewidth": 0,
             "ticks": ""
            },
            "type": "contourcarpet"
           }
          ],
          "heatmap": [
           {
            "colorbar": {
             "outlinewidth": 0,
             "ticks": ""
            },
            "colorscale": [
             [
              0,
              "#0d0887"
             ],
             [
              0.1111111111111111,
              "#46039f"
             ],
             [
              0.2222222222222222,
              "#7201a8"
             ],
             [
              0.3333333333333333,
              "#9c179e"
             ],
             [
              0.4444444444444444,
              "#bd3786"
             ],
             [
              0.5555555555555556,
              "#d8576b"
             ],
             [
              0.6666666666666666,
              "#ed7953"
             ],
             [
              0.7777777777777778,
              "#fb9f3a"
             ],
             [
              0.8888888888888888,
              "#fdca26"
             ],
             [
              1,
              "#f0f921"
             ]
            ],
            "type": "heatmap"
           }
          ],
          "heatmapgl": [
           {
            "colorbar": {
             "outlinewidth": 0,
             "ticks": ""
            },
            "colorscale": [
             [
              0,
              "#0d0887"
             ],
             [
              0.1111111111111111,
              "#46039f"
             ],
             [
              0.2222222222222222,
              "#7201a8"
             ],
             [
              0.3333333333333333,
              "#9c179e"
             ],
             [
              0.4444444444444444,
              "#bd3786"
             ],
             [
              0.5555555555555556,
              "#d8576b"
             ],
             [
              0.6666666666666666,
              "#ed7953"
             ],
             [
              0.7777777777777778,
              "#fb9f3a"
             ],
             [
              0.8888888888888888,
              "#fdca26"
             ],
             [
              1,
              "#f0f921"
             ]
            ],
            "type": "heatmapgl"
           }
          ],
          "histogram": [
           {
            "marker": {
             "pattern": {
              "fillmode": "overlay",
              "size": 10,
              "solidity": 0.2
             }
            },
            "type": "histogram"
           }
          ],
          "histogram2d": [
           {
            "colorbar": {
             "outlinewidth": 0,
             "ticks": ""
            },
            "colorscale": [
             [
              0,
              "#0d0887"
             ],
             [
              0.1111111111111111,
              "#46039f"
             ],
             [
              0.2222222222222222,
              "#7201a8"
             ],
             [
              0.3333333333333333,
              "#9c179e"
             ],
             [
              0.4444444444444444,
              "#bd3786"
             ],
             [
              0.5555555555555556,
              "#d8576b"
             ],
             [
              0.6666666666666666,
              "#ed7953"
             ],
             [
              0.7777777777777778,
              "#fb9f3a"
             ],
             [
              0.8888888888888888,
              "#fdca26"
             ],
             [
              1,
              "#f0f921"
             ]
            ],
            "type": "histogram2d"
           }
          ],
          "histogram2dcontour": [
           {
            "colorbar": {
             "outlinewidth": 0,
             "ticks": ""
            },
            "colorscale": [
             [
              0,
              "#0d0887"
             ],
             [
              0.1111111111111111,
              "#46039f"
             ],
             [
              0.2222222222222222,
              "#7201a8"
             ],
             [
              0.3333333333333333,
              "#9c179e"
             ],
             [
              0.4444444444444444,
              "#bd3786"
             ],
             [
              0.5555555555555556,
              "#d8576b"
             ],
             [
              0.6666666666666666,
              "#ed7953"
             ],
             [
              0.7777777777777778,
              "#fb9f3a"
             ],
             [
              0.8888888888888888,
              "#fdca26"
             ],
             [
              1,
              "#f0f921"
             ]
            ],
            "type": "histogram2dcontour"
           }
          ],
          "mesh3d": [
           {
            "colorbar": {
             "outlinewidth": 0,
             "ticks": ""
            },
            "type": "mesh3d"
           }
          ],
          "parcoords": [
           {
            "line": {
             "colorbar": {
              "outlinewidth": 0,
              "ticks": ""
             }
            },
            "type": "parcoords"
           }
          ],
          "pie": [
           {
            "automargin": true,
            "type": "pie"
           }
          ],
          "scatter": [
           {
            "fillpattern": {
             "fillmode": "overlay",
             "size": 10,
             "solidity": 0.2
            },
            "type": "scatter"
           }
          ],
          "scatter3d": [
           {
            "line": {
             "colorbar": {
              "outlinewidth": 0,
              "ticks": ""
             }
            },
            "marker": {
             "colorbar": {
              "outlinewidth": 0,
              "ticks": ""
             }
            },
            "type": "scatter3d"
           }
          ],
          "scattercarpet": [
           {
            "marker": {
             "colorbar": {
              "outlinewidth": 0,
              "ticks": ""
             }
            },
            "type": "scattercarpet"
           }
          ],
          "scattergeo": [
           {
            "marker": {
             "colorbar": {
              "outlinewidth": 0,
              "ticks": ""
             }
            },
            "type": "scattergeo"
           }
          ],
          "scattergl": [
           {
            "marker": {
             "colorbar": {
              "outlinewidth": 0,
              "ticks": ""
             }
            },
            "type": "scattergl"
           }
          ],
          "scattermapbox": [
           {
            "marker": {
             "colorbar": {
              "outlinewidth": 0,
              "ticks": ""
             }
            },
            "type": "scattermapbox"
           }
          ],
          "scatterpolar": [
           {
            "marker": {
             "colorbar": {
              "outlinewidth": 0,
              "ticks": ""
             }
            },
            "type": "scatterpolar"
           }
          ],
          "scatterpolargl": [
           {
            "marker": {
             "colorbar": {
              "outlinewidth": 0,
              "ticks": ""
             }
            },
            "type": "scatterpolargl"
           }
          ],
          "scatterternary": [
           {
            "marker": {
             "colorbar": {
              "outlinewidth": 0,
              "ticks": ""
             }
            },
            "type": "scatterternary"
           }
          ],
          "surface": [
           {
            "colorbar": {
             "outlinewidth": 0,
             "ticks": ""
            },
            "colorscale": [
             [
              0,
              "#0d0887"
             ],
             [
              0.1111111111111111,
              "#46039f"
             ],
             [
              0.2222222222222222,
              "#7201a8"
             ],
             [
              0.3333333333333333,
              "#9c179e"
             ],
             [
              0.4444444444444444,
              "#bd3786"
             ],
             [
              0.5555555555555556,
              "#d8576b"
             ],
             [
              0.6666666666666666,
              "#ed7953"
             ],
             [
              0.7777777777777778,
              "#fb9f3a"
             ],
             [
              0.8888888888888888,
              "#fdca26"
             ],
             [
              1,
              "#f0f921"
             ]
            ],
            "type": "surface"
           }
          ],
          "table": [
           {
            "cells": {
             "fill": {
              "color": "#EBF0F8"
             },
             "line": {
              "color": "white"
             }
            },
            "header": {
             "fill": {
              "color": "#C8D4E3"
             },
             "line": {
              "color": "white"
             }
            },
            "type": "table"
           }
          ]
         },
         "layout": {
          "annotationdefaults": {
           "arrowcolor": "#2a3f5f",
           "arrowhead": 0,
           "arrowwidth": 1
          },
          "autotypenumbers": "strict",
          "coloraxis": {
           "colorbar": {
            "outlinewidth": 0,
            "ticks": ""
           }
          },
          "colorscale": {
           "diverging": [
            [
             0,
             "#8e0152"
            ],
            [
             0.1,
             "#c51b7d"
            ],
            [
             0.2,
             "#de77ae"
            ],
            [
             0.3,
             "#f1b6da"
            ],
            [
             0.4,
             "#fde0ef"
            ],
            [
             0.5,
             "#f7f7f7"
            ],
            [
             0.6,
             "#e6f5d0"
            ],
            [
             0.7,
             "#b8e186"
            ],
            [
             0.8,
             "#7fbc41"
            ],
            [
             0.9,
             "#4d9221"
            ],
            [
             1,
             "#276419"
            ]
           ],
           "sequential": [
            [
             0,
             "#0d0887"
            ],
            [
             0.1111111111111111,
             "#46039f"
            ],
            [
             0.2222222222222222,
             "#7201a8"
            ],
            [
             0.3333333333333333,
             "#9c179e"
            ],
            [
             0.4444444444444444,
             "#bd3786"
            ],
            [
             0.5555555555555556,
             "#d8576b"
            ],
            [
             0.6666666666666666,
             "#ed7953"
            ],
            [
             0.7777777777777778,
             "#fb9f3a"
            ],
            [
             0.8888888888888888,
             "#fdca26"
            ],
            [
             1,
             "#f0f921"
            ]
           ],
           "sequentialminus": [
            [
             0,
             "#0d0887"
            ],
            [
             0.1111111111111111,
             "#46039f"
            ],
            [
             0.2222222222222222,
             "#7201a8"
            ],
            [
             0.3333333333333333,
             "#9c179e"
            ],
            [
             0.4444444444444444,
             "#bd3786"
            ],
            [
             0.5555555555555556,
             "#d8576b"
            ],
            [
             0.6666666666666666,
             "#ed7953"
            ],
            [
             0.7777777777777778,
             "#fb9f3a"
            ],
            [
             0.8888888888888888,
             "#fdca26"
            ],
            [
             1,
             "#f0f921"
            ]
           ]
          },
          "colorway": [
           "#636efa",
           "#EF553B",
           "#00cc96",
           "#ab63fa",
           "#FFA15A",
           "#19d3f3",
           "#FF6692",
           "#B6E880",
           "#FF97FF",
           "#FECB52"
          ],
          "font": {
           "color": "#2a3f5f"
          },
          "geo": {
           "bgcolor": "white",
           "lakecolor": "white",
           "landcolor": "white",
           "showlakes": true,
           "showland": true,
           "subunitcolor": "#C8D4E3"
          },
          "hoverlabel": {
           "align": "left"
          },
          "hovermode": "closest",
          "mapbox": {
           "style": "light"
          },
          "paper_bgcolor": "white",
          "plot_bgcolor": "white",
          "polar": {
           "angularaxis": {
            "gridcolor": "#EBF0F8",
            "linecolor": "#EBF0F8",
            "ticks": ""
           },
           "bgcolor": "white",
           "radialaxis": {
            "gridcolor": "#EBF0F8",
            "linecolor": "#EBF0F8",
            "ticks": ""
           }
          },
          "scene": {
           "xaxis": {
            "backgroundcolor": "white",
            "gridcolor": "#DFE8F3",
            "gridwidth": 2,
            "linecolor": "#EBF0F8",
            "showbackground": true,
            "ticks": "",
            "zerolinecolor": "#EBF0F8"
           },
           "yaxis": {
            "backgroundcolor": "white",
            "gridcolor": "#DFE8F3",
            "gridwidth": 2,
            "linecolor": "#EBF0F8",
            "showbackground": true,
            "ticks": "",
            "zerolinecolor": "#EBF0F8"
           },
           "zaxis": {
            "backgroundcolor": "white",
            "gridcolor": "#DFE8F3",
            "gridwidth": 2,
            "linecolor": "#EBF0F8",
            "showbackground": true,
            "ticks": "",
            "zerolinecolor": "#EBF0F8"
           }
          },
          "shapedefaults": {
           "line": {
            "color": "#2a3f5f"
           }
          },
          "ternary": {
           "aaxis": {
            "gridcolor": "#DFE8F3",
            "linecolor": "#A2B1C6",
            "ticks": ""
           },
           "baxis": {
            "gridcolor": "#DFE8F3",
            "linecolor": "#A2B1C6",
            "ticks": ""
           },
           "bgcolor": "white",
           "caxis": {
            "gridcolor": "#DFE8F3",
            "linecolor": "#A2B1C6",
            "ticks": ""
           }
          },
          "title": {
           "x": 0.05
          },
          "xaxis": {
           "automargin": true,
           "gridcolor": "#EBF0F8",
           "linecolor": "#EBF0F8",
           "ticks": "",
           "title": {
            "standoff": 15
           },
           "zerolinecolor": "#EBF0F8",
           "zerolinewidth": 2
          },
          "yaxis": {
           "automargin": true,
           "gridcolor": "#EBF0F8",
           "linecolor": "#EBF0F8",
           "ticks": "",
           "title": {
            "standoff": 15
           },
           "zerolinecolor": "#EBF0F8",
           "zerolinewidth": 2
          }
         }
        },
        "title": {
         "text": "Distribuição de idade dos insatisfeitos com o trabalho atual",
         "x": 0.5
        },
        "violinmode": "group",
        "width": 900,
        "xaxis": {
         "anchor": "y",
         "domain": [
          0,
          1
         ]
        },
        "yaxis": {
         "anchor": "x",
         "domain": [
          0,
          1
         ],
         "title": {
          "text": "Idade"
         }
        }
       }
      }
     },
     "metadata": {},
     "output_type": "display_data"
    }
   ],
   "source": [
    "# Visualização utilizando o Plotly\n",
    "insatisfeitos = df.loc[df['Você está satisfeito na sua empresa atual?']==0, ['Genero', 'Idade']]\n",
    "insatisfeitos\n",
    "\n",
    "fig = px.violin(insatisfeitos, y=\"Idade\", \n",
    "                color=\"Genero\", \n",
    "                color_discrete_sequence=color_pal, \n",
    "                template = 'plotly_white'\n",
    "                )\n",
    "\n",
    "fig.update_layout(width=900, height=500, \n",
    "                  title_text=\"Distribuição de idade dos insatisfeitos com o trabalho atual\",\n",
    "                  title_x=0.50\n",
    "                  )\n",
    "\n",
    "fig.show()\n"
   ]
  },
  {
   "attachments": {},
   "cell_type": "markdown",
   "metadata": {},
   "source": [
    "Aparentemente não é possível observar grandes diferenças entre a evolução da insatisfação de acordo com a idade, apenas uma concentração maior na faixa dos 40-50 anos para o gênero feminino."
   ]
  },
  {
   "cell_type": "markdown",
   "metadata": {},
   "source": [
    "### Insatisfação x tempo de trabalho\n",
    "\n",
    "Valores proporcionais para cada faixa de tempo de trabalho, calculados utilizando as informações relativas a participantes insatisfeitos."
   ]
  },
  {
   "cell_type": "code",
   "execution_count": 20,
   "metadata": {},
   "outputs": [
    {
     "data": {
      "application/vnd.plotly.v1+json": {
       "config": {
        "plotlyServerURL": "https://plot.ly"
       },
       "data": [
        {
         "alignmentgroup": "True",
         "hovertemplate": "Genero=Feminino<br>Tempo de experiência=%{x}<br>Quantidade (%)=%{y}<extra></extra>",
         "legendgroup": "Feminino",
         "marker": {
          "color": "#fc8d62",
          "pattern": {
           "shape": ""
          }
         },
         "name": "Feminino",
         "offsetgroup": "Feminino",
         "orientation": "v",
         "showlegend": true,
         "textposition": "auto",
         "type": "bar",
         "x": [
          "Mais de 10 anos",
          "Menos de 1 ano",
          "Sem experiência",
          "de 1 a 2 anos",
          "de 2 a 3 anos",
          "de 4 a 5 anos",
          "de 6 a 10 anos"
         ],
         "xaxis": "x",
         "y": [
          12.605042016806722,
          21.84873949579832,
          12.605042016806722,
          15.126050420168067,
          20.168067226890756,
          11.76470588235294,
          5.88235294117647
         ],
         "yaxis": "y"
        },
        {
         "alignmentgroup": "True",
         "hovertemplate": "Genero=Masculino<br>Tempo de experiência=%{x}<br>Quantidade (%)=%{y}<extra></extra>",
         "legendgroup": "Masculino",
         "marker": {
          "color": "#66c2a5",
          "pattern": {
           "shape": ""
          }
         },
         "name": "Masculino",
         "offsetgroup": "Masculino",
         "orientation": "v",
         "showlegend": true,
         "textposition": "auto",
         "type": "bar",
         "x": [
          "Mais de 10 anos",
          "Menos de 1 ano",
          "Sem experiência",
          "de 1 a 2 anos",
          "de 2 a 3 anos",
          "de 4 a 5 anos",
          "de 6 a 10 anos"
         ],
         "xaxis": "x",
         "y": [
          11.788617886178862,
          17.479674796747968,
          11.585365853658537,
          19.715447154471544,
          15.650406504065039,
          14.227642276422763,
          9.552845528455284
         ],
         "yaxis": "y"
        }
       ],
       "layout": {
        "barmode": "group",
        "height": 500,
        "legend": {
         "title": {
          "text": "Genero"
         },
         "tracegroupgap": 0
        },
        "margin": {
         "t": 60
        },
        "template": {
         "data": {
          "bar": [
           {
            "error_x": {
             "color": "rgb(36,36,36)"
            },
            "error_y": {
             "color": "rgb(36,36,36)"
            },
            "marker": {
             "line": {
              "color": "white",
              "width": 0.5
             },
             "pattern": {
              "fillmode": "overlay",
              "size": 10,
              "solidity": 0.2
             }
            },
            "type": "bar"
           }
          ],
          "barpolar": [
           {
            "marker": {
             "line": {
              "color": "white",
              "width": 0.5
             },
             "pattern": {
              "fillmode": "overlay",
              "size": 10,
              "solidity": 0.2
             }
            },
            "type": "barpolar"
           }
          ],
          "carpet": [
           {
            "aaxis": {
             "endlinecolor": "rgb(36,36,36)",
             "gridcolor": "white",
             "linecolor": "white",
             "minorgridcolor": "white",
             "startlinecolor": "rgb(36,36,36)"
            },
            "baxis": {
             "endlinecolor": "rgb(36,36,36)",
             "gridcolor": "white",
             "linecolor": "white",
             "minorgridcolor": "white",
             "startlinecolor": "rgb(36,36,36)"
            },
            "type": "carpet"
           }
          ],
          "choropleth": [
           {
            "colorbar": {
             "outlinewidth": 1,
             "tickcolor": "rgb(36,36,36)",
             "ticks": "outside"
            },
            "type": "choropleth"
           }
          ],
          "contour": [
           {
            "colorbar": {
             "outlinewidth": 1,
             "tickcolor": "rgb(36,36,36)",
             "ticks": "outside"
            },
            "colorscale": [
             [
              0,
              "#440154"
             ],
             [
              0.1111111111111111,
              "#482878"
             ],
             [
              0.2222222222222222,
              "#3e4989"
             ],
             [
              0.3333333333333333,
              "#31688e"
             ],
             [
              0.4444444444444444,
              "#26828e"
             ],
             [
              0.5555555555555556,
              "#1f9e89"
             ],
             [
              0.6666666666666666,
              "#35b779"
             ],
             [
              0.7777777777777778,
              "#6ece58"
             ],
             [
              0.8888888888888888,
              "#b5de2b"
             ],
             [
              1,
              "#fde725"
             ]
            ],
            "type": "contour"
           }
          ],
          "contourcarpet": [
           {
            "colorbar": {
             "outlinewidth": 1,
             "tickcolor": "rgb(36,36,36)",
             "ticks": "outside"
            },
            "type": "contourcarpet"
           }
          ],
          "heatmap": [
           {
            "colorbar": {
             "outlinewidth": 1,
             "tickcolor": "rgb(36,36,36)",
             "ticks": "outside"
            },
            "colorscale": [
             [
              0,
              "#440154"
             ],
             [
              0.1111111111111111,
              "#482878"
             ],
             [
              0.2222222222222222,
              "#3e4989"
             ],
             [
              0.3333333333333333,
              "#31688e"
             ],
             [
              0.4444444444444444,
              "#26828e"
             ],
             [
              0.5555555555555556,
              "#1f9e89"
             ],
             [
              0.6666666666666666,
              "#35b779"
             ],
             [
              0.7777777777777778,
              "#6ece58"
             ],
             [
              0.8888888888888888,
              "#b5de2b"
             ],
             [
              1,
              "#fde725"
             ]
            ],
            "type": "heatmap"
           }
          ],
          "heatmapgl": [
           {
            "colorbar": {
             "outlinewidth": 1,
             "tickcolor": "rgb(36,36,36)",
             "ticks": "outside"
            },
            "colorscale": [
             [
              0,
              "#440154"
             ],
             [
              0.1111111111111111,
              "#482878"
             ],
             [
              0.2222222222222222,
              "#3e4989"
             ],
             [
              0.3333333333333333,
              "#31688e"
             ],
             [
              0.4444444444444444,
              "#26828e"
             ],
             [
              0.5555555555555556,
              "#1f9e89"
             ],
             [
              0.6666666666666666,
              "#35b779"
             ],
             [
              0.7777777777777778,
              "#6ece58"
             ],
             [
              0.8888888888888888,
              "#b5de2b"
             ],
             [
              1,
              "#fde725"
             ]
            ],
            "type": "heatmapgl"
           }
          ],
          "histogram": [
           {
            "marker": {
             "line": {
              "color": "white",
              "width": 0.6
             }
            },
            "type": "histogram"
           }
          ],
          "histogram2d": [
           {
            "colorbar": {
             "outlinewidth": 1,
             "tickcolor": "rgb(36,36,36)",
             "ticks": "outside"
            },
            "colorscale": [
             [
              0,
              "#440154"
             ],
             [
              0.1111111111111111,
              "#482878"
             ],
             [
              0.2222222222222222,
              "#3e4989"
             ],
             [
              0.3333333333333333,
              "#31688e"
             ],
             [
              0.4444444444444444,
              "#26828e"
             ],
             [
              0.5555555555555556,
              "#1f9e89"
             ],
             [
              0.6666666666666666,
              "#35b779"
             ],
             [
              0.7777777777777778,
              "#6ece58"
             ],
             [
              0.8888888888888888,
              "#b5de2b"
             ],
             [
              1,
              "#fde725"
             ]
            ],
            "type": "histogram2d"
           }
          ],
          "histogram2dcontour": [
           {
            "colorbar": {
             "outlinewidth": 1,
             "tickcolor": "rgb(36,36,36)",
             "ticks": "outside"
            },
            "colorscale": [
             [
              0,
              "#440154"
             ],
             [
              0.1111111111111111,
              "#482878"
             ],
             [
              0.2222222222222222,
              "#3e4989"
             ],
             [
              0.3333333333333333,
              "#31688e"
             ],
             [
              0.4444444444444444,
              "#26828e"
             ],
             [
              0.5555555555555556,
              "#1f9e89"
             ],
             [
              0.6666666666666666,
              "#35b779"
             ],
             [
              0.7777777777777778,
              "#6ece58"
             ],
             [
              0.8888888888888888,
              "#b5de2b"
             ],
             [
              1,
              "#fde725"
             ]
            ],
            "type": "histogram2dcontour"
           }
          ],
          "mesh3d": [
           {
            "colorbar": {
             "outlinewidth": 1,
             "tickcolor": "rgb(36,36,36)",
             "ticks": "outside"
            },
            "type": "mesh3d"
           }
          ],
          "parcoords": [
           {
            "line": {
             "colorbar": {
              "outlinewidth": 1,
              "tickcolor": "rgb(36,36,36)",
              "ticks": "outside"
             }
            },
            "type": "parcoords"
           }
          ],
          "pie": [
           {
            "automargin": true,
            "type": "pie"
           }
          ],
          "scatter": [
           {
            "fillpattern": {
             "fillmode": "overlay",
             "size": 10,
             "solidity": 0.2
            },
            "type": "scatter"
           }
          ],
          "scatter3d": [
           {
            "line": {
             "colorbar": {
              "outlinewidth": 1,
              "tickcolor": "rgb(36,36,36)",
              "ticks": "outside"
             }
            },
            "marker": {
             "colorbar": {
              "outlinewidth": 1,
              "tickcolor": "rgb(36,36,36)",
              "ticks": "outside"
             }
            },
            "type": "scatter3d"
           }
          ],
          "scattercarpet": [
           {
            "marker": {
             "colorbar": {
              "outlinewidth": 1,
              "tickcolor": "rgb(36,36,36)",
              "ticks": "outside"
             }
            },
            "type": "scattercarpet"
           }
          ],
          "scattergeo": [
           {
            "marker": {
             "colorbar": {
              "outlinewidth": 1,
              "tickcolor": "rgb(36,36,36)",
              "ticks": "outside"
             }
            },
            "type": "scattergeo"
           }
          ],
          "scattergl": [
           {
            "marker": {
             "colorbar": {
              "outlinewidth": 1,
              "tickcolor": "rgb(36,36,36)",
              "ticks": "outside"
             }
            },
            "type": "scattergl"
           }
          ],
          "scattermapbox": [
           {
            "marker": {
             "colorbar": {
              "outlinewidth": 1,
              "tickcolor": "rgb(36,36,36)",
              "ticks": "outside"
             }
            },
            "type": "scattermapbox"
           }
          ],
          "scatterpolar": [
           {
            "marker": {
             "colorbar": {
              "outlinewidth": 1,
              "tickcolor": "rgb(36,36,36)",
              "ticks": "outside"
             }
            },
            "type": "scatterpolar"
           }
          ],
          "scatterpolargl": [
           {
            "marker": {
             "colorbar": {
              "outlinewidth": 1,
              "tickcolor": "rgb(36,36,36)",
              "ticks": "outside"
             }
            },
            "type": "scatterpolargl"
           }
          ],
          "scatterternary": [
           {
            "marker": {
             "colorbar": {
              "outlinewidth": 1,
              "tickcolor": "rgb(36,36,36)",
              "ticks": "outside"
             }
            },
            "type": "scatterternary"
           }
          ],
          "surface": [
           {
            "colorbar": {
             "outlinewidth": 1,
             "tickcolor": "rgb(36,36,36)",
             "ticks": "outside"
            },
            "colorscale": [
             [
              0,
              "#440154"
             ],
             [
              0.1111111111111111,
              "#482878"
             ],
             [
              0.2222222222222222,
              "#3e4989"
             ],
             [
              0.3333333333333333,
              "#31688e"
             ],
             [
              0.4444444444444444,
              "#26828e"
             ],
             [
              0.5555555555555556,
              "#1f9e89"
             ],
             [
              0.6666666666666666,
              "#35b779"
             ],
             [
              0.7777777777777778,
              "#6ece58"
             ],
             [
              0.8888888888888888,
              "#b5de2b"
             ],
             [
              1,
              "#fde725"
             ]
            ],
            "type": "surface"
           }
          ],
          "table": [
           {
            "cells": {
             "fill": {
              "color": "rgb(237,237,237)"
             },
             "line": {
              "color": "white"
             }
            },
            "header": {
             "fill": {
              "color": "rgb(217,217,217)"
             },
             "line": {
              "color": "white"
             }
            },
            "type": "table"
           }
          ]
         },
         "layout": {
          "annotationdefaults": {
           "arrowhead": 0,
           "arrowwidth": 1
          },
          "autotypenumbers": "strict",
          "coloraxis": {
           "colorbar": {
            "outlinewidth": 1,
            "tickcolor": "rgb(36,36,36)",
            "ticks": "outside"
           }
          },
          "colorscale": {
           "diverging": [
            [
             0,
             "rgb(103,0,31)"
            ],
            [
             0.1,
             "rgb(178,24,43)"
            ],
            [
             0.2,
             "rgb(214,96,77)"
            ],
            [
             0.3,
             "rgb(244,165,130)"
            ],
            [
             0.4,
             "rgb(253,219,199)"
            ],
            [
             0.5,
             "rgb(247,247,247)"
            ],
            [
             0.6,
             "rgb(209,229,240)"
            ],
            [
             0.7,
             "rgb(146,197,222)"
            ],
            [
             0.8,
             "rgb(67,147,195)"
            ],
            [
             0.9,
             "rgb(33,102,172)"
            ],
            [
             1,
             "rgb(5,48,97)"
            ]
           ],
           "sequential": [
            [
             0,
             "#440154"
            ],
            [
             0.1111111111111111,
             "#482878"
            ],
            [
             0.2222222222222222,
             "#3e4989"
            ],
            [
             0.3333333333333333,
             "#31688e"
            ],
            [
             0.4444444444444444,
             "#26828e"
            ],
            [
             0.5555555555555556,
             "#1f9e89"
            ],
            [
             0.6666666666666666,
             "#35b779"
            ],
            [
             0.7777777777777778,
             "#6ece58"
            ],
            [
             0.8888888888888888,
             "#b5de2b"
            ],
            [
             1,
             "#fde725"
            ]
           ],
           "sequentialminus": [
            [
             0,
             "#440154"
            ],
            [
             0.1111111111111111,
             "#482878"
            ],
            [
             0.2222222222222222,
             "#3e4989"
            ],
            [
             0.3333333333333333,
             "#31688e"
            ],
            [
             0.4444444444444444,
             "#26828e"
            ],
            [
             0.5555555555555556,
             "#1f9e89"
            ],
            [
             0.6666666666666666,
             "#35b779"
            ],
            [
             0.7777777777777778,
             "#6ece58"
            ],
            [
             0.8888888888888888,
             "#b5de2b"
            ],
            [
             1,
             "#fde725"
            ]
           ]
          },
          "colorway": [
           "#1F77B4",
           "#FF7F0E",
           "#2CA02C",
           "#D62728",
           "#9467BD",
           "#8C564B",
           "#E377C2",
           "#7F7F7F",
           "#BCBD22",
           "#17BECF"
          ],
          "font": {
           "color": "rgb(36,36,36)"
          },
          "geo": {
           "bgcolor": "white",
           "lakecolor": "white",
           "landcolor": "white",
           "showlakes": true,
           "showland": true,
           "subunitcolor": "white"
          },
          "hoverlabel": {
           "align": "left"
          },
          "hovermode": "closest",
          "mapbox": {
           "style": "light"
          },
          "paper_bgcolor": "white",
          "plot_bgcolor": "white",
          "polar": {
           "angularaxis": {
            "gridcolor": "rgb(232,232,232)",
            "linecolor": "rgb(36,36,36)",
            "showgrid": false,
            "showline": true,
            "ticks": "outside"
           },
           "bgcolor": "white",
           "radialaxis": {
            "gridcolor": "rgb(232,232,232)",
            "linecolor": "rgb(36,36,36)",
            "showgrid": false,
            "showline": true,
            "ticks": "outside"
           }
          },
          "scene": {
           "xaxis": {
            "backgroundcolor": "white",
            "gridcolor": "rgb(232,232,232)",
            "gridwidth": 2,
            "linecolor": "rgb(36,36,36)",
            "showbackground": true,
            "showgrid": false,
            "showline": true,
            "ticks": "outside",
            "zeroline": false,
            "zerolinecolor": "rgb(36,36,36)"
           },
           "yaxis": {
            "backgroundcolor": "white",
            "gridcolor": "rgb(232,232,232)",
            "gridwidth": 2,
            "linecolor": "rgb(36,36,36)",
            "showbackground": true,
            "showgrid": false,
            "showline": true,
            "ticks": "outside",
            "zeroline": false,
            "zerolinecolor": "rgb(36,36,36)"
           },
           "zaxis": {
            "backgroundcolor": "white",
            "gridcolor": "rgb(232,232,232)",
            "gridwidth": 2,
            "linecolor": "rgb(36,36,36)",
            "showbackground": true,
            "showgrid": false,
            "showline": true,
            "ticks": "outside",
            "zeroline": false,
            "zerolinecolor": "rgb(36,36,36)"
           }
          },
          "shapedefaults": {
           "fillcolor": "black",
           "line": {
            "width": 0
           },
           "opacity": 0.3
          },
          "ternary": {
           "aaxis": {
            "gridcolor": "rgb(232,232,232)",
            "linecolor": "rgb(36,36,36)",
            "showgrid": false,
            "showline": true,
            "ticks": "outside"
           },
           "baxis": {
            "gridcolor": "rgb(232,232,232)",
            "linecolor": "rgb(36,36,36)",
            "showgrid": false,
            "showline": true,
            "ticks": "outside"
           },
           "bgcolor": "white",
           "caxis": {
            "gridcolor": "rgb(232,232,232)",
            "linecolor": "rgb(36,36,36)",
            "showgrid": false,
            "showline": true,
            "ticks": "outside"
           }
          },
          "title": {
           "x": 0.05
          },
          "xaxis": {
           "automargin": true,
           "gridcolor": "rgb(232,232,232)",
           "linecolor": "rgb(36,36,36)",
           "showgrid": false,
           "showline": true,
           "ticks": "outside",
           "title": {
            "standoff": 15
           },
           "zeroline": false,
           "zerolinecolor": "rgb(36,36,36)"
          },
          "yaxis": {
           "automargin": true,
           "gridcolor": "rgb(232,232,232)",
           "linecolor": "rgb(36,36,36)",
           "showgrid": false,
           "showline": true,
           "ticks": "outside",
           "title": {
            "standoff": 15
           },
           "zeroline": false,
           "zerolinecolor": "rgb(36,36,36)"
          }
         }
        },
        "title": {
         "text": "Tempo de experiência dos insatisfeitos com o trabalho atual",
         "x": 0.5
        },
        "width": 950,
        "xaxis": {
         "anchor": "y",
         "categoryarray": [
          "Sem experiência",
          "Menos de 1 ano",
          "de 1 a 2 anos",
          "de 2 a 3 anos",
          "de 4 a 5 anos",
          "de 6 a 10 anos",
          "Mais de 10 anos"
         ],
         "categoryorder": "array",
         "domain": [
          0,
          1
         ],
         "title": {
          "text": "Tempo de experiência"
         }
        },
        "yaxis": {
         "anchor": "x",
         "domain": [
          0,
          1
         ],
         "title": {
          "text": "Quantidade (%)"
         }
        }
       }
      }
     },
     "metadata": {},
     "output_type": "display_data"
    }
   ],
   "source": [
    "# Visualização utilizando o Plotly\n",
    "\n",
    "insatisfeitos = df.loc[df['Você está satisfeito na sua empresa atual?']==0, \n",
    "                       ['Genero', 'Quanto tempo de experiência na área de dados você tem?']]\n",
    "df_percent = insatisfeitos.groupby('Genero')[\n",
    "                'Quanto tempo de experiência na área de dados você tem?'\n",
    "                ].value_counts().unstack().apply(lambda x: (x/x.sum())*100, axis=1).reset_index()\n",
    "\n",
    "df_percent = df_percent.melt(id_vars='Genero', \n",
    "                var_name='Expêriencia', \n",
    "                value_name='Value').replace(\n",
    "                    'Não tenho experiência na área de dados', \n",
    "                    'Sem experiência'\n",
    "                    )\n",
    "                \n",
    "fig = px.bar(df_percent,\n",
    "                barmode='group', \n",
    "                x = 'Expêriencia',\n",
    "                y = 'Value',\n",
    "                color='Genero',\n",
    "                template='simple_white',\n",
    "                category_orders={\n",
    "                                    'Expêriencia': [\n",
    "                                        'Sem experiência',\n",
    "                                        'Menos de 1 ano',\n",
    "                                        'de 1 a 2 anos',\n",
    "                                        'de 2 a 3 anos',\n",
    "                                        'de 4 a 5 anos',\n",
    "                                        'de 6 a 10 anos',\n",
    "                                        'Mais de 10 anos',\n",
    "                                        ]\n",
    "                                    },\n",
    "       color_discrete_sequence=[color_pal[1], color_pal[0]],\n",
    "       labels={'Expêriencia': 'Tempo de experiência', \n",
    "               'Value': 'Quantidade (%)'\n",
    "               },\n",
    "       )\n",
    "\n",
    "fig.update_layout(width=950, height=500, \n",
    "                  title_text='Tempo de experiência dos insatisfeitos com o trabalho atual',\n",
    "                  title_x=0.50\n",
    "                  )\n",
    "\n",
    "fig.show()                "
   ]
  },
  {
   "cell_type": "markdown",
   "metadata": {},
   "source": [
    "É possível observar que há uma maior concentração de insatisfação nos primeiros anos de carreira para ambos os gêneros, com uma diferença mais acentuada na fase inicial."
   ]
  },
  {
   "cell_type": "code",
   "execution_count": 21,
   "metadata": {},
   "outputs": [
    {
     "data": {
      "application/vnd.plotly.v1+json": {
       "config": {
        "plotlyServerURL": "https://plot.ly"
       },
       "data": [
        {
         "alignmentgroup": "True",
         "hovertemplate": "Genero=Masculino<br>Tempo de experiência=%{x}<br>Idade=%{y}<extra></extra>",
         "legendgroup": "Masculino",
         "marker": {
          "color": "#66c2a5"
         },
         "name": "Masculino",
         "notched": false,
         "offsetgroup": "Masculino",
         "orientation": "v",
         "showlegend": true,
         "type": "box",
         "x": [
          "de 1 a 2 anos",
          "de 1 a 2 anos",
          "de 1 a 2 anos",
          "de 1 a 2 anos",
          "Mais de 10 anos",
          "Menos de 1 ano",
          "Mais de 10 anos",
          "de 4 a 5 anos",
          "Mais de 10 anos",
          "de 6 a 10 anos",
          "de 4 a 5 anos",
          "de 4 a 5 anos",
          "de 4 a 5 anos",
          "de 1 a 2 anos",
          "Não tenho experiência na área de dados",
          "de 6 a 10 anos",
          "Mais de 10 anos",
          "de 4 a 5 anos",
          "Menos de 1 ano",
          "de 1 a 2 anos",
          "de 1 a 2 anos",
          "de 4 a 5 anos",
          "de 1 a 2 anos",
          "Não tenho experiência na área de dados",
          "Mais de 10 anos",
          "Menos de 1 ano",
          "Mais de 10 anos",
          "de 2 a 3 anos",
          "de 6 a 10 anos",
          "Mais de 10 anos",
          "de 1 a 2 anos",
          "Mais de 10 anos",
          "de 6 a 10 anos",
          "de 6 a 10 anos",
          "de 4 a 5 anos",
          "de 6 a 10 anos",
          "Mais de 10 anos",
          "Menos de 1 ano",
          "de 4 a 5 anos",
          "de 2 a 3 anos",
          "de 4 a 5 anos",
          "de 6 a 10 anos",
          "Mais de 10 anos",
          "de 2 a 3 anos",
          "Mais de 10 anos",
          "Mais de 10 anos",
          "Mais de 10 anos",
          "de 2 a 3 anos",
          "de 6 a 10 anos",
          "de 4 a 5 anos",
          "Mais de 10 anos",
          "de 6 a 10 anos",
          "de 4 a 5 anos",
          "Mais de 10 anos",
          "de 4 a 5 anos",
          "Não tenho experiência na área de dados",
          "de 6 a 10 anos",
          "Não tenho experiência na área de dados",
          "de 4 a 5 anos",
          "de 4 a 5 anos",
          "de 6 a 10 anos",
          "Menos de 1 ano",
          "Menos de 1 ano",
          "de 6 a 10 anos",
          "Menos de 1 ano",
          "de 2 a 3 anos",
          "Mais de 10 anos",
          "Mais de 10 anos",
          "de 6 a 10 anos",
          "de 1 a 2 anos",
          "de 1 a 2 anos",
          "Mais de 10 anos",
          "de 2 a 3 anos",
          "de 2 a 3 anos",
          "de 6 a 10 anos",
          "Mais de 10 anos",
          "de 4 a 5 anos",
          "Não tenho experiência na área de dados",
          "Não tenho experiência na área de dados",
          "Não tenho experiência na área de dados",
          "Mais de 10 anos",
          "de 1 a 2 anos",
          "de 1 a 2 anos",
          "Mais de 10 anos",
          "Menos de 1 ano",
          "Não tenho experiência na área de dados",
          "Menos de 1 ano",
          "de 2 a 3 anos",
          "Menos de 1 ano",
          "Não tenho experiência na área de dados",
          "de 2 a 3 anos",
          "Não tenho experiência na área de dados",
          "de 2 a 3 anos",
          "de 1 a 2 anos",
          "de 6 a 10 anos",
          "Mais de 10 anos",
          "Menos de 1 ano",
          "de 1 a 2 anos",
          "de 4 a 5 anos",
          "de 2 a 3 anos",
          "Menos de 1 ano",
          "de 1 a 2 anos",
          "de 4 a 5 anos",
          "Mais de 10 anos",
          "de 2 a 3 anos",
          "Não tenho experiência na área de dados",
          "de 6 a 10 anos",
          "de 1 a 2 anos",
          "de 2 a 3 anos",
          "de 2 a 3 anos",
          "Menos de 1 ano",
          "de 1 a 2 anos",
          "de 1 a 2 anos",
          "de 1 a 2 anos",
          "de 1 a 2 anos",
          "de 2 a 3 anos",
          "de 1 a 2 anos",
          "Não tenho experiência na área de dados",
          "Menos de 1 ano",
          "de 2 a 3 anos",
          "de 1 a 2 anos",
          "Mais de 10 anos",
          "Menos de 1 ano",
          "Menos de 1 ano",
          "Mais de 10 anos",
          "de 1 a 2 anos",
          "Menos de 1 ano",
          "Mais de 10 anos",
          "de 2 a 3 anos",
          "de 6 a 10 anos",
          "de 4 a 5 anos",
          "Menos de 1 ano",
          "Menos de 1 ano",
          "de 6 a 10 anos",
          "Menos de 1 ano",
          "Menos de 1 ano",
          "de 2 a 3 anos",
          "Mais de 10 anos",
          "Menos de 1 ano",
          "de 1 a 2 anos",
          "Mais de 10 anos",
          "de 6 a 10 anos",
          "de 2 a 3 anos",
          "Não tenho experiência na área de dados",
          "Menos de 1 ano",
          "de 6 a 10 anos",
          "de 1 a 2 anos",
          "de 6 a 10 anos",
          "Não tenho experiência na área de dados",
          "de 2 a 3 anos",
          "de 4 a 5 anos",
          "de 1 a 2 anos",
          "de 6 a 10 anos",
          "Menos de 1 ano",
          "de 1 a 2 anos",
          "de 2 a 3 anos",
          "Menos de 1 ano",
          "de 4 a 5 anos",
          "de 1 a 2 anos",
          "de 4 a 5 anos",
          "de 2 a 3 anos",
          "de 2 a 3 anos",
          "Menos de 1 ano",
          "de 6 a 10 anos",
          "de 4 a 5 anos",
          "de 2 a 3 anos",
          "de 6 a 10 anos",
          "Menos de 1 ano",
          "Mais de 10 anos",
          "de 2 a 3 anos",
          "de 4 a 5 anos",
          "de 1 a 2 anos",
          "de 6 a 10 anos",
          "de 4 a 5 anos",
          "de 4 a 5 anos",
          "Não tenho experiência na área de dados",
          "de 6 a 10 anos",
          "de 4 a 5 anos",
          "de 4 a 5 anos",
          "Menos de 1 ano",
          "Menos de 1 ano",
          "de 1 a 2 anos",
          "de 1 a 2 anos",
          "Menos de 1 ano",
          "Menos de 1 ano",
          "de 1 a 2 anos",
          "de 2 a 3 anos",
          "Mais de 10 anos",
          "de 2 a 3 anos",
          "de 1 a 2 anos",
          "de 2 a 3 anos",
          "de 1 a 2 anos",
          "Menos de 1 ano",
          "Não tenho experiência na área de dados",
          "Menos de 1 ano",
          "Mais de 10 anos",
          "Menos de 1 ano",
          "de 4 a 5 anos",
          "de 4 a 5 anos",
          "Não tenho experiência na área de dados",
          "de 4 a 5 anos",
          "de 2 a 3 anos",
          "de 1 a 2 anos",
          "de 6 a 10 anos",
          "Não tenho experiência na área de dados",
          "de 1 a 2 anos",
          "de 6 a 10 anos",
          "de 2 a 3 anos",
          "de 6 a 10 anos",
          "Menos de 1 ano",
          "de 1 a 2 anos",
          "Não tenho experiência na área de dados",
          "de 4 a 5 anos",
          "de 2 a 3 anos",
          "Menos de 1 ano",
          "de 4 a 5 anos",
          "de 1 a 2 anos",
          "Menos de 1 ano",
          "Menos de 1 ano",
          "de 4 a 5 anos",
          "Menos de 1 ano",
          "de 2 a 3 anos",
          "Não tenho experiência na área de dados",
          "Não tenho experiência na área de dados",
          "Mais de 10 anos",
          "de 4 a 5 anos",
          "de 2 a 3 anos",
          "de 1 a 2 anos",
          "Não tenho experiência na área de dados",
          "Mais de 10 anos",
          "de 4 a 5 anos",
          "Menos de 1 ano",
          "Não tenho experiência na área de dados",
          "Não tenho experiência na área de dados",
          "de 4 a 5 anos",
          "de 1 a 2 anos",
          "Não tenho experiência na área de dados",
          "Menos de 1 ano",
          "de 1 a 2 anos",
          "de 4 a 5 anos",
          "de 6 a 10 anos",
          "de 1 a 2 anos",
          "de 6 a 10 anos",
          "de 1 a 2 anos",
          "de 1 a 2 anos",
          "Não tenho experiência na área de dados",
          "Não tenho experiência na área de dados",
          "Menos de 1 ano",
          "de 2 a 3 anos",
          "Menos de 1 ano",
          "Menos de 1 ano",
          "de 1 a 2 anos",
          "Mais de 10 anos",
          "de 2 a 3 anos",
          "de 1 a 2 anos",
          "Menos de 1 ano",
          "Não tenho experiência na área de dados",
          "de 4 a 5 anos",
          "Menos de 1 ano",
          "de 1 a 2 anos",
          "de 1 a 2 anos",
          "Mais de 10 anos",
          "de 1 a 2 anos",
          "Mais de 10 anos",
          "de 2 a 3 anos",
          "de 2 a 3 anos",
          "Menos de 1 ano",
          "de 1 a 2 anos",
          "Menos de 1 ano",
          "de 1 a 2 anos",
          "de 1 a 2 anos",
          "Menos de 1 ano",
          "de 1 a 2 anos",
          "de 2 a 3 anos",
          "de 2 a 3 anos",
          "de 2 a 3 anos",
          "Mais de 10 anos",
          "de 2 a 3 anos",
          "Não tenho experiência na área de dados",
          "de 2 a 3 anos",
          "de 1 a 2 anos",
          "Mais de 10 anos",
          "de 6 a 10 anos",
          "de 1 a 2 anos",
          "de 4 a 5 anos",
          "Menos de 1 ano",
          "de 6 a 10 anos",
          "Menos de 1 ano",
          "de 6 a 10 anos",
          "de 1 a 2 anos",
          "Menos de 1 ano",
          "de 1 a 2 anos",
          "de 1 a 2 anos",
          "de 1 a 2 anos",
          "de 2 a 3 anos",
          "Menos de 1 ano",
          "Menos de 1 ano",
          "de 6 a 10 anos",
          "de 1 a 2 anos",
          "Mais de 10 anos",
          "Menos de 1 ano",
          "de 2 a 3 anos",
          "Não tenho experiência na área de dados",
          "Mais de 10 anos",
          "de 1 a 2 anos",
          "de 6 a 10 anos",
          "Menos de 1 ano",
          "Menos de 1 ano",
          "Mais de 10 anos",
          "de 2 a 3 anos",
          "de 6 a 10 anos",
          "de 4 a 5 anos",
          "Menos de 1 ano",
          "de 2 a 3 anos",
          "Menos de 1 ano",
          "Não tenho experiência na área de dados",
          "Não tenho experiência na área de dados",
          "de 1 a 2 anos",
          "de 1 a 2 anos",
          "Mais de 10 anos",
          "de 2 a 3 anos",
          "de 6 a 10 anos",
          "Menos de 1 ano",
          "de 1 a 2 anos",
          "de 2 a 3 anos",
          "de 2 a 3 anos",
          "de 2 a 3 anos",
          "Menos de 1 ano",
          "de 2 a 3 anos",
          "Menos de 1 ano",
          "de 1 a 2 anos",
          "Não tenho experiência na área de dados",
          "de 1 a 2 anos",
          "de 2 a 3 anos",
          "de 1 a 2 anos",
          "de 2 a 3 anos",
          "de 2 a 3 anos",
          "Menos de 1 ano",
          "de 1 a 2 anos",
          "de 2 a 3 anos",
          "de 4 a 5 anos",
          "Não tenho experiência na área de dados",
          "Mais de 10 anos",
          "Não tenho experiência na área de dados",
          "de 4 a 5 anos",
          "de 1 a 2 anos",
          "Não tenho experiência na área de dados",
          "Menos de 1 ano",
          "de 1 a 2 anos",
          "Menos de 1 ano",
          "de 1 a 2 anos",
          "de 4 a 5 anos",
          "de 4 a 5 anos",
          "Mais de 10 anos",
          "Não tenho experiência na área de dados",
          "de 4 a 5 anos",
          "de 2 a 3 anos",
          "Não tenho experiência na área de dados",
          "de 1 a 2 anos",
          "Menos de 1 ano",
          "de 1 a 2 anos",
          "de 6 a 10 anos",
          "Não tenho experiência na área de dados",
          "Não tenho experiência na área de dados",
          "de 4 a 5 anos",
          "Não tenho experiência na área de dados",
          "de 4 a 5 anos",
          "de 6 a 10 anos",
          "de 2 a 3 anos",
          "de 2 a 3 anos",
          "de 1 a 2 anos",
          "de 4 a 5 anos",
          "Menos de 1 ano",
          "de 1 a 2 anos",
          "Menos de 1 ano",
          "Menos de 1 ano",
          "Menos de 1 ano",
          "Menos de 1 ano",
          "Não tenho experiência na área de dados",
          "de 1 a 2 anos",
          "Menos de 1 ano",
          "Mais de 10 anos",
          "de 1 a 2 anos",
          "Não tenho experiência na área de dados",
          "de 4 a 5 anos",
          "de 1 a 2 anos",
          "de 1 a 2 anos",
          "de 1 a 2 anos",
          "Não tenho experiência na área de dados",
          "Mais de 10 anos",
          "de 1 a 2 anos",
          "de 6 a 10 anos",
          "Mais de 10 anos",
          "de 4 a 5 anos",
          "de 2 a 3 anos",
          "Mais de 10 anos",
          "de 1 a 2 anos",
          "de 1 a 2 anos",
          "Mais de 10 anos",
          "de 2 a 3 anos",
          "Não tenho experiência na área de dados",
          "Menos de 1 ano",
          "de 4 a 5 anos",
          "de 2 a 3 anos",
          "de 2 a 3 anos",
          "Menos de 1 ano",
          "de 4 a 5 anos",
          "de 6 a 10 anos",
          "de 2 a 3 anos",
          "Menos de 1 ano",
          "de 2 a 3 anos",
          "Não tenho experiência na área de dados",
          "Não tenho experiência na área de dados",
          "de 6 a 10 anos",
          "Não tenho experiência na área de dados",
          "de 1 a 2 anos",
          "de 4 a 5 anos",
          "de 1 a 2 anos",
          "de 2 a 3 anos",
          "de 1 a 2 anos",
          "de 4 a 5 anos",
          "de 4 a 5 anos",
          "de 4 a 5 anos",
          "Menos de 1 ano",
          "Mais de 10 anos",
          "de 6 a 10 anos",
          "de 1 a 2 anos",
          "Não tenho experiência na área de dados",
          "de 1 a 2 anos",
          "de 2 a 3 anos",
          "Menos de 1 ano",
          "de 1 a 2 anos",
          "de 1 a 2 anos",
          "de 2 a 3 anos",
          "de 6 a 10 anos",
          "de 4 a 5 anos",
          "Mais de 10 anos",
          "de 4 a 5 anos",
          "de 4 a 5 anos",
          "Mais de 10 anos",
          "Menos de 1 ano",
          "Mais de 10 anos",
          "Menos de 1 ano",
          "de 2 a 3 anos",
          "Não tenho experiência na área de dados",
          "Menos de 1 ano",
          "de 2 a 3 anos",
          "de 1 a 2 anos",
          "Mais de 10 anos",
          "Não tenho experiência na área de dados",
          "Mais de 10 anos",
          "de 4 a 5 anos",
          "de 6 a 10 anos",
          "Menos de 1 ano",
          "de 2 a 3 anos",
          "de 2 a 3 anos",
          "de 4 a 5 anos",
          "Não tenho experiência na área de dados",
          "de 4 a 5 anos",
          "Não tenho experiência na área de dados",
          "de 2 a 3 anos",
          "Não tenho experiência na área de dados",
          "Mais de 10 anos",
          "Mais de 10 anos",
          "de 2 a 3 anos",
          "de 1 a 2 anos",
          "Não tenho experiência na área de dados",
          "Menos de 1 ano",
          "de 1 a 2 anos",
          "de 1 a 2 anos",
          "de 4 a 5 anos",
          "Menos de 1 ano",
          "de 1 a 2 anos",
          "Não tenho experiência na área de dados",
          "de 4 a 5 anos",
          "de 4 a 5 anos",
          "de 2 a 3 anos",
          "de 4 a 5 anos",
          "de 2 a 3 anos",
          "de 4 a 5 anos",
          "Menos de 1 ano",
          "de 1 a 2 anos",
          "de 4 a 5 anos",
          "de 4 a 5 anos",
          "de 4 a 5 anos",
          "de 6 a 10 anos",
          "Menos de 1 ano",
          "Não tenho experiência na área de dados",
          "Mais de 10 anos",
          "de 2 a 3 anos",
          "Menos de 1 ano",
          "de 2 a 3 anos"
         ],
         "x0": " ",
         "xaxis": "x",
         "y": [
          30,
          36,
          39,
          27,
          42,
          43,
          38,
          29,
          46,
          34,
          43,
          43,
          38,
          37,
          21,
          47,
          33,
          38,
          42,
          25,
          37,
          27,
          44,
          32,
          35,
          45,
          40,
          29,
          45,
          50,
          29,
          43,
          34,
          38,
          39,
          39,
          37,
          36,
          25,
          31,
          32,
          31,
          33,
          26,
          52,
          46,
          42,
          36,
          46,
          29,
          45,
          33,
          33,
          50,
          32,
          31,
          35,
          31,
          26,
          29,
          30,
          52,
          40,
          29,
          38,
          29,
          40,
          42,
          32,
          49,
          37,
          30,
          31,
          27,
          45,
          48,
          27,
          46,
          35,
          39,
          33,
          30,
          26,
          49,
          24,
          43,
          49,
          29,
          25,
          45,
          31,
          43,
          46,
          31,
          31,
          34,
          23,
          26,
          27,
          30,
          26,
          34,
          45,
          40,
          30,
          27,
          36,
          32,
          24,
          27,
          23,
          43,
          36,
          36,
          31,
          44,
          24,
          28,
          40,
          24,
          22,
          41,
          36,
          22,
          46,
          28,
          22,
          35,
          33,
          32,
          32,
          35,
          43,
          27,
          30,
          32,
          23,
          38,
          31,
          44,
          32,
          29,
          35,
          41,
          26,
          29,
          33,
          31,
          38,
          32,
          26,
          27,
          37,
          22,
          26,
          35,
          44,
          41,
          30,
          36,
          29,
          31,
          33,
          27,
          24,
          27,
          45,
          25,
          37,
          51,
          28,
          25,
          33,
          39,
          36,
          42,
          30,
          30,
          39,
          27,
          40,
          30,
          26,
          30,
          26,
          23,
          37,
          46,
          31,
          27,
          24,
          24,
          21,
          36,
          22,
          47,
          23,
          44,
          31,
          42,
          36,
          51,
          25,
          30,
          49,
          20,
          34,
          34,
          35,
          28,
          31,
          21,
          29,
          37,
          21,
          35,
          26,
          37,
          33,
          32,
          51,
          21,
          25,
          42,
          42,
          31,
          24,
          43,
          33,
          37,
          32,
          23,
          28,
          51,
          34,
          27,
          33,
          41,
          26,
          30,
          34,
          29,
          36,
          26,
          27,
          34,
          28,
          22,
          24,
          38,
          28,
          29,
          38,
          25,
          25,
          30,
          30,
          25,
          26,
          23,
          36,
          41,
          25,
          45,
          26,
          40,
          35,
          30,
          23,
          24,
          27,
          23,
          25,
          31,
          25,
          51,
          34,
          25,
          27,
          30,
          26,
          35,
          41,
          26,
          28,
          42,
          32,
          29,
          37,
          29,
          24,
          34,
          23,
          43,
          21,
          25,
          24,
          33,
          41,
          35,
          37,
          33,
          40,
          30,
          32,
          26,
          26,
          31,
          52,
          25,
          38,
          28,
          26,
          30,
          39,
          33,
          33,
          38,
          28,
          43,
          27,
          32,
          20,
          26,
          31,
          40,
          33,
          51,
          25,
          34,
          33,
          30,
          25,
          33,
          36,
          38,
          31,
          25,
          23,
          36,
          27,
          27,
          34,
          42,
          27,
          34,
          33,
          27,
          28,
          23,
          28,
          34,
          27,
          33,
          28,
          32,
          29,
          29,
          25,
          24,
          35,
          44,
          47,
          30,
          31,
          36,
          30,
          27,
          26,
          26,
          22,
          38,
          35,
          30,
          48,
          38,
          27,
          23,
          20,
          33,
          25,
          38,
          21,
          45,
          26,
          28,
          23,
          21,
          35,
          37,
          26,
          30,
          37,
          34,
          31,
          38,
          31,
          31,
          42,
          35,
          27,
          22,
          27,
          30,
          33,
          33,
          32,
          39,
          33,
          21,
          23,
          20,
          32,
          31,
          35,
          27,
          26,
          21,
          25,
          23,
          26,
          36,
          35,
          40,
          54,
          30,
          45,
          25,
          26,
          33,
          31,
          23,
          28,
          25,
          29,
          44,
          33,
          40,
          35,
          33,
          40,
          40,
          34,
          28,
          38,
          38,
          30,
          25,
          38,
          34,
          32,
          28,
          32,
          31,
          25,
          24,
          28,
          25,
          28,
          40,
          40,
          36,
          30,
          26,
          33,
          24,
          38,
          38,
          36,
          23,
          26,
          27,
          22,
          28,
          36,
          29,
          32,
          33,
          34,
          31,
          49,
          25,
          41,
          33,
          27,
          29,
          28,
          29,
          30,
          30,
          34,
          24
         ],
         "y0": " ",
         "yaxis": "y"
        },
        {
         "alignmentgroup": "True",
         "hovertemplate": "Genero=Feminino<br>Tempo de experiência=%{x}<br>Idade=%{y}<extra></extra>",
         "legendgroup": "Feminino",
         "marker": {
          "color": "#fc8d62"
         },
         "name": "Feminino",
         "notched": false,
         "offsetgroup": "Feminino",
         "orientation": "v",
         "showlegend": true,
         "type": "box",
         "x": [
          "Mais de 10 anos",
          "Mais de 10 anos",
          "de 4 a 5 anos",
          "de 1 a 2 anos",
          "de 2 a 3 anos",
          "Mais de 10 anos",
          "de 1 a 2 anos",
          "Mais de 10 anos",
          "Não tenho experiência na área de dados",
          "Mais de 10 anos",
          "de 2 a 3 anos",
          "Mais de 10 anos",
          "de 6 a 10 anos",
          "de 1 a 2 anos",
          "Menos de 1 ano",
          "de 1 a 2 anos",
          "Não tenho experiência na área de dados",
          "de 1 a 2 anos",
          "Não tenho experiência na área de dados",
          "de 2 a 3 anos",
          "Mais de 10 anos",
          "de 2 a 3 anos",
          "de 2 a 3 anos",
          "Não tenho experiência na área de dados",
          "Menos de 1 ano",
          "de 2 a 3 anos",
          "Não tenho experiência na área de dados",
          "Menos de 1 ano",
          "de 1 a 2 anos",
          "Mais de 10 anos",
          "Não tenho experiência na área de dados",
          "Menos de 1 ano",
          "Mais de 10 anos",
          "Não tenho experiência na área de dados",
          "de 4 a 5 anos",
          "Mais de 10 anos",
          "Menos de 1 ano",
          "de 2 a 3 anos",
          "de 1 a 2 anos",
          "Menos de 1 ano",
          "Menos de 1 ano",
          "de 1 a 2 anos",
          "de 2 a 3 anos",
          "de 2 a 3 anos",
          "Não tenho experiência na área de dados",
          "Menos de 1 ano",
          "Mais de 10 anos",
          "Menos de 1 ano",
          "de 4 a 5 anos",
          "Não tenho experiência na área de dados",
          "Menos de 1 ano",
          "Mais de 10 anos",
          "de 4 a 5 anos",
          "Não tenho experiência na área de dados",
          "de 6 a 10 anos",
          "de 2 a 3 anos",
          "Menos de 1 ano",
          "de 2 a 3 anos",
          "de 4 a 5 anos",
          "de 2 a 3 anos",
          "de 2 a 3 anos",
          "Menos de 1 ano",
          "de 6 a 10 anos",
          "Não tenho experiência na área de dados",
          "de 1 a 2 anos",
          "Não tenho experiência na área de dados",
          "de 1 a 2 anos",
          "de 1 a 2 anos",
          "Mais de 10 anos",
          "Menos de 1 ano",
          "de 2 a 3 anos",
          "Menos de 1 ano",
          "de 1 a 2 anos",
          "de 1 a 2 anos",
          "de 2 a 3 anos",
          "de 4 a 5 anos",
          "Menos de 1 ano",
          "de 4 a 5 anos",
          "de 4 a 5 anos",
          "Menos de 1 ano",
          "de 2 a 3 anos",
          "de 4 a 5 anos",
          "de 4 a 5 anos",
          "Menos de 1 ano",
          "de 1 a 2 anos",
          "Não tenho experiência na área de dados",
          "de 2 a 3 anos",
          "de 1 a 2 anos",
          "Menos de 1 ano",
          "de 4 a 5 anos",
          "Menos de 1 ano",
          "de 6 a 10 anos",
          "de 2 a 3 anos",
          "de 4 a 5 anos",
          "de 4 a 5 anos",
          "de 2 a 3 anos",
          "Mais de 10 anos",
          "de 2 a 3 anos",
          "de 6 a 10 anos",
          "Menos de 1 ano",
          "de 2 a 3 anos",
          "Não tenho experiência na área de dados",
          "Menos de 1 ano",
          "Mais de 10 anos",
          "Menos de 1 ano",
          "Menos de 1 ano",
          "de 6 a 10 anos",
          "de 1 a 2 anos",
          "Menos de 1 ano",
          "de 6 a 10 anos",
          "Menos de 1 ano",
          "de 2 a 3 anos",
          "de 1 a 2 anos",
          "de 1 a 2 anos",
          "de 2 a 3 anos",
          "Não tenho experiência na área de dados",
          "de 2 a 3 anos",
          "Menos de 1 ano",
          "de 4 a 5 anos"
         ],
         "x0": " ",
         "xaxis": "x",
         "y": [
          38,
          34,
          33,
          22,
          38,
          30,
          25,
          35,
          39,
          38,
          50,
          41,
          38,
          45,
          46,
          37,
          29,
          35,
          48,
          24,
          37,
          31,
          30,
          41,
          36,
          30,
          31,
          30,
          29,
          38,
          38,
          24,
          44,
          32,
          28,
          42,
          43,
          28,
          27,
          20,
          32,
          39,
          31,
          27,
          30,
          26,
          53,
          23,
          25,
          24,
          35,
          39,
          29,
          34,
          39,
          22,
          28,
          25,
          33,
          32,
          22,
          30,
          31,
          34,
          28,
          36,
          34,
          21,
          37,
          29,
          28,
          41,
          22,
          21,
          26,
          33,
          38,
          31,
          26,
          38,
          29,
          29,
          25,
          24,
          22,
          33,
          41,
          33,
          23,
          29,
          21,
          28,
          22,
          29,
          24,
          24,
          39,
          23,
          34,
          24,
          27,
          25,
          23,
          54,
          22,
          22,
          29,
          30,
          23,
          36,
          26,
          29,
          35,
          30,
          25,
          33,
          28,
          24,
          27
         ],
         "y0": " ",
         "yaxis": "y"
        }
       ],
       "layout": {
        "boxmode": "group",
        "height": 500,
        "legend": {
         "title": {
          "text": "Genero"
         },
         "tracegroupgap": 0
        },
        "margin": {
         "t": 60
        },
        "template": {
         "data": {
          "bar": [
           {
            "error_x": {
             "color": "rgb(36,36,36)"
            },
            "error_y": {
             "color": "rgb(36,36,36)"
            },
            "marker": {
             "line": {
              "color": "white",
              "width": 0.5
             },
             "pattern": {
              "fillmode": "overlay",
              "size": 10,
              "solidity": 0.2
             }
            },
            "type": "bar"
           }
          ],
          "barpolar": [
           {
            "marker": {
             "line": {
              "color": "white",
              "width": 0.5
             },
             "pattern": {
              "fillmode": "overlay",
              "size": 10,
              "solidity": 0.2
             }
            },
            "type": "barpolar"
           }
          ],
          "carpet": [
           {
            "aaxis": {
             "endlinecolor": "rgb(36,36,36)",
             "gridcolor": "white",
             "linecolor": "white",
             "minorgridcolor": "white",
             "startlinecolor": "rgb(36,36,36)"
            },
            "baxis": {
             "endlinecolor": "rgb(36,36,36)",
             "gridcolor": "white",
             "linecolor": "white",
             "minorgridcolor": "white",
             "startlinecolor": "rgb(36,36,36)"
            },
            "type": "carpet"
           }
          ],
          "choropleth": [
           {
            "colorbar": {
             "outlinewidth": 1,
             "tickcolor": "rgb(36,36,36)",
             "ticks": "outside"
            },
            "type": "choropleth"
           }
          ],
          "contour": [
           {
            "colorbar": {
             "outlinewidth": 1,
             "tickcolor": "rgb(36,36,36)",
             "ticks": "outside"
            },
            "colorscale": [
             [
              0,
              "#440154"
             ],
             [
              0.1111111111111111,
              "#482878"
             ],
             [
              0.2222222222222222,
              "#3e4989"
             ],
             [
              0.3333333333333333,
              "#31688e"
             ],
             [
              0.4444444444444444,
              "#26828e"
             ],
             [
              0.5555555555555556,
              "#1f9e89"
             ],
             [
              0.6666666666666666,
              "#35b779"
             ],
             [
              0.7777777777777778,
              "#6ece58"
             ],
             [
              0.8888888888888888,
              "#b5de2b"
             ],
             [
              1,
              "#fde725"
             ]
            ],
            "type": "contour"
           }
          ],
          "contourcarpet": [
           {
            "colorbar": {
             "outlinewidth": 1,
             "tickcolor": "rgb(36,36,36)",
             "ticks": "outside"
            },
            "type": "contourcarpet"
           }
          ],
          "heatmap": [
           {
            "colorbar": {
             "outlinewidth": 1,
             "tickcolor": "rgb(36,36,36)",
             "ticks": "outside"
            },
            "colorscale": [
             [
              0,
              "#440154"
             ],
             [
              0.1111111111111111,
              "#482878"
             ],
             [
              0.2222222222222222,
              "#3e4989"
             ],
             [
              0.3333333333333333,
              "#31688e"
             ],
             [
              0.4444444444444444,
              "#26828e"
             ],
             [
              0.5555555555555556,
              "#1f9e89"
             ],
             [
              0.6666666666666666,
              "#35b779"
             ],
             [
              0.7777777777777778,
              "#6ece58"
             ],
             [
              0.8888888888888888,
              "#b5de2b"
             ],
             [
              1,
              "#fde725"
             ]
            ],
            "type": "heatmap"
           }
          ],
          "heatmapgl": [
           {
            "colorbar": {
             "outlinewidth": 1,
             "tickcolor": "rgb(36,36,36)",
             "ticks": "outside"
            },
            "colorscale": [
             [
              0,
              "#440154"
             ],
             [
              0.1111111111111111,
              "#482878"
             ],
             [
              0.2222222222222222,
              "#3e4989"
             ],
             [
              0.3333333333333333,
              "#31688e"
             ],
             [
              0.4444444444444444,
              "#26828e"
             ],
             [
              0.5555555555555556,
              "#1f9e89"
             ],
             [
              0.6666666666666666,
              "#35b779"
             ],
             [
              0.7777777777777778,
              "#6ece58"
             ],
             [
              0.8888888888888888,
              "#b5de2b"
             ],
             [
              1,
              "#fde725"
             ]
            ],
            "type": "heatmapgl"
           }
          ],
          "histogram": [
           {
            "marker": {
             "line": {
              "color": "white",
              "width": 0.6
             }
            },
            "type": "histogram"
           }
          ],
          "histogram2d": [
           {
            "colorbar": {
             "outlinewidth": 1,
             "tickcolor": "rgb(36,36,36)",
             "ticks": "outside"
            },
            "colorscale": [
             [
              0,
              "#440154"
             ],
             [
              0.1111111111111111,
              "#482878"
             ],
             [
              0.2222222222222222,
              "#3e4989"
             ],
             [
              0.3333333333333333,
              "#31688e"
             ],
             [
              0.4444444444444444,
              "#26828e"
             ],
             [
              0.5555555555555556,
              "#1f9e89"
             ],
             [
              0.6666666666666666,
              "#35b779"
             ],
             [
              0.7777777777777778,
              "#6ece58"
             ],
             [
              0.8888888888888888,
              "#b5de2b"
             ],
             [
              1,
              "#fde725"
             ]
            ],
            "type": "histogram2d"
           }
          ],
          "histogram2dcontour": [
           {
            "colorbar": {
             "outlinewidth": 1,
             "tickcolor": "rgb(36,36,36)",
             "ticks": "outside"
            },
            "colorscale": [
             [
              0,
              "#440154"
             ],
             [
              0.1111111111111111,
              "#482878"
             ],
             [
              0.2222222222222222,
              "#3e4989"
             ],
             [
              0.3333333333333333,
              "#31688e"
             ],
             [
              0.4444444444444444,
              "#26828e"
             ],
             [
              0.5555555555555556,
              "#1f9e89"
             ],
             [
              0.6666666666666666,
              "#35b779"
             ],
             [
              0.7777777777777778,
              "#6ece58"
             ],
             [
              0.8888888888888888,
              "#b5de2b"
             ],
             [
              1,
              "#fde725"
             ]
            ],
            "type": "histogram2dcontour"
           }
          ],
          "mesh3d": [
           {
            "colorbar": {
             "outlinewidth": 1,
             "tickcolor": "rgb(36,36,36)",
             "ticks": "outside"
            },
            "type": "mesh3d"
           }
          ],
          "parcoords": [
           {
            "line": {
             "colorbar": {
              "outlinewidth": 1,
              "tickcolor": "rgb(36,36,36)",
              "ticks": "outside"
             }
            },
            "type": "parcoords"
           }
          ],
          "pie": [
           {
            "automargin": true,
            "type": "pie"
           }
          ],
          "scatter": [
           {
            "fillpattern": {
             "fillmode": "overlay",
             "size": 10,
             "solidity": 0.2
            },
            "type": "scatter"
           }
          ],
          "scatter3d": [
           {
            "line": {
             "colorbar": {
              "outlinewidth": 1,
              "tickcolor": "rgb(36,36,36)",
              "ticks": "outside"
             }
            },
            "marker": {
             "colorbar": {
              "outlinewidth": 1,
              "tickcolor": "rgb(36,36,36)",
              "ticks": "outside"
             }
            },
            "type": "scatter3d"
           }
          ],
          "scattercarpet": [
           {
            "marker": {
             "colorbar": {
              "outlinewidth": 1,
              "tickcolor": "rgb(36,36,36)",
              "ticks": "outside"
             }
            },
            "type": "scattercarpet"
           }
          ],
          "scattergeo": [
           {
            "marker": {
             "colorbar": {
              "outlinewidth": 1,
              "tickcolor": "rgb(36,36,36)",
              "ticks": "outside"
             }
            },
            "type": "scattergeo"
           }
          ],
          "scattergl": [
           {
            "marker": {
             "colorbar": {
              "outlinewidth": 1,
              "tickcolor": "rgb(36,36,36)",
              "ticks": "outside"
             }
            },
            "type": "scattergl"
           }
          ],
          "scattermapbox": [
           {
            "marker": {
             "colorbar": {
              "outlinewidth": 1,
              "tickcolor": "rgb(36,36,36)",
              "ticks": "outside"
             }
            },
            "type": "scattermapbox"
           }
          ],
          "scatterpolar": [
           {
            "marker": {
             "colorbar": {
              "outlinewidth": 1,
              "tickcolor": "rgb(36,36,36)",
              "ticks": "outside"
             }
            },
            "type": "scatterpolar"
           }
          ],
          "scatterpolargl": [
           {
            "marker": {
             "colorbar": {
              "outlinewidth": 1,
              "tickcolor": "rgb(36,36,36)",
              "ticks": "outside"
             }
            },
            "type": "scatterpolargl"
           }
          ],
          "scatterternary": [
           {
            "marker": {
             "colorbar": {
              "outlinewidth": 1,
              "tickcolor": "rgb(36,36,36)",
              "ticks": "outside"
             }
            },
            "type": "scatterternary"
           }
          ],
          "surface": [
           {
            "colorbar": {
             "outlinewidth": 1,
             "tickcolor": "rgb(36,36,36)",
             "ticks": "outside"
            },
            "colorscale": [
             [
              0,
              "#440154"
             ],
             [
              0.1111111111111111,
              "#482878"
             ],
             [
              0.2222222222222222,
              "#3e4989"
             ],
             [
              0.3333333333333333,
              "#31688e"
             ],
             [
              0.4444444444444444,
              "#26828e"
             ],
             [
              0.5555555555555556,
              "#1f9e89"
             ],
             [
              0.6666666666666666,
              "#35b779"
             ],
             [
              0.7777777777777778,
              "#6ece58"
             ],
             [
              0.8888888888888888,
              "#b5de2b"
             ],
             [
              1,
              "#fde725"
             ]
            ],
            "type": "surface"
           }
          ],
          "table": [
           {
            "cells": {
             "fill": {
              "color": "rgb(237,237,237)"
             },
             "line": {
              "color": "white"
             }
            },
            "header": {
             "fill": {
              "color": "rgb(217,217,217)"
             },
             "line": {
              "color": "white"
             }
            },
            "type": "table"
           }
          ]
         },
         "layout": {
          "annotationdefaults": {
           "arrowhead": 0,
           "arrowwidth": 1
          },
          "autotypenumbers": "strict",
          "coloraxis": {
           "colorbar": {
            "outlinewidth": 1,
            "tickcolor": "rgb(36,36,36)",
            "ticks": "outside"
           }
          },
          "colorscale": {
           "diverging": [
            [
             0,
             "rgb(103,0,31)"
            ],
            [
             0.1,
             "rgb(178,24,43)"
            ],
            [
             0.2,
             "rgb(214,96,77)"
            ],
            [
             0.3,
             "rgb(244,165,130)"
            ],
            [
             0.4,
             "rgb(253,219,199)"
            ],
            [
             0.5,
             "rgb(247,247,247)"
            ],
            [
             0.6,
             "rgb(209,229,240)"
            ],
            [
             0.7,
             "rgb(146,197,222)"
            ],
            [
             0.8,
             "rgb(67,147,195)"
            ],
            [
             0.9,
             "rgb(33,102,172)"
            ],
            [
             1,
             "rgb(5,48,97)"
            ]
           ],
           "sequential": [
            [
             0,
             "#440154"
            ],
            [
             0.1111111111111111,
             "#482878"
            ],
            [
             0.2222222222222222,
             "#3e4989"
            ],
            [
             0.3333333333333333,
             "#31688e"
            ],
            [
             0.4444444444444444,
             "#26828e"
            ],
            [
             0.5555555555555556,
             "#1f9e89"
            ],
            [
             0.6666666666666666,
             "#35b779"
            ],
            [
             0.7777777777777778,
             "#6ece58"
            ],
            [
             0.8888888888888888,
             "#b5de2b"
            ],
            [
             1,
             "#fde725"
            ]
           ],
           "sequentialminus": [
            [
             0,
             "#440154"
            ],
            [
             0.1111111111111111,
             "#482878"
            ],
            [
             0.2222222222222222,
             "#3e4989"
            ],
            [
             0.3333333333333333,
             "#31688e"
            ],
            [
             0.4444444444444444,
             "#26828e"
            ],
            [
             0.5555555555555556,
             "#1f9e89"
            ],
            [
             0.6666666666666666,
             "#35b779"
            ],
            [
             0.7777777777777778,
             "#6ece58"
            ],
            [
             0.8888888888888888,
             "#b5de2b"
            ],
            [
             1,
             "#fde725"
            ]
           ]
          },
          "colorway": [
           "#1F77B4",
           "#FF7F0E",
           "#2CA02C",
           "#D62728",
           "#9467BD",
           "#8C564B",
           "#E377C2",
           "#7F7F7F",
           "#BCBD22",
           "#17BECF"
          ],
          "font": {
           "color": "rgb(36,36,36)"
          },
          "geo": {
           "bgcolor": "white",
           "lakecolor": "white",
           "landcolor": "white",
           "showlakes": true,
           "showland": true,
           "subunitcolor": "white"
          },
          "hoverlabel": {
           "align": "left"
          },
          "hovermode": "closest",
          "mapbox": {
           "style": "light"
          },
          "paper_bgcolor": "white",
          "plot_bgcolor": "white",
          "polar": {
           "angularaxis": {
            "gridcolor": "rgb(232,232,232)",
            "linecolor": "rgb(36,36,36)",
            "showgrid": false,
            "showline": true,
            "ticks": "outside"
           },
           "bgcolor": "white",
           "radialaxis": {
            "gridcolor": "rgb(232,232,232)",
            "linecolor": "rgb(36,36,36)",
            "showgrid": false,
            "showline": true,
            "ticks": "outside"
           }
          },
          "scene": {
           "xaxis": {
            "backgroundcolor": "white",
            "gridcolor": "rgb(232,232,232)",
            "gridwidth": 2,
            "linecolor": "rgb(36,36,36)",
            "showbackground": true,
            "showgrid": false,
            "showline": true,
            "ticks": "outside",
            "zeroline": false,
            "zerolinecolor": "rgb(36,36,36)"
           },
           "yaxis": {
            "backgroundcolor": "white",
            "gridcolor": "rgb(232,232,232)",
            "gridwidth": 2,
            "linecolor": "rgb(36,36,36)",
            "showbackground": true,
            "showgrid": false,
            "showline": true,
            "ticks": "outside",
            "zeroline": false,
            "zerolinecolor": "rgb(36,36,36)"
           },
           "zaxis": {
            "backgroundcolor": "white",
            "gridcolor": "rgb(232,232,232)",
            "gridwidth": 2,
            "linecolor": "rgb(36,36,36)",
            "showbackground": true,
            "showgrid": false,
            "showline": true,
            "ticks": "outside",
            "zeroline": false,
            "zerolinecolor": "rgb(36,36,36)"
           }
          },
          "shapedefaults": {
           "fillcolor": "black",
           "line": {
            "width": 0
           },
           "opacity": 0.3
          },
          "ternary": {
           "aaxis": {
            "gridcolor": "rgb(232,232,232)",
            "linecolor": "rgb(36,36,36)",
            "showgrid": false,
            "showline": true,
            "ticks": "outside"
           },
           "baxis": {
            "gridcolor": "rgb(232,232,232)",
            "linecolor": "rgb(36,36,36)",
            "showgrid": false,
            "showline": true,
            "ticks": "outside"
           },
           "bgcolor": "white",
           "caxis": {
            "gridcolor": "rgb(232,232,232)",
            "linecolor": "rgb(36,36,36)",
            "showgrid": false,
            "showline": true,
            "ticks": "outside"
           }
          },
          "title": {
           "x": 0.05
          },
          "xaxis": {
           "automargin": true,
           "gridcolor": "rgb(232,232,232)",
           "linecolor": "rgb(36,36,36)",
           "showgrid": false,
           "showline": true,
           "ticks": "outside",
           "title": {
            "standoff": 15
           },
           "zeroline": false,
           "zerolinecolor": "rgb(36,36,36)"
          },
          "yaxis": {
           "automargin": true,
           "gridcolor": "rgb(232,232,232)",
           "linecolor": "rgb(36,36,36)",
           "showgrid": false,
           "showline": true,
           "ticks": "outside",
           "title": {
            "standoff": 15
           },
           "zeroline": false,
           "zerolinecolor": "rgb(36,36,36)"
          }
         }
        },
        "title": {
         "text": "Relação entre idade e tempo de experiência dos insatisfeitos com o trabalho atual",
         "x": 0.5
        },
        "width": 950,
        "xaxis": {
         "anchor": "y",
         "categoryarray": [
          "Não tenho experiência na área de dados",
          "Menos de 1 ano",
          "de 1 a 2 anos",
          "de 2 a 3 anos",
          "de 4 a 5 anos",
          "de 6 a 10 anos",
          "Mais de 10 anos"
         ],
         "categoryorder": "array",
         "domain": [
          0,
          1
         ],
         "title": {
          "text": "Tempo de experiência"
         }
        },
        "yaxis": {
         "anchor": "x",
         "domain": [
          0,
          1
         ],
         "title": {
          "text": "Idade"
         }
        }
       }
      }
     },
     "metadata": {},
     "output_type": "display_data"
    }
   ],
   "source": [
    "# Visualização utilizando o Plotly\n",
    "\n",
    "insatisfeitos = df.loc[df['Você está satisfeito na sua empresa atual?']==0, \n",
    "                       ['Genero', 'Quanto tempo de experiência na área de dados você tem?', 'Idade']]\n",
    "\n",
    "fig = px.box(insatisfeitos, \n",
    "       x = 'Quanto tempo de experiência na área de dados você tem?', \n",
    "       y = 'Idade',\n",
    "       color='Genero',\n",
    "       template='simple_white',\n",
    "       category_orders={\n",
    "                        'Quanto tempo de experiência na área de dados você tem?': [\n",
    "                            'Não tenho experiência na área de dados',\n",
    "                            'Menos de 1 ano',\n",
    "                            'de 1 a 2 anos',\n",
    "                            'de 2 a 3 anos',\n",
    "                            'de 4 a 5 anos',\n",
    "                            'de 6 a 10 anos',\n",
    "                            'Mais de 10 anos',\n",
    "                            ]\n",
    "                        },\n",
    "       labels = {'Quanto tempo de experiência na área de dados você tem?': 'Tempo de experiência'},\n",
    "       color_discrete_sequence=color_pal,\n",
    "       )\n",
    "\n",
    "fig.update_layout(width=950, height=500, \n",
    "                  title_text='Relação entre idade e tempo de experiência dos insatisfeitos com o trabalho atual',\n",
    "                  title_x=0.50\n",
    "                  )\n",
    "\n",
    "fig.show()"
   ]
  },
  {
   "attachments": {},
   "cell_type": "markdown",
   "metadata": {},
   "source": [
    "### Insatisfação x modalidade de trabalho"
   ]
  },
  {
   "cell_type": "code",
   "execution_count": 22,
   "metadata": {},
   "outputs": [
    {
     "data": {
      "application/vnd.plotly.v1+json": {
       "config": {
        "plotlyServerURL": "https://plot.ly"
       },
       "data": [
        {
         "alignmentgroup": "True",
         "hovertemplate": "=%{y}<br>Genero=Feminino<br>value=%{x}<extra></extra>",
         "legendgroup": "Insatisfeito",
         "marker": {
          "color": "#8da0cb",
          "pattern": {
           "shape": ""
          }
         },
         "name": "Insatisfeito",
         "offsetgroup": "Insatisfeito",
         "orientation": "h",
         "showlegend": true,
         "textposition": "auto",
         "type": "bar",
         "x": [
          0.4418604651162791,
          0.25622775800711745,
          0.37142857142857144,
          0.19480519480519481
         ],
         "xaxis": "x2",
         "y": [
          "Modelo 100% presencial",
          "Modelo 100% remoto",
          "Modelo híbrido fixo",
          "Modelo híbrido flexível"
         ],
         "yaxis": "y2"
        },
        {
         "alignmentgroup": "True",
         "hovertemplate": "=%{y}<br>Genero=Masculino<br>value=%{x}<extra></extra>",
         "legendgroup": "Insatisfeito",
         "marker": {
          "color": "#8da0cb",
          "pattern": {
           "shape": ""
          }
         },
         "name": "Insatisfeito",
         "offsetgroup": "Insatisfeito",
         "orientation": "h",
         "showlegend": false,
         "textposition": "auto",
         "type": "bar",
         "x": [
          0.5368421052631579,
          0.19523809523809524,
          0.3121951219512195,
          0.1837270341207349
         ],
         "xaxis": "x",
         "y": [
          "Modelo 100% presencial",
          "Modelo 100% remoto",
          "Modelo híbrido fixo",
          "Modelo híbrido flexível"
         ],
         "yaxis": "y"
        },
        {
         "alignmentgroup": "True",
         "hovertemplate": "=%{y}<br>Genero=Feminino<br>value=%{x}<extra></extra>",
         "legendgroup": "Satisfeito",
         "marker": {
          "color": "#a6d854",
          "pattern": {
           "shape": ""
          }
         },
         "name": "Satisfeito",
         "offsetgroup": "Satisfeito",
         "orientation": "h",
         "showlegend": true,
         "textposition": "auto",
         "type": "bar",
         "x": [
          0.5581395348837209,
          0.7437722419928826,
          0.6285714285714286,
          0.8051948051948052
         ],
         "xaxis": "x2",
         "y": [
          "Modelo 100% presencial",
          "Modelo 100% remoto",
          "Modelo híbrido fixo",
          "Modelo híbrido flexível"
         ],
         "yaxis": "y2"
        },
        {
         "alignmentgroup": "True",
         "hovertemplate": "=%{y}<br>Genero=Masculino<br>value=%{x}<extra></extra>",
         "legendgroup": "Satisfeito",
         "marker": {
          "color": "#a6d854",
          "pattern": {
           "shape": ""
          }
         },
         "name": "Satisfeito",
         "offsetgroup": "Satisfeito",
         "orientation": "h",
         "showlegend": false,
         "textposition": "auto",
         "type": "bar",
         "x": [
          0.4631578947368421,
          0.8047619047619048,
          0.6878048780487804,
          0.8162729658792651
         ],
         "xaxis": "x",
         "y": [
          "Modelo 100% presencial",
          "Modelo 100% remoto",
          "Modelo híbrido fixo",
          "Modelo híbrido flexível"
         ],
         "yaxis": "y"
        }
       ],
       "layout": {
        "annotations": [
         {
          "font": {},
          "showarrow": false,
          "text": "Genero=Masculino",
          "textangle": 90,
          "x": 0.98,
          "xanchor": "left",
          "xref": "paper",
          "y": 0.2425,
          "yanchor": "middle",
          "yref": "paper"
         },
         {
          "font": {},
          "showarrow": false,
          "text": "Genero=Feminino",
          "textangle": 90,
          "x": 0.98,
          "xanchor": "left",
          "xref": "paper",
          "y": 0.7575000000000001,
          "yanchor": "middle",
          "yref": "paper"
         }
        ],
        "barmode": "stack",
        "height": 600,
        "legend": {
         "title": {
          "text": ""
         },
         "tracegroupgap": 0
        },
        "margin": {
         "t": 60
        },
        "plot_bgcolor": "white",
        "showlegend": true,
        "template": {
         "data": {
          "bar": [
           {
            "error_x": {
             "color": "#2a3f5f"
            },
            "error_y": {
             "color": "#2a3f5f"
            },
            "marker": {
             "line": {
              "color": "#E5ECF6",
              "width": 0.5
             },
             "pattern": {
              "fillmode": "overlay",
              "size": 10,
              "solidity": 0.2
             }
            },
            "type": "bar"
           }
          ],
          "barpolar": [
           {
            "marker": {
             "line": {
              "color": "#E5ECF6",
              "width": 0.5
             },
             "pattern": {
              "fillmode": "overlay",
              "size": 10,
              "solidity": 0.2
             }
            },
            "type": "barpolar"
           }
          ],
          "carpet": [
           {
            "aaxis": {
             "endlinecolor": "#2a3f5f",
             "gridcolor": "white",
             "linecolor": "white",
             "minorgridcolor": "white",
             "startlinecolor": "#2a3f5f"
            },
            "baxis": {
             "endlinecolor": "#2a3f5f",
             "gridcolor": "white",
             "linecolor": "white",
             "minorgridcolor": "white",
             "startlinecolor": "#2a3f5f"
            },
            "type": "carpet"
           }
          ],
          "choropleth": [
           {
            "colorbar": {
             "outlinewidth": 0,
             "ticks": ""
            },
            "type": "choropleth"
           }
          ],
          "contour": [
           {
            "colorbar": {
             "outlinewidth": 0,
             "ticks": ""
            },
            "colorscale": [
             [
              0,
              "#0d0887"
             ],
             [
              0.1111111111111111,
              "#46039f"
             ],
             [
              0.2222222222222222,
              "#7201a8"
             ],
             [
              0.3333333333333333,
              "#9c179e"
             ],
             [
              0.4444444444444444,
              "#bd3786"
             ],
             [
              0.5555555555555556,
              "#d8576b"
             ],
             [
              0.6666666666666666,
              "#ed7953"
             ],
             [
              0.7777777777777778,
              "#fb9f3a"
             ],
             [
              0.8888888888888888,
              "#fdca26"
             ],
             [
              1,
              "#f0f921"
             ]
            ],
            "type": "contour"
           }
          ],
          "contourcarpet": [
           {
            "colorbar": {
             "outlinewidth": 0,
             "ticks": ""
            },
            "type": "contourcarpet"
           }
          ],
          "heatmap": [
           {
            "colorbar": {
             "outlinewidth": 0,
             "ticks": ""
            },
            "colorscale": [
             [
              0,
              "#0d0887"
             ],
             [
              0.1111111111111111,
              "#46039f"
             ],
             [
              0.2222222222222222,
              "#7201a8"
             ],
             [
              0.3333333333333333,
              "#9c179e"
             ],
             [
              0.4444444444444444,
              "#bd3786"
             ],
             [
              0.5555555555555556,
              "#d8576b"
             ],
             [
              0.6666666666666666,
              "#ed7953"
             ],
             [
              0.7777777777777778,
              "#fb9f3a"
             ],
             [
              0.8888888888888888,
              "#fdca26"
             ],
             [
              1,
              "#f0f921"
             ]
            ],
            "type": "heatmap"
           }
          ],
          "heatmapgl": [
           {
            "colorbar": {
             "outlinewidth": 0,
             "ticks": ""
            },
            "colorscale": [
             [
              0,
              "#0d0887"
             ],
             [
              0.1111111111111111,
              "#46039f"
             ],
             [
              0.2222222222222222,
              "#7201a8"
             ],
             [
              0.3333333333333333,
              "#9c179e"
             ],
             [
              0.4444444444444444,
              "#bd3786"
             ],
             [
              0.5555555555555556,
              "#d8576b"
             ],
             [
              0.6666666666666666,
              "#ed7953"
             ],
             [
              0.7777777777777778,
              "#fb9f3a"
             ],
             [
              0.8888888888888888,
              "#fdca26"
             ],
             [
              1,
              "#f0f921"
             ]
            ],
            "type": "heatmapgl"
           }
          ],
          "histogram": [
           {
            "marker": {
             "pattern": {
              "fillmode": "overlay",
              "size": 10,
              "solidity": 0.2
             }
            },
            "type": "histogram"
           }
          ],
          "histogram2d": [
           {
            "colorbar": {
             "outlinewidth": 0,
             "ticks": ""
            },
            "colorscale": [
             [
              0,
              "#0d0887"
             ],
             [
              0.1111111111111111,
              "#46039f"
             ],
             [
              0.2222222222222222,
              "#7201a8"
             ],
             [
              0.3333333333333333,
              "#9c179e"
             ],
             [
              0.4444444444444444,
              "#bd3786"
             ],
             [
              0.5555555555555556,
              "#d8576b"
             ],
             [
              0.6666666666666666,
              "#ed7953"
             ],
             [
              0.7777777777777778,
              "#fb9f3a"
             ],
             [
              0.8888888888888888,
              "#fdca26"
             ],
             [
              1,
              "#f0f921"
             ]
            ],
            "type": "histogram2d"
           }
          ],
          "histogram2dcontour": [
           {
            "colorbar": {
             "outlinewidth": 0,
             "ticks": ""
            },
            "colorscale": [
             [
              0,
              "#0d0887"
             ],
             [
              0.1111111111111111,
              "#46039f"
             ],
             [
              0.2222222222222222,
              "#7201a8"
             ],
             [
              0.3333333333333333,
              "#9c179e"
             ],
             [
              0.4444444444444444,
              "#bd3786"
             ],
             [
              0.5555555555555556,
              "#d8576b"
             ],
             [
              0.6666666666666666,
              "#ed7953"
             ],
             [
              0.7777777777777778,
              "#fb9f3a"
             ],
             [
              0.8888888888888888,
              "#fdca26"
             ],
             [
              1,
              "#f0f921"
             ]
            ],
            "type": "histogram2dcontour"
           }
          ],
          "mesh3d": [
           {
            "colorbar": {
             "outlinewidth": 0,
             "ticks": ""
            },
            "type": "mesh3d"
           }
          ],
          "parcoords": [
           {
            "line": {
             "colorbar": {
              "outlinewidth": 0,
              "ticks": ""
             }
            },
            "type": "parcoords"
           }
          ],
          "pie": [
           {
            "automargin": true,
            "type": "pie"
           }
          ],
          "scatter": [
           {
            "fillpattern": {
             "fillmode": "overlay",
             "size": 10,
             "solidity": 0.2
            },
            "type": "scatter"
           }
          ],
          "scatter3d": [
           {
            "line": {
             "colorbar": {
              "outlinewidth": 0,
              "ticks": ""
             }
            },
            "marker": {
             "colorbar": {
              "outlinewidth": 0,
              "ticks": ""
             }
            },
            "type": "scatter3d"
           }
          ],
          "scattercarpet": [
           {
            "marker": {
             "colorbar": {
              "outlinewidth": 0,
              "ticks": ""
             }
            },
            "type": "scattercarpet"
           }
          ],
          "scattergeo": [
           {
            "marker": {
             "colorbar": {
              "outlinewidth": 0,
              "ticks": ""
             }
            },
            "type": "scattergeo"
           }
          ],
          "scattergl": [
           {
            "marker": {
             "colorbar": {
              "outlinewidth": 0,
              "ticks": ""
             }
            },
            "type": "scattergl"
           }
          ],
          "scattermapbox": [
           {
            "marker": {
             "colorbar": {
              "outlinewidth": 0,
              "ticks": ""
             }
            },
            "type": "scattermapbox"
           }
          ],
          "scatterpolar": [
           {
            "marker": {
             "colorbar": {
              "outlinewidth": 0,
              "ticks": ""
             }
            },
            "type": "scatterpolar"
           }
          ],
          "scatterpolargl": [
           {
            "marker": {
             "colorbar": {
              "outlinewidth": 0,
              "ticks": ""
             }
            },
            "type": "scatterpolargl"
           }
          ],
          "scatterternary": [
           {
            "marker": {
             "colorbar": {
              "outlinewidth": 0,
              "ticks": ""
             }
            },
            "type": "scatterternary"
           }
          ],
          "surface": [
           {
            "colorbar": {
             "outlinewidth": 0,
             "ticks": ""
            },
            "colorscale": [
             [
              0,
              "#0d0887"
             ],
             [
              0.1111111111111111,
              "#46039f"
             ],
             [
              0.2222222222222222,
              "#7201a8"
             ],
             [
              0.3333333333333333,
              "#9c179e"
             ],
             [
              0.4444444444444444,
              "#bd3786"
             ],
             [
              0.5555555555555556,
              "#d8576b"
             ],
             [
              0.6666666666666666,
              "#ed7953"
             ],
             [
              0.7777777777777778,
              "#fb9f3a"
             ],
             [
              0.8888888888888888,
              "#fdca26"
             ],
             [
              1,
              "#f0f921"
             ]
            ],
            "type": "surface"
           }
          ],
          "table": [
           {
            "cells": {
             "fill": {
              "color": "#EBF0F8"
             },
             "line": {
              "color": "white"
             }
            },
            "header": {
             "fill": {
              "color": "#C8D4E3"
             },
             "line": {
              "color": "white"
             }
            },
            "type": "table"
           }
          ]
         },
         "layout": {
          "annotationdefaults": {
           "arrowcolor": "#2a3f5f",
           "arrowhead": 0,
           "arrowwidth": 1
          },
          "autotypenumbers": "strict",
          "coloraxis": {
           "colorbar": {
            "outlinewidth": 0,
            "ticks": ""
           }
          },
          "colorscale": {
           "diverging": [
            [
             0,
             "#8e0152"
            ],
            [
             0.1,
             "#c51b7d"
            ],
            [
             0.2,
             "#de77ae"
            ],
            [
             0.3,
             "#f1b6da"
            ],
            [
             0.4,
             "#fde0ef"
            ],
            [
             0.5,
             "#f7f7f7"
            ],
            [
             0.6,
             "#e6f5d0"
            ],
            [
             0.7,
             "#b8e186"
            ],
            [
             0.8,
             "#7fbc41"
            ],
            [
             0.9,
             "#4d9221"
            ],
            [
             1,
             "#276419"
            ]
           ],
           "sequential": [
            [
             0,
             "#0d0887"
            ],
            [
             0.1111111111111111,
             "#46039f"
            ],
            [
             0.2222222222222222,
             "#7201a8"
            ],
            [
             0.3333333333333333,
             "#9c179e"
            ],
            [
             0.4444444444444444,
             "#bd3786"
            ],
            [
             0.5555555555555556,
             "#d8576b"
            ],
            [
             0.6666666666666666,
             "#ed7953"
            ],
            [
             0.7777777777777778,
             "#fb9f3a"
            ],
            [
             0.8888888888888888,
             "#fdca26"
            ],
            [
             1,
             "#f0f921"
            ]
           ],
           "sequentialminus": [
            [
             0,
             "#0d0887"
            ],
            [
             0.1111111111111111,
             "#46039f"
            ],
            [
             0.2222222222222222,
             "#7201a8"
            ],
            [
             0.3333333333333333,
             "#9c179e"
            ],
            [
             0.4444444444444444,
             "#bd3786"
            ],
            [
             0.5555555555555556,
             "#d8576b"
            ],
            [
             0.6666666666666666,
             "#ed7953"
            ],
            [
             0.7777777777777778,
             "#fb9f3a"
            ],
            [
             0.8888888888888888,
             "#fdca26"
            ],
            [
             1,
             "#f0f921"
            ]
           ]
          },
          "colorway": [
           "#636efa",
           "#EF553B",
           "#00cc96",
           "#ab63fa",
           "#FFA15A",
           "#19d3f3",
           "#FF6692",
           "#B6E880",
           "#FF97FF",
           "#FECB52"
          ],
          "font": {
           "color": "#2a3f5f"
          },
          "geo": {
           "bgcolor": "white",
           "lakecolor": "white",
           "landcolor": "#E5ECF6",
           "showlakes": true,
           "showland": true,
           "subunitcolor": "white"
          },
          "hoverlabel": {
           "align": "left"
          },
          "hovermode": "closest",
          "mapbox": {
           "style": "light"
          },
          "paper_bgcolor": "white",
          "plot_bgcolor": "#E5ECF6",
          "polar": {
           "angularaxis": {
            "gridcolor": "white",
            "linecolor": "white",
            "ticks": ""
           },
           "bgcolor": "#E5ECF6",
           "radialaxis": {
            "gridcolor": "white",
            "linecolor": "white",
            "ticks": ""
           }
          },
          "scene": {
           "xaxis": {
            "backgroundcolor": "#E5ECF6",
            "gridcolor": "white",
            "gridwidth": 2,
            "linecolor": "white",
            "showbackground": true,
            "ticks": "",
            "zerolinecolor": "white"
           },
           "yaxis": {
            "backgroundcolor": "#E5ECF6",
            "gridcolor": "white",
            "gridwidth": 2,
            "linecolor": "white",
            "showbackground": true,
            "ticks": "",
            "zerolinecolor": "white"
           },
           "zaxis": {
            "backgroundcolor": "#E5ECF6",
            "gridcolor": "white",
            "gridwidth": 2,
            "linecolor": "white",
            "showbackground": true,
            "ticks": "",
            "zerolinecolor": "white"
           }
          },
          "shapedefaults": {
           "line": {
            "color": "#2a3f5f"
           }
          },
          "ternary": {
           "aaxis": {
            "gridcolor": "white",
            "linecolor": "white",
            "ticks": ""
           },
           "baxis": {
            "gridcolor": "white",
            "linecolor": "white",
            "ticks": ""
           },
           "bgcolor": "#E5ECF6",
           "caxis": {
            "gridcolor": "white",
            "linecolor": "white",
            "ticks": ""
           }
          },
          "title": {
           "x": 0.05
          },
          "xaxis": {
           "automargin": true,
           "gridcolor": "white",
           "linecolor": "white",
           "ticks": "",
           "title": {
            "standoff": 15
           },
           "zerolinecolor": "white",
           "zerolinewidth": 2
          },
          "yaxis": {
           "automargin": true,
           "gridcolor": "white",
           "linecolor": "white",
           "ticks": "",
           "title": {
            "standoff": 15
           },
           "zerolinecolor": "white",
           "zerolinewidth": 2
          }
         }
        },
        "title": {
         "text": "Modelo de trabalho x insatisfação",
         "x": 0.5
        },
        "width": 950,
        "xaxis": {
         "anchor": "y",
         "domain": [
          0,
          0.98
         ],
         "showticklabels": false,
         "title": {
          "text": "value"
         },
         "visible": false
        },
        "xaxis2": {
         "anchor": "y2",
         "domain": [
          0,
          0.98
         ],
         "matches": "x",
         "showticklabels": false
        },
        "yaxis": {
         "anchor": "x",
         "domain": [
          0,
          0.485
         ],
         "title": {
          "text": ""
         }
        },
        "yaxis2": {
         "anchor": "x2",
         "domain": [
          0.515,
          1
         ],
         "matches": "y",
         "title": {
          "text": ""
         }
        }
       }
      }
     },
     "metadata": {},
     "output_type": "display_data"
    }
   ],
   "source": [
    "df_insatisfacao = df.loc[df['Você está satisfeito na sua empresa atual?']>=0, \n",
    "                       [\n",
    "                        'Genero', \n",
    "                        'Você está satisfeito na sua empresa atual?', \n",
    "                        'Atualmente qual a sua forma de trabalho?'\n",
    "                        ]]\n",
    "\n",
    "# Substituindo valores para melhor visualização\n",
    "df_insatisfacao['Você está satisfeito na sua empresa atual?'\n",
    "                ].replace(0, 'Insatisfeito', inplace=True)\n",
    "\n",
    "df_insatisfacao['Você está satisfeito na sua empresa atual?'\n",
    "                ].replace(1, 'Satisfeito', inplace=True)\n",
    "\n",
    "df_insatisfacao['Atualmente qual a sua forma de trabalho?'].replace(\n",
    "        'Modelo híbrido flexível (o funcionário tem liberdade para escolher quando estar no escritório presencialmente)',\n",
    "        'Modelo híbrido flexível', inplace=True)\n",
    "\n",
    "df_insatisfacao['Atualmente qual a sua forma de trabalho?'].replace(\n",
    "        'Modelo híbrido com dias fixos de trabalho presencial',\n",
    "        'Modelo híbrido fixo', inplace=True)\n",
    "\n",
    "\n",
    "# Separando por gênero e reorganizando para plotagem\n",
    "data_f = df_insatisfacao.loc[df_insatisfacao['Genero']=='Feminino'].groupby('Atualmente qual a sua forma de trabalho?'\n",
    "                            )['Você está satisfeito na sua empresa atual?'].value_counts(normalize=True).unstack()\n",
    "data_f['Genero'] = 'Feminino'\n",
    "\n",
    "data_m = df_insatisfacao.loc[df_insatisfacao['Genero']=='Masculino'].groupby('Atualmente qual a sua forma de trabalho?'\n",
    "                            )['Você está satisfeito na sua empresa atual?'].value_counts(normalize=True).unstack()   \n",
    "data_m['Genero'] = 'Masculino'\n",
    "\n",
    "concat = pd.concat([data_f, data_m], axis=0)\n",
    "\n",
    "fig = px.bar(\n",
    "            concat, \n",
    "            barmode='stack', \n",
    "            color_discrete_sequence=[color_pal[2], color_pal[4]], \n",
    "            orientation='h',\n",
    "            facet_row='Genero',\n",
    "            labels={'Atualmente qual a sua forma de trabalho?': '',\n",
    "                    'Você está satisfeito na sua empresa atual?': ''}\n",
    "            )\n",
    "\n",
    "\n",
    "fig.update_layout(width=950, height=600,\n",
    "                  title_text='Modelo de trabalho x insatisfação',\n",
    "                  title_x=0.50,\n",
    "                  showlegend=True,\n",
    "                  plot_bgcolor='white',\n",
    "                  xaxis_visible=False, \n",
    "                  xaxis_showticklabels=False\n",
    "                  )\n",
    "\n",
    "\n",
    "fig.show()"
   ]
  },
  {
   "attachments": {},
   "cell_type": "markdown",
   "metadata": {},
   "source": [
    "Vemos que há uma maior concentração de insatisfação nos funcionários que atualmente seguem o modelo de trabalho 100% presencial para ambos os gêneros estudados."
   ]
  },
  {
   "attachments": {},
   "cell_type": "markdown",
   "metadata": {},
   "source": [
    "## Forma de trabalho ideal"
   ]
  },
  {
   "cell_type": "code",
   "execution_count": 23,
   "metadata": {},
   "outputs": [
    {
     "data": {
      "image/png": "[encoded data removed]",
      "text/plain": [
       "<Figure size 1000x500 with 1 Axes>"
      ]
     },
     "metadata": {},
     "output_type": "display_data"
    }
   ],
   "source": [
    "df_trabalho = df.groupby('Genero')['Qual a forma de trabalho ideal para você?'].value_counts(normalize=True).unstack()\n",
    "\n",
    "df_trabalho.pivot_table(columns='Genero')\n",
    "df_trabalho.rename(columns={'Modelo híbrido com dias fixos de trabalho presencial':'Modelo híbrido fixo',\n",
    "                    'Modelo híbrido flexível (o funcionário tem liberdade para escolher quando estar no escritório presencialmente)':\n",
    "                    'Modelo híbrido flexível'\n",
    "                    }, inplace=True)\n",
    "\n",
    "fig = df_trabalho.plot(kind='barh', figsize=(10, 5), color=color_pal)\n",
    "fig.title.set_text('Modelo de trabalho ideal por gênero (%)')\n",
    "plt.legend(loc='lower right', title='Forma de trabalho ideal')\n",
    "\n",
    "plt.draw()"
   ]
  },
  {
   "attachments": {},
   "cell_type": "markdown",
   "metadata": {},
   "source": [
    "Entre todos os entrevistados há uma preferência predominante pelo modelo híbrido flexível, seguida do 100% remoto. No caso do gênero feminino, a rejeição do modelo presencial e preferência pelo 100% remoto são ainda maiores."
   ]
  }
 ],
 "metadata": {
  "kernelspec": {
   "display_name": "Python 3",
   "language": "python",
   "name": "python3"
  },
  "language_info": {
   "codemirror_mode": {
    "name": "ipython",
    "version": 3
   },
   "file_extension": ".py",
   "mimetype": "text/x-python",
   "name": "python",
   "nbconvert_exporter": "python",
   "pygments_lexer": "ipython3",
   "version": "3.11.0"
  },
  "vscode": {
   "interpreter": {
    "hash": "82140a1aa5a84aa4d9d32cf34e5fd5db5e627ec5a5d97ca07fc290d34c86041e"
   }
  }
 },
 "nbformat": 4,
 "nbformat_minor": 2
}
