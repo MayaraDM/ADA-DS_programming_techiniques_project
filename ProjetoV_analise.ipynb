{
 "cells": [
  {
   "cell_type": "markdown",
   "metadata": {},
   "source": [
    "# State of Data 2021\n",
    "\n",
    "### Diferenças de gênero na área de Ciência de Dados"
   ]
  },
  {
   "cell_type": "markdown",
   "metadata": {},
   "source": [
    "#### Sugestões de análises:\n",
    "- Diferenças gerais entre homens x mulheres de diferentes regiões do país.\n",
    "    - idade\n",
    "    - escolaridade / área de formação\n",
    "    - experiência\n",
    "    - empregados/desempregados\n",
    "    - nível de cargo que ocupam\n",
    "    - remuneração\n",
    "    \n",
    "- Diferenças na satisfação do emprego\n",
    "- Forma de trabalho / ideal para entrevistado"
   ]
  },
  {
   "cell_type": "code",
   "execution_count": 2,
   "metadata": {},
   "outputs": [],
   "source": [
    "import pandas as pd\n",
    "from matplotlib import pyplot as plt\n",
    "import plotly.graph_objects as go\n",
    "from plotly.subplots import make_subplots\n",
    "import plotly.figure_factory as ff\n",
    "import seaborn as sns"
   ]
  },
  {
   "attachments": {},
   "cell_type": "markdown",
   "metadata": {},
   "source": [
    "A fazer:\n",
    "- Histograma idade (Marília já fez) separado por genero\n",
    "- boxplot de idade separado por genero (Mayara)\n",
    "\n",
    "- escolaridade entre homens e mulheres (Malu)\n",
    "\n",
    "- empregados x desempregados entre homens e mulheres (Malu)\n",
    "- cargo/senioridade entre homens e mulheres (Malu)\n",
    "- Variação de salário entre homens e mulheres por cargo/senioridade (Malu)\n",
    "- Diferenças na satisfação com o emprego (Ana)\n",
    "- Critérios para escolha do trabalho (Ana)"
   ]
  },
  {
   "cell_type": "code",
   "execution_count": 3,
   "metadata": {},
   "outputs": [
    {
     "name": "stdout",
     "output_type": "stream",
     "text": [
      "(2645, 44)\n"
     ]
    },
    {
     "data": {
      "text/html": [
       "<div>\n",
       "<style scoped>\n",
       "    .dataframe tbody tr th:only-of-type {\n",
       "        vertical-align: middle;\n",
       "    }\n",
       "\n",
       "    .dataframe tbody tr th {\n",
       "        vertical-align: top;\n",
       "    }\n",
       "\n",
       "    .dataframe thead th {\n",
       "        text-align: right;\n",
       "    }\n",
       "</style>\n",
       "<table border=\"1\" class=\"dataframe\">\n",
       "  <thead>\n",
       "    <tr style=\"text-align: right;\">\n",
       "      <th></th>\n",
       "      <th>id</th>\n",
       "      <th>Idade</th>\n",
       "      <th>Faixa idade</th>\n",
       "      <th>Genero</th>\n",
       "      <th>Regiao onde mora</th>\n",
       "      <th>Regiao de origem</th>\n",
       "      <th>Mudou de Estado?</th>\n",
       "      <th>Nivel de Ensino</th>\n",
       "      <th>Área de Formação</th>\n",
       "      <th>Qual sua situação atual de trabalho?</th>\n",
       "      <th>...</th>\n",
       "      <th>Flexibilidade de trabalho remoto</th>\n",
       "      <th>Ambiente e clima de trabalho</th>\n",
       "      <th>Oportunidade de aprendizado e trabalhar com referências na área</th>\n",
       "      <th>Plano de carreira e oportunidades de crescimento profissional</th>\n",
       "      <th>Maturidade da empresa em termos de tecnologia e dados</th>\n",
       "      <th>Qualidade dos gestores e líderes</th>\n",
       "      <th>Reputação que a empresa tem no mercado</th>\n",
       "      <th>Atualmente qual a sua forma de trabalho?</th>\n",
       "      <th>Qual a forma de trabalho ideal para você?</th>\n",
       "      <th>Caso sua empresa decida pelo modelo 100% presencial qual será sua atitude?</th>\n",
       "    </tr>\n",
       "  </thead>\n",
       "  <tbody>\n",
       "    <tr>\n",
       "      <th>0</th>\n",
       "      <td>qkx4q0ei90wcjxnqkx4q0j3xgf0zn13s</td>\n",
       "      <td>38.0</td>\n",
       "      <td>35-39</td>\n",
       "      <td>Masculino</td>\n",
       "      <td>Nordeste</td>\n",
       "      <td>Sudeste</td>\n",
       "      <td>0</td>\n",
       "      <td>Pós-graduação</td>\n",
       "      <td>Química / Física</td>\n",
       "      <td>Empregado (CLT)</td>\n",
       "      <td>...</td>\n",
       "      <td>0.0</td>\n",
       "      <td>0.0</td>\n",
       "      <td>0.0</td>\n",
       "      <td>0.0</td>\n",
       "      <td>0.0</td>\n",
       "      <td>0.0</td>\n",
       "      <td>0.0</td>\n",
       "      <td>Modelo 100% presencial</td>\n",
       "      <td>Modelo híbrido com dias fixos de trabalho pres...</td>\n",
       "      <td>Vou aceitar e retornar ao modelo 100% presencial.</td>\n",
       "    </tr>\n",
       "    <tr>\n",
       "      <th>1</th>\n",
       "      <td>zdl2n19yhgpnoaco6kkczdl2nwv9zwrt</td>\n",
       "      <td>39.0</td>\n",
       "      <td>35-39</td>\n",
       "      <td>Masculino</td>\n",
       "      <td>Nordeste</td>\n",
       "      <td>Sudeste</td>\n",
       "      <td>1</td>\n",
       "      <td>Pós-graduação</td>\n",
       "      <td>Economia/ Administração / Contabilidade / Fina...</td>\n",
       "      <td>Empreendedor ou Empregado (CNPJ)</td>\n",
       "      <td>...</td>\n",
       "      <td>1.0</td>\n",
       "      <td>0.0</td>\n",
       "      <td>0.0</td>\n",
       "      <td>0.0</td>\n",
       "      <td>0.0</td>\n",
       "      <td>0.0</td>\n",
       "      <td>0.0</td>\n",
       "      <td>Modelo híbrido flexível (o funcionário tem lib...</td>\n",
       "      <td>Modelo 100% remoto</td>\n",
       "      <td>Vou procurar outra oportunidade no modelo 100%...</td>\n",
       "    </tr>\n",
       "    <tr>\n",
       "      <th>2</th>\n",
       "      <td>vsamqp2un3q7us84mgvsams5fulsmcoh</td>\n",
       "      <td>30.0</td>\n",
       "      <td>30-34</td>\n",
       "      <td>Masculino</td>\n",
       "      <td>Sul</td>\n",
       "      <td>Sul</td>\n",
       "      <td>0</td>\n",
       "      <td>Pós-graduação</td>\n",
       "      <td>Computação / Engenharia de Software / Sistemas...</td>\n",
       "      <td>Empregado (CLT)</td>\n",
       "      <td>...</td>\n",
       "      <td>0.0</td>\n",
       "      <td>0.0</td>\n",
       "      <td>1.0</td>\n",
       "      <td>0.0</td>\n",
       "      <td>0.0</td>\n",
       "      <td>0.0</td>\n",
       "      <td>0.0</td>\n",
       "      <td>Modelo 100% presencial</td>\n",
       "      <td>Modelo 100% remoto</td>\n",
       "      <td>Vou procurar outra oportunidade no modelo híbr...</td>\n",
       "    </tr>\n",
       "    <tr>\n",
       "      <th>3</th>\n",
       "      <td>v31ab41botodnsv31zgg4k34zzojy81l</td>\n",
       "      <td>38.0</td>\n",
       "      <td>35-39</td>\n",
       "      <td>Feminino</td>\n",
       "      <td>Sudeste</td>\n",
       "      <td>Sul</td>\n",
       "      <td>0</td>\n",
       "      <td>Pós-graduação</td>\n",
       "      <td>Outras</td>\n",
       "      <td>Empreendedor ou Empregado (CNPJ)</td>\n",
       "      <td>...</td>\n",
       "      <td>1.0</td>\n",
       "      <td>0.0</td>\n",
       "      <td>0.0</td>\n",
       "      <td>0.0</td>\n",
       "      <td>0.0</td>\n",
       "      <td>0.0</td>\n",
       "      <td>0.0</td>\n",
       "      <td>Modelo 100% presencial</td>\n",
       "      <td>Modelo híbrido com dias fixos de trabalho pres...</td>\n",
       "      <td>Vou procurar outra oportunidade no modelo híbr...</td>\n",
       "    </tr>\n",
       "    <tr>\n",
       "      <th>4</th>\n",
       "      <td>ubhu8ntvm4xc0sfkdubhu80e973eek0k</td>\n",
       "      <td>36.0</td>\n",
       "      <td>35-39</td>\n",
       "      <td>Masculino</td>\n",
       "      <td>Sul</td>\n",
       "      <td>Sul</td>\n",
       "      <td>0</td>\n",
       "      <td>Pós-graduação</td>\n",
       "      <td>Outras Engenharias</td>\n",
       "      <td>Empreendedor ou Empregado (CNPJ)</td>\n",
       "      <td>...</td>\n",
       "      <td>0.0</td>\n",
       "      <td>0.0</td>\n",
       "      <td>0.0</td>\n",
       "      <td>0.0</td>\n",
       "      <td>1.0</td>\n",
       "      <td>0.0</td>\n",
       "      <td>0.0</td>\n",
       "      <td>Modelo 100% presencial</td>\n",
       "      <td>Modelo 100% remoto</td>\n",
       "      <td>Vou procurar outra oportunidade no modelo 100%...</td>\n",
       "    </tr>\n",
       "  </tbody>\n",
       "</table>\n",
       "<p>5 rows × 44 columns</p>\n",
       "</div>"
      ],
      "text/plain": [
       "                                 id  Idade Faixa idade     Genero  \\\n",
       "0  qkx4q0ei90wcjxnqkx4q0j3xgf0zn13s   38.0       35-39  Masculino   \n",
       "1  zdl2n19yhgpnoaco6kkczdl2nwv9zwrt   39.0       35-39  Masculino   \n",
       "2  vsamqp2un3q7us84mgvsams5fulsmcoh   30.0       30-34  Masculino   \n",
       "3  v31ab41botodnsv31zgg4k34zzojy81l   38.0       35-39   Feminino   \n",
       "4  ubhu8ntvm4xc0sfkdubhu80e973eek0k   36.0       35-39  Masculino   \n",
       "\n",
       "  Regiao onde mora Regiao de origem  Mudou de Estado? Nivel de Ensino  \\\n",
       "0         Nordeste          Sudeste                 0   Pós-graduação   \n",
       "1         Nordeste          Sudeste                 1   Pós-graduação   \n",
       "2              Sul              Sul                 0   Pós-graduação   \n",
       "3          Sudeste              Sul                 0   Pós-graduação   \n",
       "4              Sul              Sul                 0   Pós-graduação   \n",
       "\n",
       "                                    Área de Formação  \\\n",
       "0                                   Química / Física   \n",
       "1  Economia/ Administração / Contabilidade / Fina...   \n",
       "2  Computação / Engenharia de Software / Sistemas...   \n",
       "3                                             Outras   \n",
       "4                                 Outras Engenharias   \n",
       "\n",
       "  Qual sua situação atual de trabalho?  ... Flexibilidade de trabalho remoto  \\\n",
       "0                      Empregado (CLT)  ...                              0.0   \n",
       "1     Empreendedor ou Empregado (CNPJ)  ...                              1.0   \n",
       "2                      Empregado (CLT)  ...                              0.0   \n",
       "3     Empreendedor ou Empregado (CNPJ)  ...                              1.0   \n",
       "4     Empreendedor ou Empregado (CNPJ)  ...                              0.0   \n",
       "\n",
       "  Ambiente e clima de trabalho  \\\n",
       "0                          0.0   \n",
       "1                          0.0   \n",
       "2                          0.0   \n",
       "3                          0.0   \n",
       "4                          0.0   \n",
       "\n",
       "   Oportunidade de aprendizado e trabalhar com referências na área  \\\n",
       "0                                                0.0                 \n",
       "1                                                0.0                 \n",
       "2                                                1.0                 \n",
       "3                                                0.0                 \n",
       "4                                                0.0                 \n",
       "\n",
       "  Plano de carreira e oportunidades de crescimento profissional  \\\n",
       "0                                                0.0              \n",
       "1                                                0.0              \n",
       "2                                                0.0              \n",
       "3                                                0.0              \n",
       "4                                                0.0              \n",
       "\n",
       "  Maturidade da empresa em termos de tecnologia e dados  \\\n",
       "0                                                0.0      \n",
       "1                                                0.0      \n",
       "2                                                0.0      \n",
       "3                                                0.0      \n",
       "4                                                1.0      \n",
       "\n",
       "  Qualidade dos gestores e líderes Reputação que a empresa tem no mercado  \\\n",
       "0                              0.0                                    0.0   \n",
       "1                              0.0                                    0.0   \n",
       "2                              0.0                                    0.0   \n",
       "3                              0.0                                    0.0   \n",
       "4                              0.0                                    0.0   \n",
       "\n",
       "            Atualmente qual a sua forma de trabalho?  \\\n",
       "0                             Modelo 100% presencial   \n",
       "1  Modelo híbrido flexível (o funcionário tem lib...   \n",
       "2                             Modelo 100% presencial   \n",
       "3                             Modelo 100% presencial   \n",
       "4                             Modelo 100% presencial   \n",
       "\n",
       "           Qual a forma de trabalho ideal para você?  \\\n",
       "0  Modelo híbrido com dias fixos de trabalho pres...   \n",
       "1                                 Modelo 100% remoto   \n",
       "2                                 Modelo 100% remoto   \n",
       "3  Modelo híbrido com dias fixos de trabalho pres...   \n",
       "4                                 Modelo 100% remoto   \n",
       "\n",
       "   Caso sua empresa decida pelo modelo 100% presencial qual será sua atitude?  \n",
       "0  Vou aceitar e retornar ao modelo 100% presencial.                           \n",
       "1  Vou procurar outra oportunidade no modelo 100%...                           \n",
       "2  Vou procurar outra oportunidade no modelo híbr...                           \n",
       "3  Vou procurar outra oportunidade no modelo híbr...                           \n",
       "4  Vou procurar outra oportunidade no modelo 100%...                           \n",
       "\n",
       "[5 rows x 44 columns]"
      ]
     },
     "execution_count": 3,
     "metadata": {},
     "output_type": "execute_result"
    }
   ],
   "source": [
    "df = pd.read_csv('state_of_data_tradado.csv')\n",
    "print(df.shape)\n",
    "df.head()"
   ]
  },
  {
   "cell_type": "code",
   "execution_count": 36,
   "metadata": {},
   "outputs": [
    {
     "data": {
      "text/plain": [
       "Masculino    2144\n",
       "Feminino      493\n",
       "Outro           8\n",
       "Name: Genero, dtype: int64"
      ]
     },
     "execution_count": 36,
     "metadata": {},
     "output_type": "execute_result"
    }
   ],
   "source": [
    "df['Genero'].value_counts()"
   ]
  },
  {
   "attachments": {},
   "cell_type": "markdown",
   "metadata": {},
   "source": [
    "- Genero \"Outros\" foi filtrado dos gráficos de histograma e boxplot devido a baixa amostragem."
   ]
  },
  {
   "cell_type": "code",
   "execution_count": 34,
   "metadata": {},
   "outputs": [
    {
     "data": {
      "text/plain": [
       "<Axes: xlabel='Idade', ylabel='Count'>"
      ]
     },
     "execution_count": 34,
     "metadata": {},
     "output_type": "execute_result"
    },
    {
     "data": {
      "image/png": "[encoded data removed]",
      "text/plain": [
       "<Figure size 640x480 with 1 Axes>"
      ]
     },
     "metadata": {},
     "output_type": "display_data"
    }
   ],
   "source": [
    "# sns.barplot(df_col_fitro, cmap='viridis', annot=True)\n",
    "idade_genero = df.loc[df['Genero']!='Outro', ['Idade', 'Genero']]\n",
    "\n",
    "sns.histplot(idade_genero,\n",
    "             x=\"Idade\", hue=\"Genero\",\n",
    "             linewidth = 0.2)"
   ]
  },
  {
   "cell_type": "code",
   "execution_count": 35,
   "metadata": {},
   "outputs": [
    {
     "data": {
      "text/plain": [
       "<Axes: xlabel='Idade', ylabel='Genero'>"
      ]
     },
     "execution_count": 35,
     "metadata": {},
     "output_type": "execute_result"
    },
    {
     "data": {
      "image/png": "[encoded data removed]",
      "text/plain": [
       "<Figure size 640x480 with 1 Axes>"
      ]
     },
     "metadata": {},
     "output_type": "display_data"
    }
   ],
   "source": [
    "sns.boxplot(idade_genero,\n",
    "            x='Idade', y='Genero',\n",
    "            linewidth = 0.5,\n",
    "            fliersize=2.5)"
   ]
  },
  {
   "cell_type": "markdown",
   "metadata": {},
   "source": []
  },
  {
   "attachments": {},
   "cell_type": "markdown",
   "metadata": {},
   "source": [
    "- Salário"
   ]
  },
  {
   "cell_type": "code",
   "execution_count": null,
   "metadata": {},
   "outputs": [],
   "source": []
  },
  {
   "attachments": {},
   "cell_type": "markdown",
   "metadata": {},
   "source": [
    "## Insatisfação com a empresa onde trabalha atualmente."
   ]
  },
  {
   "attachments": {},
   "cell_type": "markdown",
   "metadata": {},
   "source": [
    "### Nível geral de insatisfação"
   ]
  },
  {
   "cell_type": "code",
   "execution_count": 5,
   "metadata": {},
   "outputs": [],
   "source": [
    "# Dividindo dataset para uso nas análises.\n",
    "\n",
    "df_fem = df.loc[df['Genero'] == 'Feminino']\n",
    "df_masc = df.loc[df['Genero'] == 'Masculino']\n",
    "df_outros = df.loc[df['Genero'] == 'Outro']"
   ]
  },
  {
   "cell_type": "code",
   "execution_count": 37,
   "metadata": {},
   "outputs": [],
   "source": [
    "paleta = ['rgb(36, 55, 99)', \n",
    "        'rgb(255, 110, 49)',\n",
    "        'rgb(255, 235, 183)',\n",
    "        'rgb(173, 142, 112)',]\n",
    "\n",
    "fonte = {'family': \"Roboto, monospace\",\n",
    "        'size': 20,\n",
    "        'color': 'rgb(84, 3, 117)'}"
   ]
  },
  {
   "cell_type": "code",
   "execution_count": 7,
   "metadata": {},
   "outputs": [
    {
     "ename": "ValueError",
     "evalue": "Mime type rendering requires nbformat>=4.2.0 but it is not installed",
     "output_type": "error",
     "traceback": [
      "\u001b[1;31m---------------------------------------------------------------------------\u001b[0m",
      "\u001b[1;31mValueError\u001b[0m                                Traceback (most recent call last)",
      "Cell \u001b[1;32mIn[7], line 25\u001b[0m\n\u001b[0;32m     22\u001b[0m fig\u001b[39m.\u001b[39mupdate_layout(title\u001b[39m=\u001b[39mtitle, width\u001b[39m=\u001b[39m\u001b[39m1500\u001b[39m, height\u001b[39m=\u001b[39m\u001b[39m600\u001b[39m, font\u001b[39m=\u001b[39mfonte)\n\u001b[0;32m     23\u001b[0m fig\u001b[39m.\u001b[39mupdate_traces(textfont_size\u001b[39m=\u001b[39m\u001b[39m20\u001b[39m, marker_colors\u001b[39m=\u001b[39mpaleta)\n\u001b[1;32m---> 25\u001b[0m fig\u001b[39m.\u001b[39;49mshow()\n",
      "File \u001b[1;32mc:\\Users\\mayar\\AppData\\Local\\Programs\\Python\\Python311\\Lib\\site-packages\\plotly\\basedatatypes.py:3390\u001b[0m, in \u001b[0;36mBaseFigure.show\u001b[1;34m(self, *args, **kwargs)\u001b[0m\n\u001b[0;32m   3357\u001b[0m \u001b[39m\u001b[39m\u001b[39m\"\"\"\u001b[39;00m\n\u001b[0;32m   3358\u001b[0m \u001b[39mShow a figure using either the default renderer(s) or the renderer(s)\u001b[39;00m\n\u001b[0;32m   3359\u001b[0m \u001b[39mspecified by the renderer argument\u001b[39;00m\n\u001b[1;32m   (...)\u001b[0m\n\u001b[0;32m   3386\u001b[0m \u001b[39mNone\u001b[39;00m\n\u001b[0;32m   3387\u001b[0m \u001b[39m\"\"\"\u001b[39;00m\n\u001b[0;32m   3388\u001b[0m \u001b[39mimport\u001b[39;00m \u001b[39mplotly\u001b[39;00m\u001b[39m.\u001b[39;00m\u001b[39mio\u001b[39;00m \u001b[39mas\u001b[39;00m \u001b[39mpio\u001b[39;00m\n\u001b[1;32m-> 3390\u001b[0m \u001b[39mreturn\u001b[39;00m pio\u001b[39m.\u001b[39;49mshow(\u001b[39mself\u001b[39;49m, \u001b[39m*\u001b[39;49margs, \u001b[39m*\u001b[39;49m\u001b[39m*\u001b[39;49mkwargs)\n",
      "File \u001b[1;32mc:\\Users\\mayar\\AppData\\Local\\Programs\\Python\\Python311\\Lib\\site-packages\\plotly\\io\\_renderers.py:396\u001b[0m, in \u001b[0;36mshow\u001b[1;34m(fig, renderer, validate, **kwargs)\u001b[0m\n\u001b[0;32m    391\u001b[0m         \u001b[39mraise\u001b[39;00m \u001b[39mValueError\u001b[39;00m(\n\u001b[0;32m    392\u001b[0m             \u001b[39m\"\u001b[39m\u001b[39mMime type rendering requires ipython but it is not installed\u001b[39m\u001b[39m\"\u001b[39m\n\u001b[0;32m    393\u001b[0m         )\n\u001b[0;32m    395\u001b[0m     \u001b[39mif\u001b[39;00m \u001b[39mnot\u001b[39;00m nbformat \u001b[39mor\u001b[39;00m Version(nbformat\u001b[39m.\u001b[39m__version__) \u001b[39m<\u001b[39m Version(\u001b[39m\"\u001b[39m\u001b[39m4.2.0\u001b[39m\u001b[39m\"\u001b[39m):\n\u001b[1;32m--> 396\u001b[0m         \u001b[39mraise\u001b[39;00m \u001b[39mValueError\u001b[39;00m(\n\u001b[0;32m    397\u001b[0m             \u001b[39m\"\u001b[39m\u001b[39mMime type rendering requires nbformat>=4.2.0 but it is not installed\u001b[39m\u001b[39m\"\u001b[39m\n\u001b[0;32m    398\u001b[0m         )\n\u001b[0;32m    400\u001b[0m     ipython_display\u001b[39m.\u001b[39mdisplay(bundle, raw\u001b[39m=\u001b[39m\u001b[39mTrue\u001b[39;00m)\n\u001b[0;32m    402\u001b[0m \u001b[39m# external renderers\u001b[39;00m\n",
      "\u001b[1;31mValueError\u001b[0m: Mime type rendering requires nbformat>=4.2.0 but it is not installed"
     ]
    }
   ],
   "source": [
    "title={'text': 'Você está satisfeito com sua empresa atual?',\n",
    "       'y':0.95,\n",
    "       'x':0.5,\n",
    "       'xanchor': 'center',\n",
    "       'yanchor': 'top'}\n",
    "\n",
    "\n",
    "sat_fem = len(df_fem.loc[df_fem['Você está satisfeito na sua empresa atual?'] == 1.0])\n",
    "insat_fem = len(df_fem.loc[df_fem['Você está satisfeito na sua empresa atual?'] == 0.0])\n",
    "\n",
    "sat_masc = len(df_masc.loc[df_masc['Você está satisfeito na sua empresa atual?'] == 1.0])\n",
    "insat_masc = len(df_masc.loc[df_masc['Você está satisfeito na sua empresa atual?'] == 0.0])\n",
    "\n",
    "labels = ['Satisfeitos','Insatisfeitos']\n",
    "values_f = [sat_fem , insat_fem]\n",
    "values_m = [sat_masc, insat_masc]\n",
    "\n",
    "fig = make_subplots(rows=1, cols=2, specs=[[{'type':'domain'}, {'type':'domain'}]], subplot_titles=['Mulheres', 'Homens'])\n",
    "\n",
    "fig.add_trace(go.Pie(labels=labels, values=values_f, name='Nível de satisfação com a empresa entre mulheres'), 1, 1)\n",
    "fig.add_trace(go.Pie(labels=labels, values=values_m, name='Nível de satisfação com a empresa entre homens'), 1, 2)\n",
    "fig.update_layout(title=title, width=1500, height=600, font=fonte)\n",
    "fig.update_traces(textfont_size=20, marker_colors=paleta)\n",
    "\n",
    "fig.show()"
   ]
  },
  {
   "attachments": {},
   "cell_type": "markdown",
   "metadata": {},
   "source": [
    "### Principais motivos de insatisfação."
   ]
  },
  {
   "cell_type": "code",
   "execution_count": 38,
   "metadata": {},
   "outputs": [
    {
     "ename": "ValueError",
     "evalue": "Mime type rendering requires nbformat>=4.2.0 but it is not installed",
     "output_type": "error",
     "traceback": [
      "\u001b[1;31m---------------------------------------------------------------------------\u001b[0m",
      "\u001b[1;31mValueError\u001b[0m                                Traceback (most recent call last)",
      "Cell \u001b[1;32mIn[38], line 70\u001b[0m\n\u001b[0;32m     67\u001b[0m fig\u001b[39m.\u001b[39mupdate_layout(width\u001b[39m=\u001b[39m\u001b[39m1600\u001b[39m, height\u001b[39m=\u001b[39m\u001b[39m800\u001b[39m, font\u001b[39m=\u001b[39mfonte)\n\u001b[0;32m     69\u001b[0m fig\u001b[39m.\u001b[39mupdate_layout(uniformtext_minsize\u001b[39m=\u001b[39m\u001b[39m20\u001b[39m)\n\u001b[1;32m---> 70\u001b[0m fig\u001b[39m.\u001b[39;49mshow()\n",
      "File \u001b[1;32mc:\\Users\\mayar\\AppData\\Local\\Programs\\Python\\Python311\\Lib\\site-packages\\plotly\\basedatatypes.py:3390\u001b[0m, in \u001b[0;36mBaseFigure.show\u001b[1;34m(self, *args, **kwargs)\u001b[0m\n\u001b[0;32m   3357\u001b[0m \u001b[39m\u001b[39m\u001b[39m\"\"\"\u001b[39;00m\n\u001b[0;32m   3358\u001b[0m \u001b[39mShow a figure using either the default renderer(s) or the renderer(s)\u001b[39;00m\n\u001b[0;32m   3359\u001b[0m \u001b[39mspecified by the renderer argument\u001b[39;00m\n\u001b[1;32m   (...)\u001b[0m\n\u001b[0;32m   3386\u001b[0m \u001b[39mNone\u001b[39;00m\n\u001b[0;32m   3387\u001b[0m \u001b[39m\"\"\"\u001b[39;00m\n\u001b[0;32m   3388\u001b[0m \u001b[39mimport\u001b[39;00m \u001b[39mplotly\u001b[39;00m\u001b[39m.\u001b[39;00m\u001b[39mio\u001b[39;00m \u001b[39mas\u001b[39;00m \u001b[39mpio\u001b[39;00m\n\u001b[1;32m-> 3390\u001b[0m \u001b[39mreturn\u001b[39;00m pio\u001b[39m.\u001b[39;49mshow(\u001b[39mself\u001b[39;49m, \u001b[39m*\u001b[39;49margs, \u001b[39m*\u001b[39;49m\u001b[39m*\u001b[39;49mkwargs)\n",
      "File \u001b[1;32mc:\\Users\\mayar\\AppData\\Local\\Programs\\Python\\Python311\\Lib\\site-packages\\plotly\\io\\_renderers.py:396\u001b[0m, in \u001b[0;36mshow\u001b[1;34m(fig, renderer, validate, **kwargs)\u001b[0m\n\u001b[0;32m    391\u001b[0m         \u001b[39mraise\u001b[39;00m \u001b[39mValueError\u001b[39;00m(\n\u001b[0;32m    392\u001b[0m             \u001b[39m\"\u001b[39m\u001b[39mMime type rendering requires ipython but it is not installed\u001b[39m\u001b[39m\"\u001b[39m\n\u001b[0;32m    393\u001b[0m         )\n\u001b[0;32m    395\u001b[0m     \u001b[39mif\u001b[39;00m \u001b[39mnot\u001b[39;00m nbformat \u001b[39mor\u001b[39;00m Version(nbformat\u001b[39m.\u001b[39m__version__) \u001b[39m<\u001b[39m Version(\u001b[39m\"\u001b[39m\u001b[39m4.2.0\u001b[39m\u001b[39m\"\u001b[39m):\n\u001b[1;32m--> 396\u001b[0m         \u001b[39mraise\u001b[39;00m \u001b[39mValueError\u001b[39;00m(\n\u001b[0;32m    397\u001b[0m             \u001b[39m\"\u001b[39m\u001b[39mMime type rendering requires nbformat>=4.2.0 but it is not installed\u001b[39m\u001b[39m\"\u001b[39m\n\u001b[0;32m    398\u001b[0m         )\n\u001b[0;32m    400\u001b[0m     ipython_display\u001b[39m.\u001b[39mdisplay(bundle, raw\u001b[39m=\u001b[39m\u001b[39mTrue\u001b[39;00m)\n\u001b[0;32m    402\u001b[0m \u001b[39m# external renderers\u001b[39;00m\n",
      "\u001b[1;31mValueError\u001b[0m: Mime type rendering requires nbformat>=4.2.0 but it is not installed"
     ]
    }
   ],
   "source": [
    "columns = ['Falta de oportunidade de crescimento no emprego atual',\n",
    " 'Salário atual não corresponde ao mercado',\n",
    " 'Não tenho uma boa relação com meu líder/gestor',\n",
    " 'Gostaria de trabalhar em em outra área de atuação',\n",
    " 'Gostaria de receber mais benefícios',\n",
    " 'O clima de trabalho/ambiente não é bom',\n",
    " 'Falta de maturidade analítica na empresa']\n",
    "\n",
    "labels = ['Falta de oportunidade de crescimento',\n",
    " 'Salário não corresponde ao mercado',\n",
    " 'Não tenho uma boa relação com meu gestor',\n",
    " 'Gostaria de trabalhar em em outra área',\n",
    " 'Gostaria de receber mais benefícios',\n",
    " 'O clima de trabalho/ambiente não é bom',\n",
    " 'Falta de maturidade analítica na empresa']\n",
    "\n",
    "values_fem = []\n",
    "values_masc = []\n",
    "\n",
    "for column in columns:  \n",
    "    values_fem.append(\n",
    "        df_fem.loc[\n",
    "            df_fem[column]>=0, [column]].value_counts(normalize=True)[1.0]\n",
    "        )\n",
    "    values_masc.append(\n",
    "        df_masc.loc[\n",
    "            df_masc[column]>=0, [column]].value_counts(normalize=True)[1.0]\n",
    "        )\n",
    "    \n",
    "fig = go.Figure()\n",
    "\n",
    "\n",
    "title={'text': 'Motivos de insatisfação com a empresa atual.',\n",
    "       'y':0.95,\n",
    "       'x':0.5,\n",
    "       'xanchor': 'center',\n",
    "       'yanchor': 'top'}\n",
    "\n",
    "fonte = {'family': \"Roboto, monospace\",\n",
    "        'size': 15,\n",
    "        'color': 'rgb(84, 3, 117)'}\n",
    "\n",
    "fig.add_trace(go.Bar(\n",
    "    x=labels,\n",
    "    y=values_fem,\n",
    "    xaxis='x2', \n",
    "    yaxis='y2',\n",
    "    name='Mulheres',\n",
    "    marker_color='rgb(255, 110, 49)'\n",
    "))\n",
    "\n",
    "fig.add_trace(go.Bar(\n",
    "    x=labels,\n",
    "    y=values_masc,\n",
    "    xaxis='x2', \n",
    "    yaxis='y2',\n",
    "    name='Homens',\n",
    "    marker_color='rgb(36, 55, 99)'\n",
    "))\n",
    "\n",
    "fig['layout']['yaxis2'] = {}\n",
    "\n",
    "fig.layout.yaxis2.update({'title': 'Valor proporcional'})\n",
    "fig.layout.margin.update({'t':100, 'l':100})\n",
    "\n",
    "fig.update_layout(title=title, barmode='group', xaxis_tickangle=-45)\n",
    "fig.update_layout(width=1600, height=800, font=fonte)\n",
    "\n",
    "fig.update_layout(uniformtext_minsize=20)\n",
    "fig.show()"
   ]
  },
  {
   "attachments": {},
   "cell_type": "markdown",
   "metadata": {},
   "source": [
    "### Critérios para escolha do trabalho"
   ]
  },
  {
   "cell_type": "code",
   "execution_count": null,
   "metadata": {},
   "outputs": [],
   "source": [
    "questao2 = ['Quais os principais critérios que você leva em consideração no momento de decidir onde trabalhar?',\n",
    " 'Remuneração/Salário',\n",
    " 'Benefícios',\n",
    " 'Propósito do trabalho e da empresa',\n",
    " 'Flexibilidade de trabalho remoto',\n",
    " 'Ambiente e clima de trabalho',\n",
    " 'Oportunidade de aprendizado e trabalhar com referências na área',\n",
    " 'Plano de carreira e oportunidades de crescimento profissional',\n",
    " 'Maturidade da empresa em termos de tecnologia e dados',\n",
    " 'Qualidade dos gestores e líderes',\n",
    " 'Reputação que a empresa tem no mercado']"
   ]
  }
 ],
 "metadata": {
  "kernelspec": {
   "display_name": "Python 3 (ipykernel)",
   "language": "python",
   "name": "python3"
  },
  "language_info": {
   "codemirror_mode": {
    "name": "ipython",
    "version": 3
   },
   "file_extension": ".py",
   "mimetype": "text/x-python",
   "name": "python",
   "nbconvert_exporter": "python",
   "pygments_lexer": "ipython3",
   "version": "3.11.0"
  }
 },
 "nbformat": 4,
 "nbformat_minor": 2
}
